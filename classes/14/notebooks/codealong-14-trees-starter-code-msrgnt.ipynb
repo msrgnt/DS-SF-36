{
 "cells": [
  {
   "cell_type": "markdown",
   "metadata": {},
   "source": [
    "# DS-SF-36 | 14 | Trees | Codealong | Starter Code"
   ]
  },
  {
   "cell_type": "code",
   "execution_count": 59,
   "metadata": {
    "collapsed": true
   },
   "outputs": [],
   "source": [
    "import os\n",
    "\n",
    "import pandas as pd\n",
    "pd.set_option('display.max_rows', 10)\n",
    "pd.set_option('display.notebook_repr_html', True)\n",
    "pd.set_option('display.max_columns', 10)\n",
    "\n",
    "import math"
   ]
  },
  {
   "cell_type": "markdown",
   "metadata": {},
   "source": [
    "## Part A | The 2008 Democratic Primaries"
   ]
  },
  {
   "cell_type": "markdown",
   "metadata": {},
   "source": [
    "(dataset adapted from http://www.stat.ucla.edu/~cocteau/primaries.csv)"
   ]
  },
  {
   "cell_type": "code",
   "execution_count": 2,
   "metadata": {
    "collapsed": true
   },
   "outputs": [],
   "source": [
    "df = pd.read_csv(os.path.join('..', 'datasets', 'dataset-14-2008-democrat-primaries.csv'))"
   ]
  },
  {
   "cell_type": "code",
   "execution_count": 4,
   "metadata": {},
   "outputs": [
    {
     "data": {
      "text/plain": [
       "Index([u'fips', u'county_name', u'state_postal', u'region', u'election_date',\n",
       "       u'racetype', u'tvotes', u'clinton', u'obama', u'edwards', u'margin',\n",
       "       u'winner', u'POP05_SQMI', u'popUnder30_00', u'pop65up_00',\n",
       "       u'presVote04', u'kerry04', u'Bush04', u'pres04margin', u'pres04winner',\n",
       "       u'pop06', u'pop00', u'hisp06', u'white06', u'black06', u'indian06',\n",
       "       u'asian06', u'hawaii06', u'mixed06', u'pct_less_30k', u'pct_more_100k',\n",
       "       u'pct_hs_grad', u'pct_labor_force', u'pct_homeowner', u'unempFeb07',\n",
       "       u'unempFeb08', u'unempChg', u'pctUnins00', u'subForPctHomes',\n",
       "       u'poverty05', u'median_hhi05', u'Catholic', u'So.Bapt.Conv',\n",
       "       u'Un.Methodist', u'E.L.C.A.', u'Construction', u'Manufacturing',\n",
       "       u'FinancialActivities', u'GoodsProducing', u'ServiceProviding'],\n",
       "      dtype='object')"
      ]
     },
     "execution_count": 4,
     "metadata": {},
     "output_type": "execute_result"
    }
   ],
   "source": [
    "df.columns\n",
    "#all the features"
   ]
  },
  {
   "cell_type": "code",
   "execution_count": 13,
   "metadata": {},
   "outputs": [
    {
     "data": {
      "text/plain": [
       "clinton    1210\n",
       "obama      1031\n",
       "NaN          20\n",
       "Name: winner, dtype: int64"
      ]
     },
     "execution_count": 13,
     "metadata": {},
     "output_type": "execute_result"
    }
   ],
   "source": [
    "df.winner.value_counts(dropna = False)"
   ]
  },
  {
   "cell_type": "code",
   "execution_count": 14,
   "metadata": {
    "collapsed": true
   },
   "outputs": [],
   "source": [
    "df['c'] = (df.winner == 'obama')"
   ]
  },
  {
   "cell_type": "code",
   "execution_count": 15,
   "metadata": {},
   "outputs": [
    {
     "data": {
      "text/plain": [
       "0        True\n",
       "1       False\n",
       "2        True\n",
       "3       False\n",
       "4       False\n",
       "        ...  \n",
       "2256    False\n",
       "2257     True\n",
       "2258     True\n",
       "2259     True\n",
       "2260    False\n",
       "Name: c, Length: 2261, dtype: bool"
      ]
     },
     "execution_count": 15,
     "metadata": {},
     "output_type": "execute_result"
    }
   ],
   "source": [
    "df.c"
   ]
  },
  {
   "cell_type": "code",
   "execution_count": 16,
   "metadata": {
    "collapsed": true
   },
   "outputs": [],
   "source": [
    "df['c'] = (df.winner == 'obama') * 1.0"
   ]
  },
  {
   "cell_type": "code",
   "execution_count": null,
   "metadata": {
    "collapsed": true
   },
   "outputs": [],
   "source": [
    "#c is for the class we want to predict"
   ]
  },
  {
   "cell_type": "code",
   "execution_count": 17,
   "metadata": {},
   "outputs": [
    {
     "data": {
      "text/plain": [
       "0       1.0\n",
       "1       0.0\n",
       "2       1.0\n",
       "3       0.0\n",
       "4       0.0\n",
       "       ... \n",
       "2256    0.0\n",
       "2257    1.0\n",
       "2258    1.0\n",
       "2259    1.0\n",
       "2260    0.0\n",
       "Name: c, Length: 2261, dtype: float64"
      ]
     },
     "execution_count": 17,
     "metadata": {},
     "output_type": "execute_result"
    }
   ],
   "source": [
    "df.c"
   ]
  },
  {
   "cell_type": "markdown",
   "metadata": {},
   "source": [
    "### First cut: Is a county more than 20% black?"
   ]
  },
  {
   "cell_type": "code",
   "execution_count": 25,
   "metadata": {},
   "outputs": [],
   "source": [
    "#this is feature engineering\n",
    "#must use this format to create or else pandas doens't like it\n",
    "df['pct_black06'] = df.black06 / df.pop06 * 100"
   ]
  },
  {
   "cell_type": "code",
   "execution_count": 26,
   "metadata": {},
   "outputs": [
    {
     "data": {
      "text/plain": [
       "Index([u'fips', u'county_name', u'state_postal', u'region', u'election_date',\n",
       "       u'racetype', u'tvotes', u'clinton', u'obama', u'edwards', u'margin',\n",
       "       u'winner', u'POP05_SQMI', u'popUnder30_00', u'pop65up_00',\n",
       "       u'presVote04', u'kerry04', u'Bush04', u'pres04margin', u'pres04winner',\n",
       "       u'pop06', u'pop00', u'hisp06', u'white06', u'black06', u'indian06',\n",
       "       u'asian06', u'hawaii06', u'mixed06', u'pct_less_30k', u'pct_more_100k',\n",
       "       u'pct_hs_grad', u'pct_labor_force', u'pct_homeowner', u'unempFeb07',\n",
       "       u'unempFeb08', u'unempChg', u'pctUnins00', u'subForPctHomes',\n",
       "       u'poverty05', u'median_hhi05', u'Catholic', u'So.Bapt.Conv',\n",
       "       u'Un.Methodist', u'E.L.C.A.', u'Construction', u'Manufacturing',\n",
       "       u'FinancialActivities', u'GoodsProducing', u'ServiceProviding', u'c',\n",
       "       u'pct_black06'],\n",
       "      dtype='object')"
      ]
     },
     "execution_count": 26,
     "metadata": {},
     "output_type": "execute_result"
    }
   ],
   "source": [
    "df.columns"
   ]
  },
  {
   "cell_type": "code",
   "execution_count": 28,
   "metadata": {
    "collapsed": true
   },
   "outputs": [],
   "source": [
    "#let's create a root dataset\n",
    "parent_df = df"
   ]
  },
  {
   "cell_type": "code",
   "execution_count": 31,
   "metadata": {},
   "outputs": [],
   "source": [
    "left_child_df = parent_df[parent_df.pct_black06 <= 20]"
   ]
  },
  {
   "cell_type": "code",
   "execution_count": 35,
   "metadata": {},
   "outputs": [],
   "source": [
    "right_child_df = parent_df[parent_df.pct_black06 > 20]\n",
    "\n",
    "#this is cumbersome and error-prone. Better way to do this below:"
   ]
  },
  {
   "cell_type": "code",
   "execution_count": 37,
   "metadata": {
    "collapsed": true
   },
   "outputs": [],
   "source": [
    "right_child_df = parent_df.drop(left_child_df.index)"
   ]
  },
  {
   "cell_type": "code",
   "execution_count": 41,
   "metadata": {},
   "outputs": [
    {
     "data": {
      "text/plain": [
       "Int64Index([   2,    3,    5,    6,    8,   11,   12,   17,   18,   20,\n",
       "            ...\n",
       "            2107, 2110, 2111, 2112, 2114, 2116, 2118, 2119, 2122, 2206],\n",
       "           dtype='int64', length=451)"
      ]
     },
     "execution_count": 41,
     "metadata": {},
     "output_type": "execute_result"
    }
   ],
   "source": [
    "right_child_df.index"
   ]
  },
  {
   "cell_type": "code",
   "execution_count": 43,
   "metadata": {},
   "outputs": [
    {
     "data": {
      "text/plain": [
       "Int64Index([   0,    1,    4,    7,    9,   10,   13,   14,   15,   16,\n",
       "            ...\n",
       "            2251, 2252, 2253, 2254, 2255, 2256, 2257, 2258, 2259, 2260],\n",
       "           dtype='int64', length=1810)"
      ]
     },
     "execution_count": 43,
     "metadata": {},
     "output_type": "execute_result"
    }
   ],
   "source": [
    "left_child_df.index"
   ]
  },
  {
   "cell_type": "code",
   "execution_count": 44,
   "metadata": {},
   "outputs": [
    {
     "data": {
      "text/html": [
       "<div>\n",
       "<style>\n",
       "    .dataframe thead tr:only-child th {\n",
       "        text-align: right;\n",
       "    }\n",
       "\n",
       "    .dataframe thead th {\n",
       "        text-align: left;\n",
       "    }\n",
       "\n",
       "    .dataframe tbody tr th {\n",
       "        vertical-align: top;\n",
       "    }\n",
       "</style>\n",
       "<table border=\"1\" class=\"dataframe\">\n",
       "  <thead>\n",
       "    <tr style=\"text-align: right;\">\n",
       "      <th></th>\n",
       "      <th>fips</th>\n",
       "      <th>county_name</th>\n",
       "      <th>state_postal</th>\n",
       "      <th>region</th>\n",
       "      <th>election_date</th>\n",
       "      <th>...</th>\n",
       "      <th>FinancialActivities</th>\n",
       "      <th>GoodsProducing</th>\n",
       "      <th>ServiceProviding</th>\n",
       "      <th>c</th>\n",
       "      <th>pct_black06</th>\n",
       "    </tr>\n",
       "  </thead>\n",
       "  <tbody>\n",
       "    <tr>\n",
       "      <th>0</th>\n",
       "      <td>1001</td>\n",
       "      <td>Autauga</td>\n",
       "      <td>AL</td>\n",
       "      <td>S</td>\n",
       "      <td>2/5/08</td>\n",
       "      <td>...</td>\n",
       "      <td>5.366229</td>\n",
       "      <td>26.776236</td>\n",
       "      <td>73.223764</td>\n",
       "      <td>1.0</td>\n",
       "      <td>17.210939</td>\n",
       "    </tr>\n",
       "    <tr>\n",
       "      <th>1</th>\n",
       "      <td>1003</td>\n",
       "      <td>Baldwin</td>\n",
       "      <td>AL</td>\n",
       "      <td>S</td>\n",
       "      <td>2/5/08</td>\n",
       "      <td>...</td>\n",
       "      <td>7.923872</td>\n",
       "      <td>21.282357</td>\n",
       "      <td>78.717643</td>\n",
       "      <td>0.0</td>\n",
       "      <td>9.636325</td>\n",
       "    </tr>\n",
       "    <tr>\n",
       "      <th>4</th>\n",
       "      <td>1009</td>\n",
       "      <td>Blount</td>\n",
       "      <td>AL</td>\n",
       "      <td>S</td>\n",
       "      <td>2/5/08</td>\n",
       "      <td>...</td>\n",
       "      <td>4.300316</td>\n",
       "      <td>34.129339</td>\n",
       "      <td>65.870661</td>\n",
       "      <td>0.0</td>\n",
       "      <td>1.545113</td>\n",
       "    </tr>\n",
       "    <tr>\n",
       "      <th>7</th>\n",
       "      <td>1015</td>\n",
       "      <td>Calhoun</td>\n",
       "      <td>AL</td>\n",
       "      <td>S</td>\n",
       "      <td>2/5/08</td>\n",
       "      <td>...</td>\n",
       "      <td>3.544540</td>\n",
       "      <td>24.312853</td>\n",
       "      <td>75.687147</td>\n",
       "      <td>0.0</td>\n",
       "      <td>19.643411</td>\n",
       "    </tr>\n",
       "    <tr>\n",
       "      <th>9</th>\n",
       "      <td>1019</td>\n",
       "      <td>Cherokee</td>\n",
       "      <td>AL</td>\n",
       "      <td>S</td>\n",
       "      <td>2/5/08</td>\n",
       "      <td>...</td>\n",
       "      <td>4.160713</td>\n",
       "      <td>37.984366</td>\n",
       "      <td>62.015634</td>\n",
       "      <td>0.0</td>\n",
       "      <td>5.461931</td>\n",
       "    </tr>\n",
       "    <tr>\n",
       "      <th>...</th>\n",
       "      <td>...</td>\n",
       "      <td>...</td>\n",
       "      <td>...</td>\n",
       "      <td>...</td>\n",
       "      <td>...</td>\n",
       "      <td>...</td>\n",
       "      <td>...</td>\n",
       "      <td>...</td>\n",
       "      <td>...</td>\n",
       "      <td>...</td>\n",
       "      <td>...</td>\n",
       "    </tr>\n",
       "    <tr>\n",
       "      <th>2256</th>\n",
       "      <td>56037</td>\n",
       "      <td>Sweetwater</td>\n",
       "      <td>WY</td>\n",
       "      <td>W</td>\n",
       "      <td>3/8/08</td>\n",
       "      <td>...</td>\n",
       "      <td>4.383050</td>\n",
       "      <td>42.670654</td>\n",
       "      <td>57.329346</td>\n",
       "      <td>0.0</td>\n",
       "      <td>0.895184</td>\n",
       "    </tr>\n",
       "    <tr>\n",
       "      <th>2257</th>\n",
       "      <td>56039</td>\n",
       "      <td>Teton</td>\n",
       "      <td>WY</td>\n",
       "      <td>W</td>\n",
       "      <td>3/8/08</td>\n",
       "      <td>...</td>\n",
       "      <td>5.465895</td>\n",
       "      <td>14.914934</td>\n",
       "      <td>85.085066</td>\n",
       "      <td>1.0</td>\n",
       "      <td>0.202198</td>\n",
       "    </tr>\n",
       "    <tr>\n",
       "      <th>2258</th>\n",
       "      <td>56041</td>\n",
       "      <td>Uinta</td>\n",
       "      <td>WY</td>\n",
       "      <td>W</td>\n",
       "      <td>3/8/08</td>\n",
       "      <td>...</td>\n",
       "      <td>5.170457</td>\n",
       "      <td>32.132498</td>\n",
       "      <td>67.867502</td>\n",
       "      <td>1.0</td>\n",
       "      <td>0.098946</td>\n",
       "    </tr>\n",
       "    <tr>\n",
       "      <th>2259</th>\n",
       "      <td>56043</td>\n",
       "      <td>Washakie</td>\n",
       "      <td>WY</td>\n",
       "      <td>W</td>\n",
       "      <td>3/8/08</td>\n",
       "      <td>...</td>\n",
       "      <td>6.323161</td>\n",
       "      <td>34.040552</td>\n",
       "      <td>65.959448</td>\n",
       "      <td>1.0</td>\n",
       "      <td>0.102315</td>\n",
       "    </tr>\n",
       "    <tr>\n",
       "      <th>2260</th>\n",
       "      <td>56045</td>\n",
       "      <td>Weston</td>\n",
       "      <td>WY</td>\n",
       "      <td>W</td>\n",
       "      <td>3/8/08</td>\n",
       "      <td>...</td>\n",
       "      <td>5.249570</td>\n",
       "      <td>33.584337</td>\n",
       "      <td>66.415663</td>\n",
       "      <td>0.0</td>\n",
       "      <td>0.133097</td>\n",
       "    </tr>\n",
       "  </tbody>\n",
       "</table>\n",
       "<p>1810 rows × 52 columns</p>\n",
       "</div>"
      ],
      "text/plain": [
       "       fips county_name state_postal region election_date     ...       \\\n",
       "0      1001     Autauga           AL      S        2/5/08     ...        \n",
       "1      1003     Baldwin           AL      S        2/5/08     ...        \n",
       "4      1009      Blount           AL      S        2/5/08     ...        \n",
       "7      1015     Calhoun           AL      S        2/5/08     ...        \n",
       "9      1019    Cherokee           AL      S        2/5/08     ...        \n",
       "...     ...         ...          ...    ...           ...     ...        \n",
       "2256  56037  Sweetwater           WY      W        3/8/08     ...        \n",
       "2257  56039       Teton           WY      W        3/8/08     ...        \n",
       "2258  56041       Uinta           WY      W        3/8/08     ...        \n",
       "2259  56043    Washakie           WY      W        3/8/08     ...        \n",
       "2260  56045      Weston           WY      W        3/8/08     ...        \n",
       "\n",
       "     FinancialActivities  GoodsProducing  ServiceProviding    c  pct_black06  \n",
       "0               5.366229       26.776236         73.223764  1.0    17.210939  \n",
       "1               7.923872       21.282357         78.717643  0.0     9.636325  \n",
       "4               4.300316       34.129339         65.870661  0.0     1.545113  \n",
       "7               3.544540       24.312853         75.687147  0.0    19.643411  \n",
       "9               4.160713       37.984366         62.015634  0.0     5.461931  \n",
       "...                  ...             ...               ...  ...          ...  \n",
       "2256            4.383050       42.670654         57.329346  0.0     0.895184  \n",
       "2257            5.465895       14.914934         85.085066  1.0     0.202198  \n",
       "2258            5.170457       32.132498         67.867502  1.0     0.098946  \n",
       "2259            6.323161       34.040552         65.959448  1.0     0.102315  \n",
       "2260            5.249570       33.584337         66.415663  0.0     0.133097  \n",
       "\n",
       "[1810 rows x 52 columns]"
      ]
     },
     "execution_count": 44,
     "metadata": {},
     "output_type": "execute_result"
    }
   ],
   "source": [
    "left_child_df"
   ]
  },
  {
   "cell_type": "code",
   "execution_count": 45,
   "metadata": {},
   "outputs": [
    {
     "data": {
      "text/html": [
       "<div>\n",
       "<style>\n",
       "    .dataframe thead tr:only-child th {\n",
       "        text-align: right;\n",
       "    }\n",
       "\n",
       "    .dataframe thead th {\n",
       "        text-align: left;\n",
       "    }\n",
       "\n",
       "    .dataframe tbody tr th {\n",
       "        vertical-align: top;\n",
       "    }\n",
       "</style>\n",
       "<table border=\"1\" class=\"dataframe\">\n",
       "  <thead>\n",
       "    <tr style=\"text-align: right;\">\n",
       "      <th></th>\n",
       "      <th>fips</th>\n",
       "      <th>county_name</th>\n",
       "      <th>state_postal</th>\n",
       "      <th>region</th>\n",
       "      <th>election_date</th>\n",
       "      <th>...</th>\n",
       "      <th>FinancialActivities</th>\n",
       "      <th>GoodsProducing</th>\n",
       "      <th>ServiceProviding</th>\n",
       "      <th>c</th>\n",
       "      <th>pct_black06</th>\n",
       "    </tr>\n",
       "  </thead>\n",
       "  <tbody>\n",
       "    <tr>\n",
       "      <th>2</th>\n",
       "      <td>1005</td>\n",
       "      <td>Barbour</td>\n",
       "      <td>AL</td>\n",
       "      <td>S</td>\n",
       "      <td>2/5/08</td>\n",
       "      <td>...</td>\n",
       "      <td>3.379843</td>\n",
       "      <td>51.275520</td>\n",
       "      <td>48.724480</td>\n",
       "      <td>1.0</td>\n",
       "      <td>46.270988</td>\n",
       "    </tr>\n",
       "    <tr>\n",
       "      <th>3</th>\n",
       "      <td>1007</td>\n",
       "      <td>Bibb</td>\n",
       "      <td>AL</td>\n",
       "      <td>S</td>\n",
       "      <td>2/5/08</td>\n",
       "      <td>...</td>\n",
       "      <td>3.477562</td>\n",
       "      <td>42.557099</td>\n",
       "      <td>57.442901</td>\n",
       "      <td>0.0</td>\n",
       "      <td>21.902058</td>\n",
       "    </tr>\n",
       "    <tr>\n",
       "      <th>5</th>\n",
       "      <td>1011</td>\n",
       "      <td>Bullock</td>\n",
       "      <td>AL</td>\n",
       "      <td>S</td>\n",
       "      <td>2/5/08</td>\n",
       "      <td>...</td>\n",
       "      <td>3.523767</td>\n",
       "      <td>56.860099</td>\n",
       "      <td>43.139901</td>\n",
       "      <td>1.0</td>\n",
       "      <td>69.823950</td>\n",
       "    </tr>\n",
       "    <tr>\n",
       "      <th>6</th>\n",
       "      <td>1013</td>\n",
       "      <td>Butler</td>\n",
       "      <td>AL</td>\n",
       "      <td>S</td>\n",
       "      <td>2/5/08</td>\n",
       "      <td>...</td>\n",
       "      <td>3.390709</td>\n",
       "      <td>32.041909</td>\n",
       "      <td>67.958091</td>\n",
       "      <td>1.0</td>\n",
       "      <td>41.476608</td>\n",
       "    </tr>\n",
       "    <tr>\n",
       "      <th>8</th>\n",
       "      <td>1017</td>\n",
       "      <td>Chambers</td>\n",
       "      <td>AL</td>\n",
       "      <td>S</td>\n",
       "      <td>2/5/08</td>\n",
       "      <td>...</td>\n",
       "      <td>2.344602</td>\n",
       "      <td>42.755881</td>\n",
       "      <td>57.244119</td>\n",
       "      <td>1.0</td>\n",
       "      <td>37.841142</td>\n",
       "    </tr>\n",
       "    <tr>\n",
       "      <th>...</th>\n",
       "      <td>...</td>\n",
       "      <td>...</td>\n",
       "      <td>...</td>\n",
       "      <td>...</td>\n",
       "      <td>...</td>\n",
       "      <td>...</td>\n",
       "      <td>...</td>\n",
       "      <td>...</td>\n",
       "      <td>...</td>\n",
       "      <td>...</td>\n",
       "      <td>...</td>\n",
       "    </tr>\n",
       "    <tr>\n",
       "      <th>2116</th>\n",
       "      <td>51740</td>\n",
       "      <td>Portsmouth</td>\n",
       "      <td>VA</td>\n",
       "      <td>S</td>\n",
       "      <td>2/12/08</td>\n",
       "      <td>...</td>\n",
       "      <td>4.697560</td>\n",
       "      <td>18.229466</td>\n",
       "      <td>81.770534</td>\n",
       "      <td>1.0</td>\n",
       "      <td>52.328437</td>\n",
       "    </tr>\n",
       "    <tr>\n",
       "      <th>2118</th>\n",
       "      <td>51760</td>\n",
       "      <td>Richmond City</td>\n",
       "      <td>VA</td>\n",
       "      <td>S</td>\n",
       "      <td>2/12/08</td>\n",
       "      <td>...</td>\n",
       "      <td>8.382545</td>\n",
       "      <td>15.069478</td>\n",
       "      <td>84.930522</td>\n",
       "      <td>1.0</td>\n",
       "      <td>54.273170</td>\n",
       "    </tr>\n",
       "    <tr>\n",
       "      <th>2119</th>\n",
       "      <td>51770</td>\n",
       "      <td>Roanoke City</td>\n",
       "      <td>VA</td>\n",
       "      <td>S</td>\n",
       "      <td>2/12/08</td>\n",
       "      <td>...</td>\n",
       "      <td>6.429098</td>\n",
       "      <td>15.132792</td>\n",
       "      <td>84.867208</td>\n",
       "      <td>1.0</td>\n",
       "      <td>26.946435</td>\n",
       "    </tr>\n",
       "    <tr>\n",
       "      <th>2122</th>\n",
       "      <td>51800</td>\n",
       "      <td>Suffolk</td>\n",
       "      <td>VA</td>\n",
       "      <td>S</td>\n",
       "      <td>2/12/08</td>\n",
       "      <td>...</td>\n",
       "      <td>3.544776</td>\n",
       "      <td>20.760779</td>\n",
       "      <td>79.239221</td>\n",
       "      <td>1.0</td>\n",
       "      <td>41.147883</td>\n",
       "    </tr>\n",
       "    <tr>\n",
       "      <th>2206</th>\n",
       "      <td>55079</td>\n",
       "      <td>Milwaukee</td>\n",
       "      <td>WI</td>\n",
       "      <td>MW</td>\n",
       "      <td>2/19/08</td>\n",
       "      <td>...</td>\n",
       "      <td>8.410672</td>\n",
       "      <td>17.095702</td>\n",
       "      <td>82.904298</td>\n",
       "      <td>1.0</td>\n",
       "      <td>25.929819</td>\n",
       "    </tr>\n",
       "  </tbody>\n",
       "</table>\n",
       "<p>451 rows × 52 columns</p>\n",
       "</div>"
      ],
      "text/plain": [
       "       fips    county_name state_postal region election_date     ...       \\\n",
       "2      1005        Barbour           AL      S        2/5/08     ...        \n",
       "3      1007           Bibb           AL      S        2/5/08     ...        \n",
       "5      1011        Bullock           AL      S        2/5/08     ...        \n",
       "6      1013         Butler           AL      S        2/5/08     ...        \n",
       "8      1017       Chambers           AL      S        2/5/08     ...        \n",
       "...     ...            ...          ...    ...           ...     ...        \n",
       "2116  51740     Portsmouth           VA      S       2/12/08     ...        \n",
       "2118  51760  Richmond City           VA      S       2/12/08     ...        \n",
       "2119  51770   Roanoke City           VA      S       2/12/08     ...        \n",
       "2122  51800        Suffolk           VA      S       2/12/08     ...        \n",
       "2206  55079      Milwaukee           WI     MW       2/19/08     ...        \n",
       "\n",
       "     FinancialActivities  GoodsProducing  ServiceProviding    c  pct_black06  \n",
       "2               3.379843       51.275520         48.724480  1.0    46.270988  \n",
       "3               3.477562       42.557099         57.442901  0.0    21.902058  \n",
       "5               3.523767       56.860099         43.139901  1.0    69.823950  \n",
       "6               3.390709       32.041909         67.958091  1.0    41.476608  \n",
       "8               2.344602       42.755881         57.244119  1.0    37.841142  \n",
       "...                  ...             ...               ...  ...          ...  \n",
       "2116            4.697560       18.229466         81.770534  1.0    52.328437  \n",
       "2118            8.382545       15.069478         84.930522  1.0    54.273170  \n",
       "2119            6.429098       15.132792         84.867208  1.0    26.946435  \n",
       "2122            3.544776       20.760779         79.239221  1.0    41.147883  \n",
       "2206            8.410672       17.095702         82.904298  1.0    25.929819  \n",
       "\n",
       "[451 rows x 52 columns]"
      ]
     },
     "execution_count": 45,
     "metadata": {},
     "output_type": "execute_result"
    }
   ],
   "source": [
    "right_child_df"
   ]
  },
  {
   "cell_type": "markdown",
   "metadata": {},
   "source": [
    "#### First cut/right node"
   ]
  },
  {
   "cell_type": "code",
   "execution_count": null,
   "metadata": {
    "collapsed": true
   },
   "outputs": [],
   "source": [
    "# TODO"
   ]
  },
  {
   "cell_type": "code",
   "execution_count": 47,
   "metadata": {
    "collapsed": true
   },
   "outputs": [],
   "source": [
    "#pass in a df with wins and losses as coded as 1 and 0 per before\n",
    "def obama_vs_clinton(df):\n",
    "    obama = (df.c == 1).sum()\n",
    "    clinton = (df.c == 0).sum()\n",
    "    if obama > clinton:\n",
    "        print 'Obama wins these counties {} to {}.'.format(obama, clinton)\n",
    "    elif clinton > obama:\n",
    "        print 'Clinton wins these counties {} to {}.'.format(clinton, obama)\n",
    "    else:\n",
    "        print 'Obama and Clinton tie in these counties {} {}.'.format(obama, clinton)"
   ]
  },
  {
   "cell_type": "code",
   "execution_count": 48,
   "metadata": {},
   "outputs": [
    {
     "name": "stdout",
     "output_type": "stream",
     "text": [
      "Obama wins these counties 381 to 70.\n"
     ]
    }
   ],
   "source": [
    "obama_vs_clinton(right_child_df)"
   ]
  },
  {
   "cell_type": "markdown",
   "metadata": {},
   "source": [
    "### Second cut: Is high school graduation rate higher than 78%?"
   ]
  },
  {
   "cell_type": "code",
   "execution_count": 49,
   "metadata": {
    "collapsed": true
   },
   "outputs": [],
   "source": [
    "#lost track of Ivan here\n",
    "parent_df = left_child_df"
   ]
  },
  {
   "cell_type": "code",
   "execution_count": 52,
   "metadata": {
    "collapsed": true
   },
   "outputs": [],
   "source": [
    "left_child_df = parent_df[parent_df.pct_hs_grad >= 78]\n",
    "right_child_df = parent_df.drop(left_child_df.index)"
   ]
  },
  {
   "cell_type": "code",
   "execution_count": 53,
   "metadata": {},
   "outputs": [
    {
     "name": "stdout",
     "output_type": "stream",
     "text": [
      "Obama and Clinton tie in these counties 0 0.\n"
     ]
    }
   ],
   "source": [
    "obama_vs_clinton(left_child_df)"
   ]
  },
  {
   "cell_type": "markdown",
   "metadata": {},
   "source": [
    "### Third cut: Is high school graduation rate higher than 87%?"
   ]
  },
  {
   "cell_type": "code",
   "execution_count": null,
   "metadata": {
    "collapsed": true
   },
   "outputs": [],
   "source": [
    "# TODO"
   ]
  },
  {
   "cell_type": "code",
   "execution_count": null,
   "metadata": {
    "collapsed": true
   },
   "outputs": [],
   "source": [
    "obama_vs_clinton(right_child_df)"
   ]
  },
  {
   "cell_type": "markdown",
   "metadata": {},
   "source": [
    "## Part B | Building the 2008 Democratic Primaries Decision Tree by Hand"
   ]
  },
  {
   "cell_type": "code",
   "execution_count": 60,
   "metadata": {
    "collapsed": true
   },
   "outputs": [],
   "source": [
    "#back to finding entropy\n",
    "\n",
    "class Node:\n",
    "\n",
    "    @staticmethod\n",
    "    def root(root_df):\n",
    "        cs = sorted(set(root_df.c))\n",
    "        return Node(cs, root_df)\n",
    "\n",
    "    def decision(self, left_filter):\n",
    "        # Collect the observations for which the decision split is true and\n",
    "        # create the corresponding left node\n",
    "\n",
    "        left_filter = left_filter(self.df)\n",
    "        left_df = self.df[left_filter]\n",
    "        self.left = Node(self.cs, left_df)\n",
    "\n",
    "        # Same thing on the right side but for the observations that don't\n",
    "        # satisfy the decision split (the \"else\")\n",
    "\n",
    "        right_df = self.df.drop(left_df.index)\n",
    "        self.right = Node(self.cs, right_df)\n",
    "\n",
    "        # The entropy after the decision split is the weighted average of the\n",
    "        # children entropy\n",
    "\n",
    "        self.after = (self.left.samples * self.left.before\n",
    "                      + self.right.samples * self.right.before) / self.samples\n",
    "\n",
    "        # The information gain corresponds to the entropy lost between the\n",
    "        # parent node (this node and the \"before\") and its child (the \"after\")\n",
    "\n",
    "        self.information_gain = self.before - self.after\n",
    "\n",
    "        return self\n",
    "\n",
    "    def __init__(self, cs, df):\n",
    "        self.cs = cs\n",
    "        self.df = df\n",
    "\n",
    "        # Counts of the remaining observations in the subspace per classes\n",
    "        self.counts = [(self.df.c == c).sum() for c in self.cs]\n",
    "\n",
    "        # Number of observations in the subspace\n",
    "        self.samples = sum(self.counts)\n",
    "\n",
    "        # For empty subspaces, probabilties and entropy are set to zero\n",
    "        if self.samples == 0:\n",
    "            self.probabilities = [.0 for count in self.counts]\n",
    "            self.before = .0\n",
    "        else:\n",
    "            self.probabilities = [1. * count / self.samples for count in self.counts]\n",
    "            self.before = - sum(map(lambda p: p * math.log(p, 2),\n",
    "                                    filter(lambda p : p > .0, self.probabilities)))\n",
    "\n",
    "    def status(self):\n",
    "        print 'classes                       =', self.cs\n",
    "        print 'before:'\n",
    "        print \"\\tparent:\"\n",
    "        print \"\\t\\tsamples       =\", self.samples\n",
    "        print \"\\t\\tcounts        =\", self.counts\n",
    "        print \"\\t\\tprobabilities =\", self.probabilities\n",
    "        print \"\\t\\tentropy       =\", self.before\n",
    "        print 'after:'\n",
    "        print \"\\tleft child:\"\n",
    "        print \"\\t\\tsamples       =\", self.left.samples\n",
    "        print \"\\t\\tcounts        =\", self.left.counts\n",
    "        print \"\\t\\tprobabilities =\", self.left.probabilities\n",
    "        print \"\\t\\tentropy       =\", self.left.before\n",
    "        print \"\\tright child:\"\n",
    "        print \"\\t\\tsamples       =\", self.right.samples\n",
    "        print \"\\t\\tcounts        =\", self.right.counts\n",
    "        print \"\\t\\tprobabilities =\", self.right.probabilities\n",
    "        print \"\\t\\tentropy       =\", self.right.before\n",
    "        print\n",
    "        print 'before entropy                =', self.before\n",
    "        print 'after entropy                 =', self.after\n",
    "        print 'information gain              =', self.information_gain"
   ]
  },
  {
   "cell_type": "code",
   "execution_count": 61,
   "metadata": {
    "collapsed": true
   },
   "outputs": [],
   "source": [
    "df.c = df.winner"
   ]
  },
  {
   "cell_type": "markdown",
   "metadata": {},
   "source": [
    "### First cut"
   ]
  },
  {
   "cell_type": "code",
   "execution_count": 62,
   "metadata": {
    "collapsed": true
   },
   "outputs": [],
   "source": [
    "#root node\n",
    "node = Node.root(df)"
   ]
  },
  {
   "cell_type": "markdown",
   "metadata": {},
   "source": [
    "#### Candidate #1: Is a county more than 20% black?"
   ]
  },
  {
   "cell_type": "code",
   "execution_count": 63,
   "metadata": {},
   "outputs": [
    {
     "name": "stdout",
     "output_type": "stream",
     "text": [
      "classes                       = [nan, 'clinton', 'obama']\n",
      "before:\n",
      "\tparent:\n",
      "\t\tsamples       = 2241\n",
      "\t\tcounts        = [0, 1210, 1031]\n",
      "\t\tprobabilities = [0.0, 0.5399375278893351, 0.46006247211066487]\n",
      "\t\tentropy       = 0.995392878882\n",
      "after:\n",
      "\tleft child:\n",
      "\t\tsamples       = 177\n",
      "\t\tcounts        = [0, 83, 94]\n",
      "\t\tprobabilities = [0.0, 0.4689265536723164, 0.5310734463276836]\n",
      "\t\tentropy       = 0.997212189295\n",
      "\tright child:\n",
      "\t\tsamples       = 2064\n",
      "\t\tcounts        = [0, 1127, 937]\n",
      "\t\tprobabilities = [0.0, 0.5460271317829457, 0.45397286821705424]\n",
      "\t\tentropy       = 0.993878647632\n",
      "\n",
      "before entropy                = 0.995392878882\n",
      "after entropy                 = 0.99414193941\n",
      "information gain              = 0.00125093947178\n"
     ]
    }
   ],
   "source": [
    "#2241 is sum of ci\n",
    "#counts is counties per candidate\n",
    "#pis are probablities\n",
    "\n",
    "node.decision(lambda df: df.pct_black06 <= .2).status()"
   ]
  },
  {
   "cell_type": "markdown",
   "metadata": {},
   "source": [
    "#### Candidate #2: Is high school graduation rate higher than 78%?"
   ]
  },
  {
   "cell_type": "code",
   "execution_count": null,
   "metadata": {
    "collapsed": true
   },
   "outputs": [],
   "source": [
    "# TODO"
   ]
  },
  {
   "cell_type": "markdown",
   "metadata": {},
   "source": [
    "#### Candidate #3: Is high school graduation rate higher than 87%?"
   ]
  },
  {
   "cell_type": "code",
   "execution_count": null,
   "metadata": {
    "collapsed": true
   },
   "outputs": [],
   "source": [
    "# TODO"
   ]
  },
  {
   "cell_type": "markdown",
   "metadata": {},
   "source": [
    "### Second cut"
   ]
  },
  {
   "cell_type": "code",
   "execution_count": null,
   "metadata": {
    "collapsed": true
   },
   "outputs": [],
   "source": [
    "# TODO"
   ]
  },
  {
   "cell_type": "markdown",
   "metadata": {},
   "source": [
    "### Third cut"
   ]
  },
  {
   "cell_type": "code",
   "execution_count": null,
   "metadata": {
    "collapsed": true
   },
   "outputs": [],
   "source": [
    "# TODO"
   ]
  }
 ],
 "metadata": {
  "kernelspec": {
   "display_name": "Python 2",
   "language": "python",
   "name": "python2"
  },
  "language_info": {
   "codemirror_mode": {
    "name": "ipython",
    "version": 2
   },
   "file_extension": ".py",
   "mimetype": "text/x-python",
   "name": "python",
   "nbconvert_exporter": "python",
   "pygments_lexer": "ipython2",
   "version": "2.7.13"
  }
 },
 "nbformat": 4,
 "nbformat_minor": 1
}
