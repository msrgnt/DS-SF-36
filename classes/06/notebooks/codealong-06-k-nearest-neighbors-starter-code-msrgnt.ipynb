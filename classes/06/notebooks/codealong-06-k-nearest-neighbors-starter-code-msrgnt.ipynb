{
 "cells": [
  {
   "cell_type": "markdown",
   "metadata": {},
   "source": [
    "# DS-SF-36 | 06 | $k$-Nearest Neighbors | Codealong | Starter Code"
   ]
  },
  {
   "cell_type": "code",
   "execution_count": 2,
   "metadata": {
    "collapsed": true
   },
   "outputs": [],
   "source": [
    "import os\n",
    "\n",
    "import numpy as np\n",
    "import pandas as pd\n",
    "pd.set_option('display.max_rows', 10)\n",
    "pd.set_option('display.notebook_repr_html', True)\n",
    "pd.set_option('display.max_columns', 10)\n",
    "\n",
    "from sklearn import preprocessing, neighbors, model_selection\n",
    "\n",
    "import matplotlib.pyplot as plt\n",
    "%matplotlib inline\n",
    "plt.style.use('ggplot')"
   ]
  },
  {
   "cell_type": "code",
   "execution_count": 3,
   "metadata": {
    "collapsed": true
   },
   "outputs": [],
   "source": [
    "df = pd.read_csv(os.path.join('..', 'datasets', 'dataset-06-iris.csv'))"
   ]
  },
  {
   "cell_type": "code",
   "execution_count": 3,
   "metadata": {},
   "outputs": [
    {
     "data": {
      "text/html": [
       "<div>\n",
       "<style>\n",
       "    .dataframe thead tr:only-child th {\n",
       "        text-align: right;\n",
       "    }\n",
       "\n",
       "    .dataframe thead th {\n",
       "        text-align: left;\n",
       "    }\n",
       "\n",
       "    .dataframe tbody tr th {\n",
       "        vertical-align: top;\n",
       "    }\n",
       "</style>\n",
       "<table border=\"1\" class=\"dataframe\">\n",
       "  <thead>\n",
       "    <tr style=\"text-align: right;\">\n",
       "      <th></th>\n",
       "      <th>SepalLength</th>\n",
       "      <th>SepalWidth</th>\n",
       "      <th>PetalLength</th>\n",
       "      <th>PetalWidth</th>\n",
       "      <th>Species</th>\n",
       "    </tr>\n",
       "  </thead>\n",
       "  <tbody>\n",
       "    <tr>\n",
       "      <th>0</th>\n",
       "      <td>5.1</td>\n",
       "      <td>3.5</td>\n",
       "      <td>1.4</td>\n",
       "      <td>0.2</td>\n",
       "      <td>Setosa</td>\n",
       "    </tr>\n",
       "    <tr>\n",
       "      <th>1</th>\n",
       "      <td>4.9</td>\n",
       "      <td>3.0</td>\n",
       "      <td>1.4</td>\n",
       "      <td>0.2</td>\n",
       "      <td>Setosa</td>\n",
       "    </tr>\n",
       "    <tr>\n",
       "      <th>2</th>\n",
       "      <td>4.7</td>\n",
       "      <td>3.2</td>\n",
       "      <td>1.3</td>\n",
       "      <td>0.2</td>\n",
       "      <td>Setosa</td>\n",
       "    </tr>\n",
       "    <tr>\n",
       "      <th>3</th>\n",
       "      <td>4.6</td>\n",
       "      <td>3.1</td>\n",
       "      <td>1.5</td>\n",
       "      <td>0.2</td>\n",
       "      <td>Setosa</td>\n",
       "    </tr>\n",
       "    <tr>\n",
       "      <th>4</th>\n",
       "      <td>5.0</td>\n",
       "      <td>3.6</td>\n",
       "      <td>1.4</td>\n",
       "      <td>0.2</td>\n",
       "      <td>Setosa</td>\n",
       "    </tr>\n",
       "    <tr>\n",
       "      <th>...</th>\n",
       "      <td>...</td>\n",
       "      <td>...</td>\n",
       "      <td>...</td>\n",
       "      <td>...</td>\n",
       "      <td>...</td>\n",
       "    </tr>\n",
       "    <tr>\n",
       "      <th>145</th>\n",
       "      <td>6.7</td>\n",
       "      <td>3.0</td>\n",
       "      <td>5.2</td>\n",
       "      <td>2.3</td>\n",
       "      <td>Virginica</td>\n",
       "    </tr>\n",
       "    <tr>\n",
       "      <th>146</th>\n",
       "      <td>6.3</td>\n",
       "      <td>2.5</td>\n",
       "      <td>5.0</td>\n",
       "      <td>1.9</td>\n",
       "      <td>Virginica</td>\n",
       "    </tr>\n",
       "    <tr>\n",
       "      <th>147</th>\n",
       "      <td>6.5</td>\n",
       "      <td>3.0</td>\n",
       "      <td>5.2</td>\n",
       "      <td>2.0</td>\n",
       "      <td>Virginica</td>\n",
       "    </tr>\n",
       "    <tr>\n",
       "      <th>148</th>\n",
       "      <td>6.2</td>\n",
       "      <td>3.4</td>\n",
       "      <td>5.4</td>\n",
       "      <td>2.3</td>\n",
       "      <td>Virginica</td>\n",
       "    </tr>\n",
       "    <tr>\n",
       "      <th>149</th>\n",
       "      <td>5.9</td>\n",
       "      <td>3.0</td>\n",
       "      <td>5.1</td>\n",
       "      <td>1.8</td>\n",
       "      <td>Virginica</td>\n",
       "    </tr>\n",
       "  </tbody>\n",
       "</table>\n",
       "<p>150 rows × 5 columns</p>\n",
       "</div>"
      ],
      "text/plain": [
       "     SepalLength  SepalWidth  PetalLength  PetalWidth    Species\n",
       "0            5.1         3.5          1.4         0.2     Setosa\n",
       "1            4.9         3.0          1.4         0.2     Setosa\n",
       "2            4.7         3.2          1.3         0.2     Setosa\n",
       "3            4.6         3.1          1.5         0.2     Setosa\n",
       "4            5.0         3.6          1.4         0.2     Setosa\n",
       "..           ...         ...          ...         ...        ...\n",
       "145          6.7         3.0          5.2         2.3  Virginica\n",
       "146          6.3         2.5          5.0         1.9  Virginica\n",
       "147          6.5         3.0          5.2         2.0  Virginica\n",
       "148          6.2         3.4          5.4         2.3  Virginica\n",
       "149          5.9         3.0          5.1         1.8  Virginica\n",
       "\n",
       "[150 rows x 5 columns]"
      ]
     },
     "execution_count": 3,
     "metadata": {},
     "output_type": "execute_result"
    }
   ],
   "source": [
    "df"
   ]
  },
  {
   "cell_type": "markdown",
   "metadata": {},
   "source": [
    "## Part A | Activity | Iris Dataset | Exploratory Data Analysis"
   ]
  },
  {
   "cell_type": "code",
   "execution_count": 17,
   "metadata": {
    "collapsed": true
   },
   "outputs": [],
   "source": [
    "color = df.Species.map({'Setosa': 'red', 'Versicolor': 'green', 'Virginica': 'blue'})"
   ]
  },
  {
   "cell_type": "code",
   "execution_count": 18,
   "metadata": {},
   "outputs": [
    {
     "data": {
      "text/html": [
       "<div>\n",
       "<style>\n",
       "    .dataframe thead tr:only-child th {\n",
       "        text-align: right;\n",
       "    }\n",
       "\n",
       "    .dataframe thead th {\n",
       "        text-align: left;\n",
       "    }\n",
       "\n",
       "    .dataframe tbody tr th {\n",
       "        vertical-align: top;\n",
       "    }\n",
       "</style>\n",
       "<table border=\"1\" class=\"dataframe\">\n",
       "  <thead>\n",
       "    <tr style=\"text-align: right;\">\n",
       "      <th></th>\n",
       "      <th>SepalLength</th>\n",
       "      <th>SepalWidth</th>\n",
       "      <th>PetalLength</th>\n",
       "      <th>PetalWidth</th>\n",
       "      <th>Species</th>\n",
       "    </tr>\n",
       "  </thead>\n",
       "  <tbody>\n",
       "    <tr>\n",
       "      <th>0</th>\n",
       "      <td>5.1</td>\n",
       "      <td>3.5</td>\n",
       "      <td>1.4</td>\n",
       "      <td>0.2</td>\n",
       "      <td>Setosa</td>\n",
       "    </tr>\n",
       "    <tr>\n",
       "      <th>1</th>\n",
       "      <td>4.9</td>\n",
       "      <td>3.0</td>\n",
       "      <td>1.4</td>\n",
       "      <td>0.2</td>\n",
       "      <td>Setosa</td>\n",
       "    </tr>\n",
       "    <tr>\n",
       "      <th>2</th>\n",
       "      <td>4.7</td>\n",
       "      <td>3.2</td>\n",
       "      <td>1.3</td>\n",
       "      <td>0.2</td>\n",
       "      <td>Setosa</td>\n",
       "    </tr>\n",
       "    <tr>\n",
       "      <th>3</th>\n",
       "      <td>4.6</td>\n",
       "      <td>3.1</td>\n",
       "      <td>1.5</td>\n",
       "      <td>0.2</td>\n",
       "      <td>Setosa</td>\n",
       "    </tr>\n",
       "    <tr>\n",
       "      <th>4</th>\n",
       "      <td>5.0</td>\n",
       "      <td>3.6</td>\n",
       "      <td>1.4</td>\n",
       "      <td>0.2</td>\n",
       "      <td>Setosa</td>\n",
       "    </tr>\n",
       "    <tr>\n",
       "      <th>...</th>\n",
       "      <td>...</td>\n",
       "      <td>...</td>\n",
       "      <td>...</td>\n",
       "      <td>...</td>\n",
       "      <td>...</td>\n",
       "    </tr>\n",
       "    <tr>\n",
       "      <th>145</th>\n",
       "      <td>6.7</td>\n",
       "      <td>3.0</td>\n",
       "      <td>5.2</td>\n",
       "      <td>2.3</td>\n",
       "      <td>Virginica</td>\n",
       "    </tr>\n",
       "    <tr>\n",
       "      <th>146</th>\n",
       "      <td>6.3</td>\n",
       "      <td>2.5</td>\n",
       "      <td>5.0</td>\n",
       "      <td>1.9</td>\n",
       "      <td>Virginica</td>\n",
       "    </tr>\n",
       "    <tr>\n",
       "      <th>147</th>\n",
       "      <td>6.5</td>\n",
       "      <td>3.0</td>\n",
       "      <td>5.2</td>\n",
       "      <td>2.0</td>\n",
       "      <td>Virginica</td>\n",
       "    </tr>\n",
       "    <tr>\n",
       "      <th>148</th>\n",
       "      <td>6.2</td>\n",
       "      <td>3.4</td>\n",
       "      <td>5.4</td>\n",
       "      <td>2.3</td>\n",
       "      <td>Virginica</td>\n",
       "    </tr>\n",
       "    <tr>\n",
       "      <th>149</th>\n",
       "      <td>5.9</td>\n",
       "      <td>3.0</td>\n",
       "      <td>5.1</td>\n",
       "      <td>1.8</td>\n",
       "      <td>Virginica</td>\n",
       "    </tr>\n",
       "  </tbody>\n",
       "</table>\n",
       "<p>150 rows × 5 columns</p>\n",
       "</div>"
      ],
      "text/plain": [
       "     SepalLength  SepalWidth  PetalLength  PetalWidth    Species\n",
       "0            5.1         3.5          1.4         0.2     Setosa\n",
       "1            4.9         3.0          1.4         0.2     Setosa\n",
       "2            4.7         3.2          1.3         0.2     Setosa\n",
       "3            4.6         3.1          1.5         0.2     Setosa\n",
       "4            5.0         3.6          1.4         0.2     Setosa\n",
       "..           ...         ...          ...         ...        ...\n",
       "145          6.7         3.0          5.2         2.3  Virginica\n",
       "146          6.3         2.5          5.0         1.9  Virginica\n",
       "147          6.5         3.0          5.2         2.0  Virginica\n",
       "148          6.2         3.4          5.4         2.3  Virginica\n",
       "149          5.9         3.0          5.1         1.8  Virginica\n",
       "\n",
       "[150 rows x 5 columns]"
      ]
     },
     "execution_count": 18,
     "metadata": {},
     "output_type": "execute_result"
    }
   ],
   "source": [
    "df"
   ]
  },
  {
   "cell_type": "code",
   "execution_count": 23,
   "metadata": {},
   "outputs": [
    {
     "data": {
      "text/html": [
       "<div>\n",
       "<style>\n",
       "    .dataframe thead tr:only-child th {\n",
       "        text-align: right;\n",
       "    }\n",
       "\n",
       "    .dataframe thead th {\n",
       "        text-align: left;\n",
       "    }\n",
       "\n",
       "    .dataframe tbody tr th {\n",
       "        vertical-align: top;\n",
       "    }\n",
       "</style>\n",
       "<table border=\"1\" class=\"dataframe\">\n",
       "  <thead>\n",
       "    <tr style=\"text-align: right;\">\n",
       "      <th></th>\n",
       "      <th>SepalLength</th>\n",
       "      <th>SepalWidth</th>\n",
       "      <th>PetalLength</th>\n",
       "      <th>PetalWidth</th>\n",
       "    </tr>\n",
       "    <tr>\n",
       "      <th>Species</th>\n",
       "      <th></th>\n",
       "      <th></th>\n",
       "      <th></th>\n",
       "      <th></th>\n",
       "    </tr>\n",
       "  </thead>\n",
       "  <tbody>\n",
       "    <tr>\n",
       "      <th>Setosa</th>\n",
       "      <td>5.006</td>\n",
       "      <td>3.418</td>\n",
       "      <td>1.464</td>\n",
       "      <td>0.244</td>\n",
       "    </tr>\n",
       "    <tr>\n",
       "      <th>Versicolor</th>\n",
       "      <td>5.936</td>\n",
       "      <td>2.770</td>\n",
       "      <td>4.260</td>\n",
       "      <td>1.326</td>\n",
       "    </tr>\n",
       "    <tr>\n",
       "      <th>Virginica</th>\n",
       "      <td>6.588</td>\n",
       "      <td>2.974</td>\n",
       "      <td>5.552</td>\n",
       "      <td>2.026</td>\n",
       "    </tr>\n",
       "  </tbody>\n",
       "</table>\n",
       "</div>"
      ],
      "text/plain": [
       "            SepalLength  SepalWidth  PetalLength  PetalWidth\n",
       "Species                                                     \n",
       "Setosa            5.006       3.418        1.464       0.244\n",
       "Versicolor        5.936       2.770        4.260       1.326\n",
       "Virginica         6.588       2.974        5.552       2.026"
      ]
     },
     "execution_count": 23,
     "metadata": {},
     "output_type": "execute_result"
    }
   ],
   "source": [
    "df[['SepalLength', 'SepalWidth','PetalLength', 'PetalWidth','Species']].groupby('Species').mean()"
   ]
  },
  {
   "cell_type": "code",
   "execution_count": null,
   "metadata": {
    "collapsed": true
   },
   "outputs": [],
   "source": [
    "#species = response vector C"
   ]
  },
  {
   "cell_type": "code",
   "execution_count": 58,
   "metadata": {},
   "outputs": [
    {
     "data": {
      "text/plain": [
       "0       red\n",
       "1       red\n",
       "2       red\n",
       "3       red\n",
       "4       red\n",
       "       ... \n",
       "145    blue\n",
       "146    blue\n",
       "147    blue\n",
       "148    blue\n",
       "149    blue\n",
       "Name: Species, Length: 150, dtype: object"
      ]
     },
     "execution_count": 58,
     "metadata": {},
     "output_type": "execute_result"
    }
   ],
   "source": [
    "color"
   ]
  },
  {
   "cell_type": "code",
   "execution_count": 65,
   "metadata": {},
   "outputs": [
    {
     "data": {
      "text/plain": [
       "<matplotlib.axes._subplots.AxesSubplot at 0x1192fdd50>"
      ]
     },
     "execution_count": 65,
     "metadata": {},
     "output_type": "execute_result"
    },
    {
     "data": {
      "image/png": "[encoded data removed]",
      "text/plain": [
       "<matplotlib.figure.Figure at 0x119049510>"
      ]
     },
     "metadata": {},
     "output_type": "display_data"
    }
   ],
   "source": [
    "df.plot.scatter(x = 'SepalWidth', y = 'SepalLength', c=color, s=100, figsize = (10,10))"
   ]
  },
  {
   "cell_type": "code",
   "execution_count": 74,
   "metadata": {},
   "outputs": [
    {
     "name": "stderr",
     "output_type": "stream",
     "text": [
      "/anaconda/lib/python2.7/site-packages/ipykernel_launcher.py:1: FutureWarning: 'pandas.tools.plotting.scatter_matrix' is deprecated, import 'pandas.plotting.scatter_matrix' instead.\n",
      "  \"\"\"Entry point for launching an IPython kernel.\n"
     ]
    },
    {
     "data": {
      "text/plain": [
       "array([[<matplotlib.axes._subplots.AxesSubplot object at 0x11b230390>,\n",
       "        <matplotlib.axes._subplots.AxesSubplot object at 0x11b5bea10>,\n",
       "        <matplotlib.axes._subplots.AxesSubplot object at 0x11b5f8f90>,\n",
       "        <matplotlib.axes._subplots.AxesSubplot object at 0x108d9c6d0>],\n",
       "       [<matplotlib.axes._subplots.AxesSubplot object at 0x1191ba810>,\n",
       "        <matplotlib.axes._subplots.AxesSubplot object at 0x11b667250>,\n",
       "        <matplotlib.axes._subplots.AxesSubplot object at 0x11b6eb550>,\n",
       "        <matplotlib.axes._subplots.AxesSubplot object at 0x11b751ed0>],\n",
       "       [<matplotlib.axes._subplots.AxesSubplot object at 0x11b7e3110>,\n",
       "        <matplotlib.axes._subplots.AxesSubplot object at 0x11b83cc50>,\n",
       "        <matplotlib.axes._subplots.AxesSubplot object at 0x11b8da210>,\n",
       "        <matplotlib.axes._subplots.AxesSubplot object at 0x11b88ea10>],\n",
       "       [<matplotlib.axes._subplots.AxesSubplot object at 0x11b9d2050>,\n",
       "        <matplotlib.axes._subplots.AxesSubplot object at 0x11ba4af90>,\n",
       "        <matplotlib.axes._subplots.AxesSubplot object at 0x11babbd90>,\n",
       "        <matplotlib.axes._subplots.AxesSubplot object at 0x11bb41e10>]], dtype=object)"
      ]
     },
     "execution_count": 74,
     "metadata": {},
     "output_type": "execute_result"
    },
    {
     "data": {
      "image/png": "[encoded data removed]",
      "text/plain": [
       "<matplotlib.figure.Figure at 0x119952110>"
      ]
     },
     "metadata": {},
     "output_type": "display_data"
    }
   ],
   "source": [
    "pd.tools.plotting.scatter_matrix(df[ ['SepalLength', 'SepalWidth', 'PetalLength', 'PetalWidth'] ], c = color, figsize = (12, 12))"
   ]
  },
  {
   "cell_type": "markdown",
   "metadata": {},
   "source": [
    "## Part B | Activity | Hand-Coded Classifier"
   ]
  },
  {
   "cell_type": "code",
   "execution_count": 73,
   "metadata": {
    "collapsed": true
   },
   "outputs": [],
   "source": [
    "c = df.Species"
   ]
  },
  {
   "cell_type": "code",
   "execution_count": 93,
   "metadata": {
    "collapsed": true
   },
   "outputs": [],
   "source": [
    "def my_first_classifier(row):\n",
    "    if row.PetalLength > 5:\n",
    "        return(\"Virginica\")\n",
    "    elif row.PetalLength > 2.5:\n",
    "        return(\"Versicolor\")\n",
    "    else: \n",
    "        return(\"Setosa\")\n",
    "    \n",
    "#this is essentialy a machine learning algorithm"
   ]
  },
  {
   "cell_type": "code",
   "execution_count": 94,
   "metadata": {},
   "outputs": [
    {
     "data": {
      "text/plain": [
       "0          Setosa\n",
       "1          Setosa\n",
       "2          Setosa\n",
       "3          Setosa\n",
       "4          Setosa\n",
       "          ...    \n",
       "145     Virginica\n",
       "146    Versicolor\n",
       "147     Virginica\n",
       "148     Virginica\n",
       "149     Virginica\n",
       "Length: 150, dtype: object"
      ]
     },
     "execution_count": 94,
     "metadata": {},
     "output_type": "execute_result"
    }
   ],
   "source": [
    "c_hat = df.apply(my_first_classifier, axis = 1)\n",
    "# apply data fram to function by row to get predictions\n",
    "c_hat\n",
    "# chat means estimate"
   ]
  },
  {
   "cell_type": "code",
   "execution_count": 95,
   "metadata": {},
   "outputs": [
    {
     "data": {
      "text/plain": [
       "10"
      ]
     },
     "execution_count": 95,
     "metadata": {},
     "output_type": "execute_result"
    }
   ],
   "source": [
    "(c_hat != c).sum()\n",
    "#this is how many are wrong. 10 out of 140 isn't bad"
   ]
  },
  {
   "cell_type": "code",
   "execution_count": 96,
   "metadata": {},
   "outputs": [
    {
     "data": {
      "text/html": [
       "<div>\n",
       "<style>\n",
       "    .dataframe thead tr:only-child th {\n",
       "        text-align: right;\n",
       "    }\n",
       "\n",
       "    .dataframe thead th {\n",
       "        text-align: left;\n",
       "    }\n",
       "\n",
       "    .dataframe tbody tr th {\n",
       "        vertical-align: top;\n",
       "    }\n",
       "</style>\n",
       "<table border=\"1\" class=\"dataframe\">\n",
       "  <thead>\n",
       "    <tr style=\"text-align: right;\">\n",
       "      <th>True Class</th>\n",
       "      <th>Setosa</th>\n",
       "      <th>Versicolor</th>\n",
       "      <th>Virginica</th>\n",
       "    </tr>\n",
       "    <tr>\n",
       "      <th>Hypothesized Class</th>\n",
       "      <th></th>\n",
       "      <th></th>\n",
       "      <th></th>\n",
       "    </tr>\n",
       "  </thead>\n",
       "  <tbody>\n",
       "    <tr>\n",
       "      <th>Setosa</th>\n",
       "      <td>50</td>\n",
       "      <td>0</td>\n",
       "      <td>0</td>\n",
       "    </tr>\n",
       "    <tr>\n",
       "      <th>Versicolor</th>\n",
       "      <td>0</td>\n",
       "      <td>49</td>\n",
       "      <td>9</td>\n",
       "    </tr>\n",
       "    <tr>\n",
       "      <th>Virginica</th>\n",
       "      <td>0</td>\n",
       "      <td>1</td>\n",
       "      <td>41</td>\n",
       "    </tr>\n",
       "  </tbody>\n",
       "</table>\n",
       "</div>"
      ],
      "text/plain": [
       "True Class          Setosa  Versicolor  Virginica\n",
       "Hypothesized Class                               \n",
       "Setosa                  50           0          0\n",
       "Versicolor               0          49          9\n",
       "Virginica                0           1         41"
      ]
     },
     "execution_count": 96,
     "metadata": {},
     "output_type": "execute_result"
    }
   ],
   "source": [
    "pd.crosstab(c_hat, c, rownames = ['Hypothesized Class'], colnames = ['True Class'])\n",
    "#confusion matrix\n",
    "# misclassification rate is everything off the diagonal; accuracy is in the diagonal"
   ]
  },
  {
   "cell_type": "markdown",
   "metadata": {},
   "source": [
    "## Part C | Classification Metrics"
   ]
  },
  {
   "cell_type": "markdown",
   "metadata": {},
   "source": [
    "### Accuracy"
   ]
  },
  {
   "cell_type": "code",
   "execution_count": 97,
   "metadata": {},
   "outputs": [
    {
     "data": {
      "text/plain": [
       "0.93333333333333335"
      ]
     },
     "execution_count": 97,
     "metadata": {},
     "output_type": "execute_result"
    }
   ],
   "source": [
    "(c_hat == c).mean()"
   ]
  },
  {
   "cell_type": "markdown",
   "metadata": {},
   "source": [
    "### Misclassification rate"
   ]
  },
  {
   "cell_type": "code",
   "execution_count": 99,
   "metadata": {},
   "outputs": [
    {
     "data": {
      "text/plain": [
       "0.066666666666666666"
      ]
     },
     "execution_count": 99,
     "metadata": {},
     "output_type": "execute_result"
    }
   ],
   "source": [
    "(c_hat != c).mean()"
   ]
  },
  {
   "cell_type": "markdown",
   "metadata": {},
   "source": [
    "## Part D | $k$-Nearest Neighbors ($k$-NN)"
   ]
  },
  {
   "cell_type": "markdown",
   "metadata": {},
   "source": [
    "### Feature matrix and response vector"
   ]
  },
  {
   "cell_type": "markdown",
   "metadata": {},
   "source": [
    "- (http://scikit-learn.org/stable/modules/generated/sklearn.preprocessing.MinMaxScaler.html)"
   ]
  },
  {
   "cell_type": "code",
   "execution_count": 4,
   "metadata": {},
   "outputs": [],
   "source": [
    "columns_X = ['SepalLength', 'SepalWidth', 'PetalLength', 'PetalWidth']\n",
    "X = df[columns_X]\n",
    "\n",
    "#for each features remember min and max -- that's what fit does\n",
    "scaler = preprocessing.MinMaxScaler().fit(X)\n",
    "#transform makes min and max = 0 and 1\n",
    "#this is so we compare the same things\n",
    "X = scaler.transform(X)"
   ]
  },
  {
   "cell_type": "code",
   "execution_count": null,
   "metadata": {
    "collapsed": true
   },
   "outputs": [],
   "source": [
    "# TODO"
   ]
  },
  {
   "cell_type": "code",
   "execution_count": 6,
   "metadata": {
    "collapsed": true
   },
   "outputs": [],
   "source": [
    "c = df.Species"
   ]
  },
  {
   "cell_type": "code",
   "execution_count": 7,
   "metadata": {},
   "outputs": [
    {
     "data": {
      "text/plain": [
       "0         Setosa\n",
       "1         Setosa\n",
       "2         Setosa\n",
       "3         Setosa\n",
       "4         Setosa\n",
       "         ...    \n",
       "145    Virginica\n",
       "146    Virginica\n",
       "147    Virginica\n",
       "148    Virginica\n",
       "149    Virginica\n",
       "Name: Species, Length: 150, dtype: object"
      ]
     },
     "execution_count": 7,
     "metadata": {},
     "output_type": "execute_result"
    }
   ],
   "source": [
    "c"
   ]
  },
  {
   "cell_type": "markdown",
   "metadata": {},
   "source": [
    "### $k$-Nearest Neighbors"
   ]
  },
  {
   "cell_type": "markdown",
   "metadata": {},
   "source": [
    "- (http://scikit-learn.org/stable/modules/generated/sklearn.neighbors.KNeighborsClassifier.html)"
   ]
  },
  {
   "cell_type": "code",
   "execution_count": 12,
   "metadata": {},
   "outputs": [],
   "source": [
    "model = neighbors.KNeighborsClassifier(n_neighbors = 3).\\\n",
    "    fit(X, c)"
   ]
  },
  {
   "cell_type": "markdown",
   "metadata": {},
   "source": [
    "You can measure the precision of your prediction with `.score()`"
   ]
  },
  {
   "cell_type": "code",
   "execution_count": 13,
   "metadata": {},
   "outputs": [
    {
     "data": {
      "text/plain": [
       "0.96666666666666667"
      ]
     },
     "execution_count": 13,
     "metadata": {},
     "output_type": "execute_result"
    }
   ],
   "source": [
    "model.score(X, c)\n",
    "#"
   ]
  },
  {
   "cell_type": "code",
   "execution_count": 14,
   "metadata": {
    "collapsed": true
   },
   "outputs": [],
   "source": [
    "c_hat = model.predict(X)"
   ]
  },
  {
   "cell_type": "code",
   "execution_count": 15,
   "metadata": {},
   "outputs": [
    {
     "data": {
      "text/plain": [
       "0.96666666666666667"
      ]
     },
     "execution_count": 15,
     "metadata": {},
     "output_type": "execute_result"
    }
   ],
   "source": [
    "(c_hat == c).mean()"
   ]
  },
  {
   "cell_type": "code",
   "execution_count": 16,
   "metadata": {},
   "outputs": [
    {
     "data": {
      "text/html": [
       "<div>\n",
       "<style>\n",
       "    .dataframe thead tr:only-child th {\n",
       "        text-align: right;\n",
       "    }\n",
       "\n",
       "    .dataframe thead th {\n",
       "        text-align: left;\n",
       "    }\n",
       "\n",
       "    .dataframe tbody tr th {\n",
       "        vertical-align: top;\n",
       "    }\n",
       "</style>\n",
       "<table border=\"1\" class=\"dataframe\">\n",
       "  <thead>\n",
       "    <tr style=\"text-align: right;\">\n",
       "      <th>True Class</th>\n",
       "      <th>Setosa</th>\n",
       "      <th>Versicolor</th>\n",
       "      <th>Virginica</th>\n",
       "    </tr>\n",
       "    <tr>\n",
       "      <th>Hypothesized Class</th>\n",
       "      <th></th>\n",
       "      <th></th>\n",
       "      <th></th>\n",
       "    </tr>\n",
       "  </thead>\n",
       "  <tbody>\n",
       "    <tr>\n",
       "      <th>Setosa</th>\n",
       "      <td>50</td>\n",
       "      <td>0</td>\n",
       "      <td>0</td>\n",
       "    </tr>\n",
       "    <tr>\n",
       "      <th>Versicolor</th>\n",
       "      <td>0</td>\n",
       "      <td>48</td>\n",
       "      <td>3</td>\n",
       "    </tr>\n",
       "    <tr>\n",
       "      <th>Virginica</th>\n",
       "      <td>0</td>\n",
       "      <td>2</td>\n",
       "      <td>47</td>\n",
       "    </tr>\n",
       "  </tbody>\n",
       "</table>\n",
       "</div>"
      ],
      "text/plain": [
       "True Class          Setosa  Versicolor  Virginica\n",
       "Hypothesized Class                               \n",
       "Setosa                  50           0          0\n",
       "Versicolor               0          48          3\n",
       "Virginica                0           2         47"
      ]
     },
     "execution_count": 16,
     "metadata": {},
     "output_type": "execute_result"
    }
   ],
   "source": [
    "pd.crosstab(c_hat, c, rownames = ['Hypothesized Class'], colnames = ['True Class'])"
   ]
  },
  {
   "cell_type": "markdown",
   "metadata": {},
   "source": [
    "### Train/test sets"
   ]
  },
  {
   "cell_type": "markdown",
   "metadata": {},
   "source": [
    "- (http://pandas.pydata.org/pandas-docs/stable/generated/pandas.DataFrame.sample.html)"
   ]
  },
  {
   "cell_type": "markdown",
   "metadata": {},
   "source": [
    "50% of the dataset to train the model; the rest to test the model"
   ]
  },
  {
   "cell_type": "code",
   "execution_count": 17,
   "metadata": {
    "collapsed": true
   },
   "outputs": [],
   "source": [
    "train_df = df.sample(frac = .5, random_state = 0).sort_index()"
   ]
  },
  {
   "cell_type": "code",
   "execution_count": 18,
   "metadata": {},
   "outputs": [
    {
     "data": {
      "text/html": [
       "<div>\n",
       "<style>\n",
       "    .dataframe thead tr:only-child th {\n",
       "        text-align: right;\n",
       "    }\n",
       "\n",
       "    .dataframe thead th {\n",
       "        text-align: left;\n",
       "    }\n",
       "\n",
       "    .dataframe tbody tr th {\n",
       "        vertical-align: top;\n",
       "    }\n",
       "</style>\n",
       "<table border=\"1\" class=\"dataframe\">\n",
       "  <thead>\n",
       "    <tr style=\"text-align: right;\">\n",
       "      <th></th>\n",
       "      <th>SepalLength</th>\n",
       "      <th>SepalWidth</th>\n",
       "      <th>PetalLength</th>\n",
       "      <th>PetalWidth</th>\n",
       "      <th>Species</th>\n",
       "    </tr>\n",
       "  </thead>\n",
       "  <tbody>\n",
       "    <tr>\n",
       "      <th>2</th>\n",
       "      <td>4.7</td>\n",
       "      <td>3.2</td>\n",
       "      <td>1.3</td>\n",
       "      <td>0.2</td>\n",
       "      <td>Setosa</td>\n",
       "    </tr>\n",
       "    <tr>\n",
       "      <th>7</th>\n",
       "      <td>5.0</td>\n",
       "      <td>3.4</td>\n",
       "      <td>1.5</td>\n",
       "      <td>0.2</td>\n",
       "      <td>Setosa</td>\n",
       "    </tr>\n",
       "    <tr>\n",
       "      <th>8</th>\n",
       "      <td>4.4</td>\n",
       "      <td>2.9</td>\n",
       "      <td>1.4</td>\n",
       "      <td>0.2</td>\n",
       "      <td>Setosa</td>\n",
       "    </tr>\n",
       "    <tr>\n",
       "      <th>10</th>\n",
       "      <td>5.4</td>\n",
       "      <td>3.7</td>\n",
       "      <td>1.5</td>\n",
       "      <td>0.2</td>\n",
       "      <td>Setosa</td>\n",
       "    </tr>\n",
       "    <tr>\n",
       "      <th>13</th>\n",
       "      <td>4.3</td>\n",
       "      <td>3.0</td>\n",
       "      <td>1.1</td>\n",
       "      <td>0.1</td>\n",
       "      <td>Setosa</td>\n",
       "    </tr>\n",
       "    <tr>\n",
       "      <th>...</th>\n",
       "      <td>...</td>\n",
       "      <td>...</td>\n",
       "      <td>...</td>\n",
       "      <td>...</td>\n",
       "      <td>...</td>\n",
       "    </tr>\n",
       "    <tr>\n",
       "      <th>137</th>\n",
       "      <td>6.4</td>\n",
       "      <td>3.1</td>\n",
       "      <td>5.5</td>\n",
       "      <td>1.8</td>\n",
       "      <td>Virginica</td>\n",
       "    </tr>\n",
       "    <tr>\n",
       "      <th>141</th>\n",
       "      <td>6.9</td>\n",
       "      <td>3.1</td>\n",
       "      <td>5.1</td>\n",
       "      <td>2.3</td>\n",
       "      <td>Virginica</td>\n",
       "    </tr>\n",
       "    <tr>\n",
       "      <th>144</th>\n",
       "      <td>6.7</td>\n",
       "      <td>3.3</td>\n",
       "      <td>5.7</td>\n",
       "      <td>2.5</td>\n",
       "      <td>Virginica</td>\n",
       "    </tr>\n",
       "    <tr>\n",
       "      <th>146</th>\n",
       "      <td>6.3</td>\n",
       "      <td>2.5</td>\n",
       "      <td>5.0</td>\n",
       "      <td>1.9</td>\n",
       "      <td>Virginica</td>\n",
       "    </tr>\n",
       "    <tr>\n",
       "      <th>147</th>\n",
       "      <td>6.5</td>\n",
       "      <td>3.0</td>\n",
       "      <td>5.2</td>\n",
       "      <td>2.0</td>\n",
       "      <td>Virginica</td>\n",
       "    </tr>\n",
       "  </tbody>\n",
       "</table>\n",
       "<p>75 rows × 5 columns</p>\n",
       "</div>"
      ],
      "text/plain": [
       "     SepalLength  SepalWidth  PetalLength  PetalWidth    Species\n",
       "2            4.7         3.2          1.3         0.2     Setosa\n",
       "7            5.0         3.4          1.5         0.2     Setosa\n",
       "8            4.4         2.9          1.4         0.2     Setosa\n",
       "10           5.4         3.7          1.5         0.2     Setosa\n",
       "13           4.3         3.0          1.1         0.1     Setosa\n",
       "..           ...         ...          ...         ...        ...\n",
       "137          6.4         3.1          5.5         1.8  Virginica\n",
       "141          6.9         3.1          5.1         2.3  Virginica\n",
       "144          6.7         3.3          5.7         2.5  Virginica\n",
       "146          6.3         2.5          5.0         1.9  Virginica\n",
       "147          6.5         3.0          5.2         2.0  Virginica\n",
       "\n",
       "[75 rows x 5 columns]"
      ]
     },
     "execution_count": 18,
     "metadata": {},
     "output_type": "execute_result"
    }
   ],
   "source": [
    "train_df"
   ]
  },
  {
   "cell_type": "code",
   "execution_count": 19,
   "metadata": {
    "collapsed": true
   },
   "outputs": [],
   "source": [
    "test_df = df.drop(train_df.index)"
   ]
  },
  {
   "cell_type": "code",
   "execution_count": 20,
   "metadata": {},
   "outputs": [
    {
     "data": {
      "text/html": [
       "<div>\n",
       "<style>\n",
       "    .dataframe thead tr:only-child th {\n",
       "        text-align: right;\n",
       "    }\n",
       "\n",
       "    .dataframe thead th {\n",
       "        text-align: left;\n",
       "    }\n",
       "\n",
       "    .dataframe tbody tr th {\n",
       "        vertical-align: top;\n",
       "    }\n",
       "</style>\n",
       "<table border=\"1\" class=\"dataframe\">\n",
       "  <thead>\n",
       "    <tr style=\"text-align: right;\">\n",
       "      <th></th>\n",
       "      <th>SepalLength</th>\n",
       "      <th>SepalWidth</th>\n",
       "      <th>PetalLength</th>\n",
       "      <th>PetalWidth</th>\n",
       "      <th>Species</th>\n",
       "    </tr>\n",
       "  </thead>\n",
       "  <tbody>\n",
       "    <tr>\n",
       "      <th>0</th>\n",
       "      <td>5.1</td>\n",
       "      <td>3.5</td>\n",
       "      <td>1.4</td>\n",
       "      <td>0.2</td>\n",
       "      <td>Setosa</td>\n",
       "    </tr>\n",
       "    <tr>\n",
       "      <th>1</th>\n",
       "      <td>4.9</td>\n",
       "      <td>3.0</td>\n",
       "      <td>1.4</td>\n",
       "      <td>0.2</td>\n",
       "      <td>Setosa</td>\n",
       "    </tr>\n",
       "    <tr>\n",
       "      <th>3</th>\n",
       "      <td>4.6</td>\n",
       "      <td>3.1</td>\n",
       "      <td>1.5</td>\n",
       "      <td>0.2</td>\n",
       "      <td>Setosa</td>\n",
       "    </tr>\n",
       "    <tr>\n",
       "      <th>4</th>\n",
       "      <td>5.0</td>\n",
       "      <td>3.6</td>\n",
       "      <td>1.4</td>\n",
       "      <td>0.2</td>\n",
       "      <td>Setosa</td>\n",
       "    </tr>\n",
       "    <tr>\n",
       "      <th>5</th>\n",
       "      <td>5.4</td>\n",
       "      <td>3.9</td>\n",
       "      <td>1.7</td>\n",
       "      <td>0.4</td>\n",
       "      <td>Setosa</td>\n",
       "    </tr>\n",
       "    <tr>\n",
       "      <th>...</th>\n",
       "      <td>...</td>\n",
       "      <td>...</td>\n",
       "      <td>...</td>\n",
       "      <td>...</td>\n",
       "      <td>...</td>\n",
       "    </tr>\n",
       "    <tr>\n",
       "      <th>142</th>\n",
       "      <td>5.8</td>\n",
       "      <td>2.7</td>\n",
       "      <td>5.1</td>\n",
       "      <td>1.9</td>\n",
       "      <td>Virginica</td>\n",
       "    </tr>\n",
       "    <tr>\n",
       "      <th>143</th>\n",
       "      <td>6.8</td>\n",
       "      <td>3.2</td>\n",
       "      <td>5.9</td>\n",
       "      <td>2.3</td>\n",
       "      <td>Virginica</td>\n",
       "    </tr>\n",
       "    <tr>\n",
       "      <th>145</th>\n",
       "      <td>6.7</td>\n",
       "      <td>3.0</td>\n",
       "      <td>5.2</td>\n",
       "      <td>2.3</td>\n",
       "      <td>Virginica</td>\n",
       "    </tr>\n",
       "    <tr>\n",
       "      <th>148</th>\n",
       "      <td>6.2</td>\n",
       "      <td>3.4</td>\n",
       "      <td>5.4</td>\n",
       "      <td>2.3</td>\n",
       "      <td>Virginica</td>\n",
       "    </tr>\n",
       "    <tr>\n",
       "      <th>149</th>\n",
       "      <td>5.9</td>\n",
       "      <td>3.0</td>\n",
       "      <td>5.1</td>\n",
       "      <td>1.8</td>\n",
       "      <td>Virginica</td>\n",
       "    </tr>\n",
       "  </tbody>\n",
       "</table>\n",
       "<p>75 rows × 5 columns</p>\n",
       "</div>"
      ],
      "text/plain": [
       "     SepalLength  SepalWidth  PetalLength  PetalWidth    Species\n",
       "0            5.1         3.5          1.4         0.2     Setosa\n",
       "1            4.9         3.0          1.4         0.2     Setosa\n",
       "3            4.6         3.1          1.5         0.2     Setosa\n",
       "4            5.0         3.6          1.4         0.2     Setosa\n",
       "5            5.4         3.9          1.7         0.4     Setosa\n",
       "..           ...         ...          ...         ...        ...\n",
       "142          5.8         2.7          5.1         1.9  Virginica\n",
       "143          6.8         3.2          5.9         2.3  Virginica\n",
       "145          6.7         3.0          5.2         2.3  Virginica\n",
       "148          6.2         3.4          5.4         2.3  Virginica\n",
       "149          5.9         3.0          5.1         1.8  Virginica\n",
       "\n",
       "[75 rows x 5 columns]"
      ]
     },
     "execution_count": 20,
     "metadata": {},
     "output_type": "execute_result"
    }
   ],
   "source": [
    "test_df"
   ]
  },
  {
   "cell_type": "markdown",
   "metadata": {},
   "source": [
    "### Feature matrix `train_X` and response vector `train_c`"
   ]
  },
  {
   "cell_type": "code",
   "execution_count": 21,
   "metadata": {
    "collapsed": true
   },
   "outputs": [],
   "source": [
    "train_X = train_df[columns_X]\n",
    "\n",
    "scaler = preprocessing.MinMaxScaler().fit(train_X)\n",
    "train_X = scaler.transform(train_X)\n",
    "\n",
    "train_c = train_df.Species"
   ]
  },
  {
   "cell_type": "markdown",
   "metadata": {},
   "source": [
    "### Feature matrix `test_X` and response vector `test_c`"
   ]
  },
  {
   "cell_type": "markdown",
   "metadata": {},
   "source": [
    "- (http://scikit-learn.org/stable/modules/generated/sklearn.model_selection.GridSearchCV.html)\n",
    "- (http://scikit-learn.org/stable/modules/generated/sklearn.model_selection.KFold.html)"
   ]
  },
  {
   "cell_type": "code",
   "execution_count": null,
   "metadata": {
    "collapsed": true
   },
   "outputs": [],
   "source": [
    "#This is how you do the k-fold shit:"
   ]
  },
  {
   "cell_type": "code",
   "execution_count": 22,
   "metadata": {},
   "outputs": [
    {
     "data": {
      "text/plain": [
       "GridSearchCV(cv=KFold(n_splits=5, random_state=0, shuffle=True),\n",
       "       error_score='raise',\n",
       "       estimator=KNeighborsClassifier(algorithm='auto', leaf_size=30, metric='minkowski',\n",
       "           metric_params=None, n_jobs=1, n_neighbors=5, p=2,\n",
       "           weights='uniform'),\n",
       "       fit_params={}, iid=True, n_jobs=1,\n",
       "       param_grid={'n_neighbors': [1, 2, 3, 4, 5, 6, 7, 8, 9, 10, 11, 12, 13, 14, 15, 16, 17, 18, 19, 20, 21, 22, 23, 24, 25, 26, 27, 28, 29, 30, 31, 32, 33, 34, 35, 36, 37, 38, 39, 40, 41, 42, 43, 44, 45, 46, 47, 48, 49, 50, 51, 52, 53, 54, 55, 56, 57, 58, 59], 'weights': ['uniform', 'distance']},\n",
       "       pre_dispatch='2*n_jobs', refit=True, return_train_score=True,\n",
       "       scoring=None, verbose=0)"
      ]
     },
     "execution_count": 22,
     "metadata": {},
     "output_type": "execute_result"
    }
   ],
   "source": [
    "k_cv = 5 # 5-fold CV\n",
    "k_nn = range(1, train_df.shape[0] * (k_cv - 1) / k_cv) # k-NN\n",
    "\n",
    "gs = model_selection.GridSearchCV(\n",
    "    estimator = neighbors.KNeighborsClassifier(),\n",
    "    param_grid = {'n_neighbors': k_nn, 'weights': ['uniform', 'distance']},\n",
    "    cv = model_selection.KFold(n_splits = k_cv, shuffle = True, random_state = 0)\n",
    ")\n",
    "\n",
    "gs.fit(train_X, train_c)"
   ]
  },
  {
   "cell_type": "code",
   "execution_count": 23,
   "metadata": {},
   "outputs": [
    {
     "data": {
      "text/plain": [
       "{'mean_fit_time': array([ 0.0008616 ,  0.00065856,  0.00088062,  0.00056305,  0.0005044 ,\n",
       "         0.00063286,  0.00055461,  0.00046082,  0.0004252 ,  0.00046959,\n",
       "         0.00042319,  0.00059438,  0.0007338 ,  0.00051579,  0.00055938,\n",
       "         0.00055618,  0.00055404,  0.00060906,  0.00052085,  0.00047383,\n",
       "         0.00044641,  0.00048599,  0.00048127,  0.00045681,  0.00050039,\n",
       "         0.00054917,  0.00052876,  0.00060992,  0.00055404,  0.00066786,\n",
       "         0.00060358,  0.00057621,  0.00045695,  0.00050359,  0.00049338,\n",
       "         0.00046201,  0.00044441,  0.00046344,  0.00052509,  0.00044265,\n",
       "         0.00047398,  0.00044641,  0.000453  ,  0.00049443,  0.00048137,\n",
       "         0.00045195,  0.00057354,  0.00043221,  0.00045085,  0.00043283,\n",
       "         0.00042229,  0.00041838,  0.00054741,  0.00042858,  0.00046439,\n",
       "         0.00047278,  0.00041456,  0.0004282 ,  0.00037832,  0.00030975,\n",
       "         0.00033774,  0.00031877,  0.00032883,  0.00036039,  0.00038757,\n",
       "         0.00058999,  0.00032697,  0.00033298,  0.00032659,  0.00033078,\n",
       "         0.00031753,  0.00036378,  0.00031018,  0.00035987,  0.00031958,\n",
       "         0.00037928,  0.00032921,  0.0003664 ,  0.00031247,  0.00032678,\n",
       "         0.00033097,  0.00034604,  0.00033574,  0.00035062,  0.00032125,\n",
       "         0.00047736,  0.00033321,  0.00035214,  0.00032258,  0.00031776,\n",
       "         0.00034003,  0.00031862,  0.00033278,  0.00033908,  0.00031648,\n",
       "         0.00031762,  0.00032902,  0.00032358,  0.0003088 ,  0.00031452,\n",
       "         0.00031562,  0.00031681,  0.00031257,  0.00034976,  0.00032778,\n",
       "         0.00034981,  0.00033937,  0.0003304 ,  0.00031424,  0.00034041,\n",
       "         0.00035601,  0.00032563,  0.00032544,  0.00038242,  0.00032887,\n",
       "         0.00033503,  0.00035086,  0.00034637]),\n",
       " 'mean_score_time': array([ 0.00192432,  0.00142603,  0.00193558,  0.00134339,  0.0011682 ,\n",
       "         0.00148811,  0.00147014,  0.00126963,  0.00096135,  0.001125  ,\n",
       "         0.00100636,  0.00124583,  0.00169697,  0.00139065,  0.00113378,\n",
       "         0.00116339,  0.00110664,  0.00117278,  0.00132179,  0.00113478,\n",
       "         0.0010582 ,  0.00109582,  0.0010982 ,  0.0010654 ,  0.00116081,\n",
       "         0.00116458,  0.00123906,  0.0014051 ,  0.00143795,  0.00153747,\n",
       "         0.0013752 ,  0.00126643,  0.00107045,  0.00107746,  0.00112562,\n",
       "         0.00118523,  0.00108685,  0.00107164,  0.00111885,  0.00118079,\n",
       "         0.00114899,  0.00105777,  0.00103374,  0.00108638,  0.00114846,\n",
       "         0.00110121,  0.00136662,  0.00105376,  0.00102654,  0.0010488 ,\n",
       "         0.00104337,  0.00103908,  0.00112939,  0.0010922 ,  0.00108266,\n",
       "         0.00106063,  0.00105643,  0.00105605,  0.01774406,  0.00047183,\n",
       "         0.00051079,  0.00047722,  0.00048156,  0.00051999,  0.00052862,\n",
       "         0.000811  ,  0.0004612 ,  0.00048757,  0.00045733,  0.00049119,\n",
       "         0.00045505,  0.00052543,  0.00045695,  0.00056233,  0.00047541,\n",
       "         0.00052638,  0.00046239,  0.00054722,  0.00048819,  0.00053563,\n",
       "         0.00046177,  0.00052118,  0.00047603,  0.00050235,  0.00046144,\n",
       "         0.00066805,  0.00049615,  0.00059481,  0.00047755,  0.00049696,\n",
       "         0.00048499,  0.00051856,  0.00050793,  0.00053258,  0.00046191,\n",
       "         0.00054398,  0.00046358,  0.00054226,  0.00046611,  0.00050225,\n",
       "         0.00049858,  0.00050373,  0.00046406,  0.00055342,  0.00048256,\n",
       "         0.00060353,  0.00047359,  0.00052462,  0.00049081,  0.00052657,\n",
       "         0.00051985,  0.00054903,  0.00047975,  0.000596  ,  0.00049634,\n",
       "         0.00052686,  0.00049558,  0.00056944]),\n",
       " 'mean_test_score': array([ 0.93333333,  0.93333333,  0.90666667,  0.93333333,  0.96      ,\n",
       "         0.96      ,  0.93333333,  0.94666667,  0.94666667,  0.94666667,\n",
       "         0.93333333,  0.94666667,  0.93333333,  0.93333333,  0.93333333,\n",
       "         0.93333333,  0.94666667,  0.94666667,  0.93333333,  0.93333333,\n",
       "         0.94666667,  0.94666667,  0.90666667,  0.93333333,  0.89333333,\n",
       "         0.93333333,  0.90666667,  0.92      ,  0.90666667,  0.92      ,\n",
       "         0.92      ,  0.92      ,  0.92      ,  0.92      ,  0.90666667,\n",
       "         0.92      ,  0.92      ,  0.92      ,  0.92      ,  0.92      ,\n",
       "         0.89333333,  0.92      ,  0.88      ,  0.92      ,  0.88      ,\n",
       "         0.92      ,  0.88      ,  0.92      ,  0.89333333,  0.92      ,\n",
       "         0.88      ,  0.92      ,  0.76      ,  0.92      ,  0.77333333,\n",
       "         0.92      ,  0.76      ,  0.93333333,  0.76      ,  0.93333333,\n",
       "         0.76      ,  0.93333333,  0.73333333,  0.92      ,  0.68      ,\n",
       "         0.93333333,  0.57333333,  0.93333333,  0.56      ,  0.93333333,\n",
       "         0.52      ,  0.92      ,  0.49333333,  0.93333333,  0.48      ,\n",
       "         0.93333333,  0.48      ,  0.93333333,  0.41333333,  0.93333333,\n",
       "         0.4       ,  0.93333333,  0.4       ,  0.93333333,  0.4       ,\n",
       "         0.93333333,  0.4       ,  0.93333333,  0.4       ,  0.93333333,\n",
       "         0.4       ,  0.93333333,  0.4       ,  0.93333333,  0.4       ,\n",
       "         0.93333333,  0.4       ,  0.93333333,  0.4       ,  0.93333333,\n",
       "         0.4       ,  0.93333333,  0.4       ,  0.93333333,  0.4       ,\n",
       "         0.93333333,  0.4       ,  0.93333333,  0.4       ,  0.93333333,\n",
       "         0.4       ,  0.93333333,  0.4       ,  0.93333333,  0.4       ,\n",
       "         0.93333333,  0.4       ,  0.93333333]),\n",
       " 'mean_train_score': array([ 1.        ,  1.        ,  0.95333333,  1.        ,  0.96333333,\n",
       "         1.        ,  0.95      ,  1.        ,  0.96333333,  1.        ,\n",
       "         0.96333333,  1.        ,  0.97      ,  1.        ,  0.96333333,\n",
       "         1.        ,  0.96333333,  1.        ,  0.95333333,  1.        ,\n",
       "         0.96666667,  1.        ,  0.95333333,  1.        ,  0.97      ,\n",
       "         1.        ,  0.94666667,  1.        ,  0.95666667,  1.        ,\n",
       "         0.93333333,  1.        ,  0.94333333,  1.        ,  0.93666667,\n",
       "         1.        ,  0.93333333,  1.        ,  0.92666667,  1.        ,\n",
       "         0.93333333,  1.        ,  0.92      ,  1.        ,  0.92333333,\n",
       "         1.        ,  0.91      ,  1.        ,  0.91333333,  1.        ,\n",
       "         0.9       ,  1.        ,  0.85666667,  1.        ,  0.84333333,\n",
       "         1.        ,  0.84666667,  1.        ,  0.84      ,  1.        ,\n",
       "         0.83333333,  1.        ,  0.81333333,  1.        ,  0.79      ,\n",
       "         1.        ,  0.71      ,  1.        ,  0.67      ,  1.        ,\n",
       "         0.63333333,  1.        ,  0.59      ,  1.        ,  0.53333333,\n",
       "         1.        ,  0.54      ,  1.        ,  0.46666667,  1.        ,\n",
       "         0.46      ,  1.        ,  0.45666667,  1.        ,  0.44333333,\n",
       "         1.        ,  0.42666667,  1.        ,  0.41666667,  1.        ,\n",
       "         0.41333333,  1.        ,  0.41      ,  1.        ,  0.40666667,\n",
       "         1.        ,  0.4       ,  1.        ,  0.4       ,  1.        ,\n",
       "         0.4       ,  1.        ,  0.4       ,  1.        ,  0.4       ,\n",
       "         1.        ,  0.4       ,  1.        ,  0.4       ,  1.        ,\n",
       "         0.4       ,  1.        ,  0.4       ,  1.        ,  0.4       ,\n",
       "         1.        ,  0.4       ,  1.        ]),\n",
       " 'param_n_neighbors': masked_array(data = [1 1 2 2 3 3 4 4 5 5 6 6 7 7 8 8 9 9 10 10 11 11 12 12 13 13 14 14 15 15 16\n",
       "  16 17 17 18 18 19 19 20 20 21 21 22 22 23 23 24 24 25 25 26 26 27 27 28 28\n",
       "  29 29 30 30 31 31 32 32 33 33 34 34 35 35 36 36 37 37 38 38 39 39 40 40 41\n",
       "  41 42 42 43 43 44 44 45 45 46 46 47 47 48 48 49 49 50 50 51 51 52 52 53 53\n",
       "  54 54 55 55 56 56 57 57 58 58 59 59],\n",
       "              mask = [False False False False False False False False False False False False\n",
       "  False False False False False False False False False False False False\n",
       "  False False False False False False False False False False False False\n",
       "  False False False False False False False False False False False False\n",
       "  False False False False False False False False False False False False\n",
       "  False False False False False False False False False False False False\n",
       "  False False False False False False False False False False False False\n",
       "  False False False False False False False False False False False False\n",
       "  False False False False False False False False False False False False\n",
       "  False False False False False False False False False False],\n",
       "        fill_value = ?),\n",
       " 'param_weights': masked_array(data = ['uniform' 'distance' 'uniform' 'distance' 'uniform' 'distance' 'uniform'\n",
       "  'distance' 'uniform' 'distance' 'uniform' 'distance' 'uniform' 'distance'\n",
       "  'uniform' 'distance' 'uniform' 'distance' 'uniform' 'distance' 'uniform'\n",
       "  'distance' 'uniform' 'distance' 'uniform' 'distance' 'uniform' 'distance'\n",
       "  'uniform' 'distance' 'uniform' 'distance' 'uniform' 'distance' 'uniform'\n",
       "  'distance' 'uniform' 'distance' 'uniform' 'distance' 'uniform' 'distance'\n",
       "  'uniform' 'distance' 'uniform' 'distance' 'uniform' 'distance' 'uniform'\n",
       "  'distance' 'uniform' 'distance' 'uniform' 'distance' 'uniform' 'distance'\n",
       "  'uniform' 'distance' 'uniform' 'distance' 'uniform' 'distance' 'uniform'\n",
       "  'distance' 'uniform' 'distance' 'uniform' 'distance' 'uniform' 'distance'\n",
       "  'uniform' 'distance' 'uniform' 'distance' 'uniform' 'distance' 'uniform'\n",
       "  'distance' 'uniform' 'distance' 'uniform' 'distance' 'uniform' 'distance'\n",
       "  'uniform' 'distance' 'uniform' 'distance' 'uniform' 'distance' 'uniform'\n",
       "  'distance' 'uniform' 'distance' 'uniform' 'distance' 'uniform' 'distance'\n",
       "  'uniform' 'distance' 'uniform' 'distance' 'uniform' 'distance' 'uniform'\n",
       "  'distance' 'uniform' 'distance' 'uniform' 'distance' 'uniform' 'distance'\n",
       "  'uniform' 'distance' 'uniform' 'distance' 'uniform' 'distance'],\n",
       "              mask = [False False False False False False False False False False False False\n",
       "  False False False False False False False False False False False False\n",
       "  False False False False False False False False False False False False\n",
       "  False False False False False False False False False False False False\n",
       "  False False False False False False False False False False False False\n",
       "  False False False False False False False False False False False False\n",
       "  False False False False False False False False False False False False\n",
       "  False False False False False False False False False False False False\n",
       "  False False False False False False False False False False False False\n",
       "  False False False False False False False False False False],\n",
       "        fill_value = ?),\n",
       " 'params': ({'n_neighbors': 1, 'weights': 'uniform'},\n",
       "  {'n_neighbors': 1, 'weights': 'distance'},\n",
       "  {'n_neighbors': 2, 'weights': 'uniform'},\n",
       "  {'n_neighbors': 2, 'weights': 'distance'},\n",
       "  {'n_neighbors': 3, 'weights': 'uniform'},\n",
       "  {'n_neighbors': 3, 'weights': 'distance'},\n",
       "  {'n_neighbors': 4, 'weights': 'uniform'},\n",
       "  {'n_neighbors': 4, 'weights': 'distance'},\n",
       "  {'n_neighbors': 5, 'weights': 'uniform'},\n",
       "  {'n_neighbors': 5, 'weights': 'distance'},\n",
       "  {'n_neighbors': 6, 'weights': 'uniform'},\n",
       "  {'n_neighbors': 6, 'weights': 'distance'},\n",
       "  {'n_neighbors': 7, 'weights': 'uniform'},\n",
       "  {'n_neighbors': 7, 'weights': 'distance'},\n",
       "  {'n_neighbors': 8, 'weights': 'uniform'},\n",
       "  {'n_neighbors': 8, 'weights': 'distance'},\n",
       "  {'n_neighbors': 9, 'weights': 'uniform'},\n",
       "  {'n_neighbors': 9, 'weights': 'distance'},\n",
       "  {'n_neighbors': 10, 'weights': 'uniform'},\n",
       "  {'n_neighbors': 10, 'weights': 'distance'},\n",
       "  {'n_neighbors': 11, 'weights': 'uniform'},\n",
       "  {'n_neighbors': 11, 'weights': 'distance'},\n",
       "  {'n_neighbors': 12, 'weights': 'uniform'},\n",
       "  {'n_neighbors': 12, 'weights': 'distance'},\n",
       "  {'n_neighbors': 13, 'weights': 'uniform'},\n",
       "  {'n_neighbors': 13, 'weights': 'distance'},\n",
       "  {'n_neighbors': 14, 'weights': 'uniform'},\n",
       "  {'n_neighbors': 14, 'weights': 'distance'},\n",
       "  {'n_neighbors': 15, 'weights': 'uniform'},\n",
       "  {'n_neighbors': 15, 'weights': 'distance'},\n",
       "  {'n_neighbors': 16, 'weights': 'uniform'},\n",
       "  {'n_neighbors': 16, 'weights': 'distance'},\n",
       "  {'n_neighbors': 17, 'weights': 'uniform'},\n",
       "  {'n_neighbors': 17, 'weights': 'distance'},\n",
       "  {'n_neighbors': 18, 'weights': 'uniform'},\n",
       "  {'n_neighbors': 18, 'weights': 'distance'},\n",
       "  {'n_neighbors': 19, 'weights': 'uniform'},\n",
       "  {'n_neighbors': 19, 'weights': 'distance'},\n",
       "  {'n_neighbors': 20, 'weights': 'uniform'},\n",
       "  {'n_neighbors': 20, 'weights': 'distance'},\n",
       "  {'n_neighbors': 21, 'weights': 'uniform'},\n",
       "  {'n_neighbors': 21, 'weights': 'distance'},\n",
       "  {'n_neighbors': 22, 'weights': 'uniform'},\n",
       "  {'n_neighbors': 22, 'weights': 'distance'},\n",
       "  {'n_neighbors': 23, 'weights': 'uniform'},\n",
       "  {'n_neighbors': 23, 'weights': 'distance'},\n",
       "  {'n_neighbors': 24, 'weights': 'uniform'},\n",
       "  {'n_neighbors': 24, 'weights': 'distance'},\n",
       "  {'n_neighbors': 25, 'weights': 'uniform'},\n",
       "  {'n_neighbors': 25, 'weights': 'distance'},\n",
       "  {'n_neighbors': 26, 'weights': 'uniform'},\n",
       "  {'n_neighbors': 26, 'weights': 'distance'},\n",
       "  {'n_neighbors': 27, 'weights': 'uniform'},\n",
       "  {'n_neighbors': 27, 'weights': 'distance'},\n",
       "  {'n_neighbors': 28, 'weights': 'uniform'},\n",
       "  {'n_neighbors': 28, 'weights': 'distance'},\n",
       "  {'n_neighbors': 29, 'weights': 'uniform'},\n",
       "  {'n_neighbors': 29, 'weights': 'distance'},\n",
       "  {'n_neighbors': 30, 'weights': 'uniform'},\n",
       "  {'n_neighbors': 30, 'weights': 'distance'},\n",
       "  {'n_neighbors': 31, 'weights': 'uniform'},\n",
       "  {'n_neighbors': 31, 'weights': 'distance'},\n",
       "  {'n_neighbors': 32, 'weights': 'uniform'},\n",
       "  {'n_neighbors': 32, 'weights': 'distance'},\n",
       "  {'n_neighbors': 33, 'weights': 'uniform'},\n",
       "  {'n_neighbors': 33, 'weights': 'distance'},\n",
       "  {'n_neighbors': 34, 'weights': 'uniform'},\n",
       "  {'n_neighbors': 34, 'weights': 'distance'},\n",
       "  {'n_neighbors': 35, 'weights': 'uniform'},\n",
       "  {'n_neighbors': 35, 'weights': 'distance'},\n",
       "  {'n_neighbors': 36, 'weights': 'uniform'},\n",
       "  {'n_neighbors': 36, 'weights': 'distance'},\n",
       "  {'n_neighbors': 37, 'weights': 'uniform'},\n",
       "  {'n_neighbors': 37, 'weights': 'distance'},\n",
       "  {'n_neighbors': 38, 'weights': 'uniform'},\n",
       "  {'n_neighbors': 38, 'weights': 'distance'},\n",
       "  {'n_neighbors': 39, 'weights': 'uniform'},\n",
       "  {'n_neighbors': 39, 'weights': 'distance'},\n",
       "  {'n_neighbors': 40, 'weights': 'uniform'},\n",
       "  {'n_neighbors': 40, 'weights': 'distance'},\n",
       "  {'n_neighbors': 41, 'weights': 'uniform'},\n",
       "  {'n_neighbors': 41, 'weights': 'distance'},\n",
       "  {'n_neighbors': 42, 'weights': 'uniform'},\n",
       "  {'n_neighbors': 42, 'weights': 'distance'},\n",
       "  {'n_neighbors': 43, 'weights': 'uniform'},\n",
       "  {'n_neighbors': 43, 'weights': 'distance'},\n",
       "  {'n_neighbors': 44, 'weights': 'uniform'},\n",
       "  {'n_neighbors': 44, 'weights': 'distance'},\n",
       "  {'n_neighbors': 45, 'weights': 'uniform'},\n",
       "  {'n_neighbors': 45, 'weights': 'distance'},\n",
       "  {'n_neighbors': 46, 'weights': 'uniform'},\n",
       "  {'n_neighbors': 46, 'weights': 'distance'},\n",
       "  {'n_neighbors': 47, 'weights': 'uniform'},\n",
       "  {'n_neighbors': 47, 'weights': 'distance'},\n",
       "  {'n_neighbors': 48, 'weights': 'uniform'},\n",
       "  {'n_neighbors': 48, 'weights': 'distance'},\n",
       "  {'n_neighbors': 49, 'weights': 'uniform'},\n",
       "  {'n_neighbors': 49, 'weights': 'distance'},\n",
       "  {'n_neighbors': 50, 'weights': 'uniform'},\n",
       "  {'n_neighbors': 50, 'weights': 'distance'},\n",
       "  {'n_neighbors': 51, 'weights': 'uniform'},\n",
       "  {'n_neighbors': 51, 'weights': 'distance'},\n",
       "  {'n_neighbors': 52, 'weights': 'uniform'},\n",
       "  {'n_neighbors': 52, 'weights': 'distance'},\n",
       "  {'n_neighbors': 53, 'weights': 'uniform'},\n",
       "  {'n_neighbors': 53, 'weights': 'distance'},\n",
       "  {'n_neighbors': 54, 'weights': 'uniform'},\n",
       "  {'n_neighbors': 54, 'weights': 'distance'},\n",
       "  {'n_neighbors': 55, 'weights': 'uniform'},\n",
       "  {'n_neighbors': 55, 'weights': 'distance'},\n",
       "  {'n_neighbors': 56, 'weights': 'uniform'},\n",
       "  {'n_neighbors': 56, 'weights': 'distance'},\n",
       "  {'n_neighbors': 57, 'weights': 'uniform'},\n",
       "  {'n_neighbors': 57, 'weights': 'distance'},\n",
       "  {'n_neighbors': 58, 'weights': 'uniform'},\n",
       "  {'n_neighbors': 58, 'weights': 'distance'},\n",
       "  {'n_neighbors': 59, 'weights': 'uniform'},\n",
       "  {'n_neighbors': 59, 'weights': 'distance'}),\n",
       " 'rank_test_score': array([ 11,  11,  74,  11,   1,   1,  11,   3,   3,   3,  11,   3,  11,\n",
       "         11,  11,  11,   3,   3,  11,  11,   3,   3,  74,  11,  79,  11,\n",
       "         74,  53,  74,  53,  53,  53,  53,  53,  74,  53,  53,  53,  53,\n",
       "         53,  79,  53,  82,  53,  82,  53,  82,  53,  79,  53,  82,  53,\n",
       "         87,  53,  86,  53,  87,  11,  87,  11,  87,  11,  91,  53,  92,\n",
       "         11,  93,  11,  94,  11,  95,  53,  96,  11,  97,  11,  97,  11,\n",
       "         99,  11, 100,  11, 100,  11, 100,  11, 100,  11, 100,  11, 100,\n",
       "         11, 100,  11, 100,  11, 100,  11, 100,  11, 100,  11, 100,  11,\n",
       "        100,  11, 100,  11, 100,  11, 100,  11, 100,  11, 100,  11, 100,  11], dtype=int32),\n",
       " 'split0_test_score': array([ 1.        ,  1.        ,  0.93333333,  1.        ,  1.        ,\n",
       "         1.        ,  1.        ,  1.        ,  1.        ,  1.        ,\n",
       "         1.        ,  1.        ,  1.        ,  1.        ,  1.        ,\n",
       "         1.        ,  1.        ,  1.        ,  1.        ,  1.        ,\n",
       "         1.        ,  1.        ,  1.        ,  1.        ,  1.        ,\n",
       "         1.        ,  1.        ,  1.        ,  1.        ,  1.        ,\n",
       "         1.        ,  1.        ,  1.        ,  1.        ,  1.        ,\n",
       "         1.        ,  1.        ,  1.        ,  1.        ,  1.        ,\n",
       "         1.        ,  1.        ,  1.        ,  1.        ,  1.        ,\n",
       "         1.        ,  1.        ,  1.        ,  1.        ,  1.        ,\n",
       "         0.93333333,  1.        ,  0.93333333,  1.        ,  0.93333333,\n",
       "         1.        ,  0.93333333,  1.        ,  0.93333333,  1.        ,\n",
       "         0.93333333,  1.        ,  0.93333333,  1.        ,  0.93333333,\n",
       "         1.        ,  0.66666667,  1.        ,  0.66666667,  1.        ,\n",
       "         0.6       ,  1.        ,  0.6       ,  1.        ,  0.6       ,\n",
       "         1.        ,  0.6       ,  1.        ,  0.6       ,  1.        ,\n",
       "         0.53333333,  1.        ,  0.53333333,  1.        ,  0.53333333,\n",
       "         1.        ,  0.53333333,  1.        ,  0.53333333,  1.        ,\n",
       "         0.53333333,  1.        ,  0.53333333,  1.        ,  0.53333333,\n",
       "         1.        ,  0.53333333,  1.        ,  0.53333333,  1.        ,\n",
       "         0.53333333,  1.        ,  0.53333333,  1.        ,  0.53333333,\n",
       "         1.        ,  0.53333333,  1.        ,  0.53333333,  1.        ,\n",
       "         0.53333333,  1.        ,  0.53333333,  1.        ,  0.53333333,\n",
       "         1.        ,  0.53333333,  1.        ]),\n",
       " 'split0_train_score': array([ 1.        ,  1.        ,  0.95      ,  1.        ,  0.96666667,\n",
       "         1.        ,  0.93333333,  1.        ,  0.95      ,  1.        ,\n",
       "         0.93333333,  1.        ,  0.96666667,  1.        ,  0.95      ,\n",
       "         1.        ,  0.95      ,  1.        ,  0.93333333,  1.        ,\n",
       "         0.95      ,  1.        ,  0.91666667,  1.        ,  0.95      ,\n",
       "         1.        ,  0.91666667,  1.        ,  0.93333333,  1.        ,\n",
       "         0.88333333,  1.        ,  0.9       ,  1.        ,  0.9       ,\n",
       "         1.        ,  0.9       ,  1.        ,  0.9       ,  1.        ,\n",
       "         0.9       ,  1.        ,  0.88333333,  1.        ,  0.88333333,\n",
       "         1.        ,  0.86666667,  1.        ,  0.86666667,  1.        ,\n",
       "         0.85      ,  1.        ,  0.85      ,  1.        ,  0.85      ,\n",
       "         1.        ,  0.85      ,  1.        ,  0.85      ,  1.        ,\n",
       "         0.85      ,  1.        ,  0.83333333,  1.        ,  0.83333333,\n",
       "         1.        ,  0.71666667,  1.        ,  0.73333333,  1.        ,\n",
       "         0.7       ,  1.        ,  0.7       ,  1.        ,  0.7       ,\n",
       "         1.        ,  0.7       ,  1.        ,  0.7       ,  1.        ,\n",
       "         0.66666667,  1.        ,  0.65      ,  1.        ,  0.58333333,\n",
       "         1.        ,  0.5       ,  1.        ,  0.45      ,  1.        ,\n",
       "         0.43333333,  1.        ,  0.41666667,  1.        ,  0.4       ,\n",
       "         1.        ,  0.36666667,  1.        ,  0.36666667,  1.        ,\n",
       "         0.36666667,  1.        ,  0.36666667,  1.        ,  0.36666667,\n",
       "         1.        ,  0.36666667,  1.        ,  0.36666667,  1.        ,\n",
       "         0.36666667,  1.        ,  0.36666667,  1.        ,  0.36666667,\n",
       "         1.        ,  0.36666667,  1.        ]),\n",
       " 'split1_test_score': array([ 0.86666667,  0.86666667,  0.8       ,  0.86666667,  0.93333333,\n",
       "         0.93333333,  0.86666667,  0.93333333,  0.93333333,  0.93333333,\n",
       "         0.86666667,  0.93333333,  0.86666667,  0.86666667,  0.86666667,\n",
       "         0.86666667,  0.86666667,  0.86666667,  0.86666667,  0.86666667,\n",
       "         0.93333333,  0.93333333,  0.73333333,  0.86666667,  0.73333333,\n",
       "         0.86666667,  0.73333333,  0.8       ,  0.8       ,  0.8       ,\n",
       "         0.8       ,  0.8       ,  0.8       ,  0.8       ,  0.73333333,\n",
       "         0.8       ,  0.8       ,  0.8       ,  0.73333333,  0.8       ,\n",
       "         0.73333333,  0.8       ,  0.66666667,  0.8       ,  0.73333333,\n",
       "         0.8       ,  0.66666667,  0.8       ,  0.73333333,  0.8       ,\n",
       "         0.73333333,  0.8       ,  0.73333333,  0.8       ,  0.66666667,\n",
       "         0.8       ,  0.66666667,  0.8       ,  0.66666667,  0.8       ,\n",
       "         0.73333333,  0.8       ,  0.6       ,  0.73333333,  0.66666667,\n",
       "         0.8       ,  0.6       ,  0.8       ,  0.46666667,  0.8       ,\n",
       "         0.33333333,  0.73333333,  0.33333333,  0.8       ,  0.33333333,\n",
       "         0.8       ,  0.33333333,  0.8       ,  0.33333333,  0.8       ,\n",
       "         0.33333333,  0.8       ,  0.33333333,  0.8       ,  0.33333333,\n",
       "         0.8       ,  0.33333333,  0.8       ,  0.33333333,  0.8       ,\n",
       "         0.33333333,  0.8       ,  0.33333333,  0.8       ,  0.33333333,\n",
       "         0.8       ,  0.33333333,  0.8       ,  0.33333333,  0.8       ,\n",
       "         0.33333333,  0.8       ,  0.33333333,  0.8       ,  0.33333333,\n",
       "         0.8       ,  0.33333333,  0.8       ,  0.33333333,  0.8       ,\n",
       "         0.33333333,  0.8       ,  0.33333333,  0.8       ,  0.33333333,\n",
       "         0.8       ,  0.33333333,  0.8       ]),\n",
       " 'split1_train_score': array([ 1.        ,  1.        ,  0.95      ,  1.        ,  0.95      ,\n",
       "         1.        ,  0.95      ,  1.        ,  0.95      ,  1.        ,\n",
       "         0.96666667,  1.        ,  0.95      ,  1.        ,  0.96666667,\n",
       "         1.        ,  0.96666667,  1.        ,  0.95      ,  1.        ,\n",
       "         0.96666667,  1.        ,  0.96666667,  1.        ,  0.96666667,\n",
       "         1.        ,  0.95      ,  1.        ,  0.95      ,  1.        ,\n",
       "         0.95      ,  1.        ,  0.95      ,  1.        ,  0.95      ,\n",
       "         1.        ,  0.95      ,  1.        ,  0.93333333,  1.        ,\n",
       "         0.93333333,  1.        ,  0.93333333,  1.        ,  0.93333333,\n",
       "         1.        ,  0.9       ,  1.        ,  0.9       ,  1.        ,\n",
       "         0.9       ,  1.        ,  0.9       ,  1.        ,  0.9       ,\n",
       "         1.        ,  0.9       ,  1.        ,  0.88333333,  1.        ,\n",
       "         0.88333333,  1.        ,  0.85      ,  1.        ,  0.88333333,\n",
       "         1.        ,  0.73333333,  1.        ,  0.51666667,  1.        ,\n",
       "         0.41666667,  1.        ,  0.41666667,  1.        ,  0.41666667,\n",
       "         1.        ,  0.41666667,  1.        ,  0.41666667,  1.        ,\n",
       "         0.41666667,  1.        ,  0.41666667,  1.        ,  0.41666667,\n",
       "         1.        ,  0.41666667,  1.        ,  0.41666667,  1.        ,\n",
       "         0.41666667,  1.        ,  0.41666667,  1.        ,  0.41666667,\n",
       "         1.        ,  0.41666667,  1.        ,  0.41666667,  1.        ,\n",
       "         0.41666667,  1.        ,  0.41666667,  1.        ,  0.41666667,\n",
       "         1.        ,  0.41666667,  1.        ,  0.41666667,  1.        ,\n",
       "         0.41666667,  1.        ,  0.41666667,  1.        ,  0.41666667,\n",
       "         1.        ,  0.41666667,  1.        ]),\n",
       " 'split2_test_score': array([ 1.        ,  1.        ,  1.        ,  1.        ,  1.        ,\n",
       "         1.        ,  1.        ,  1.        ,  1.        ,  1.        ,\n",
       "         1.        ,  1.        ,  1.        ,  1.        ,  1.        ,\n",
       "         1.        ,  1.        ,  1.        ,  1.        ,  1.        ,\n",
       "         1.        ,  1.        ,  1.        ,  1.        ,  1.        ,\n",
       "         1.        ,  1.        ,  1.        ,  1.        ,  1.        ,\n",
       "         1.        ,  1.        ,  1.        ,  1.        ,  1.        ,\n",
       "         1.        ,  1.        ,  1.        ,  1.        ,  1.        ,\n",
       "         1.        ,  1.        ,  1.        ,  1.        ,  1.        ,\n",
       "         1.        ,  1.        ,  1.        ,  1.        ,  1.        ,\n",
       "         1.        ,  1.        ,  1.        ,  1.        ,  1.        ,\n",
       "         1.        ,  1.        ,  1.        ,  0.93333333,  1.        ,\n",
       "         0.93333333,  1.        ,  0.93333333,  1.        ,  0.66666667,\n",
       "         1.        ,  0.6       ,  1.        ,  0.6       ,  1.        ,\n",
       "         0.6       ,  1.        ,  0.6       ,  1.        ,  0.46666667,\n",
       "         1.        ,  0.46666667,  1.        ,  0.4       ,  1.        ,\n",
       "         0.4       ,  1.        ,  0.4       ,  1.        ,  0.4       ,\n",
       "         1.        ,  0.4       ,  1.        ,  0.4       ,  1.        ,\n",
       "         0.4       ,  1.        ,  0.4       ,  1.        ,  0.4       ,\n",
       "         1.        ,  0.4       ,  1.        ,  0.4       ,  1.        ,\n",
       "         0.4       ,  1.        ,  0.4       ,  1.        ,  0.4       ,\n",
       "         1.        ,  0.4       ,  1.        ,  0.4       ,  1.        ,\n",
       "         0.4       ,  1.        ,  0.4       ,  1.        ,  0.4       ,\n",
       "         1.        ,  0.4       ,  1.        ]),\n",
       " 'split2_train_score': array([ 1.        ,  1.        ,  0.93333333,  1.        ,  0.95      ,\n",
       "         1.        ,  0.93333333,  1.        ,  0.96666667,  1.        ,\n",
       "         0.96666667,  1.        ,  0.96666667,  1.        ,  0.95      ,\n",
       "         1.        ,  0.95      ,  1.        ,  0.95      ,  1.        ,\n",
       "         0.95      ,  1.        ,  0.95      ,  1.        ,  0.96666667,\n",
       "         1.        ,  0.95      ,  1.        ,  0.96666667,  1.        ,\n",
       "         0.93333333,  1.        ,  0.95      ,  1.        ,  0.93333333,\n",
       "         1.        ,  0.93333333,  1.        ,  0.93333333,  1.        ,\n",
       "         0.93333333,  1.        ,  0.91666667,  1.        ,  0.91666667,\n",
       "         1.        ,  0.91666667,  1.        ,  0.93333333,  1.        ,\n",
       "         0.9       ,  1.        ,  0.93333333,  1.        ,  0.9       ,\n",
       "         1.        ,  0.91666667,  1.        ,  0.9       ,  1.        ,\n",
       "         0.9       ,  1.        ,  0.85      ,  1.        ,  0.66666667,\n",
       "         1.        ,  0.58333333,  1.        ,  0.58333333,  1.        ,\n",
       "         0.55      ,  1.        ,  0.55      ,  1.        ,  0.43333333,\n",
       "         1.        ,  0.43333333,  1.        ,  0.4       ,  1.        ,\n",
       "         0.4       ,  1.        ,  0.4       ,  1.        ,  0.4       ,\n",
       "         1.        ,  0.4       ,  1.        ,  0.4       ,  1.        ,\n",
       "         0.4       ,  1.        ,  0.4       ,  1.        ,  0.4       ,\n",
       "         1.        ,  0.4       ,  1.        ,  0.4       ,  1.        ,\n",
       "         0.4       ,  1.        ,  0.4       ,  1.        ,  0.4       ,\n",
       "         1.        ,  0.4       ,  1.        ,  0.4       ,  1.        ,\n",
       "         0.4       ,  1.        ,  0.4       ,  1.        ,  0.4       ,\n",
       "         1.        ,  0.4       ,  1.        ]),\n",
       " 'split3_test_score': array([ 0.93333333,  0.93333333,  0.93333333,  0.93333333,  0.93333333,\n",
       "         0.93333333,  0.93333333,  0.93333333,  0.93333333,  0.93333333,\n",
       "         0.93333333,  0.93333333,  0.93333333,  0.93333333,  0.93333333,\n",
       "         0.93333333,  0.93333333,  0.93333333,  0.93333333,  0.93333333,\n",
       "         0.93333333,  0.93333333,  0.93333333,  0.93333333,  0.93333333,\n",
       "         0.93333333,  0.93333333,  0.93333333,  0.93333333,  0.93333333,\n",
       "         0.93333333,  0.93333333,  0.93333333,  0.93333333,  0.93333333,\n",
       "         0.93333333,  0.93333333,  0.93333333,  0.93333333,  0.93333333,\n",
       "         0.93333333,  0.93333333,  0.93333333,  0.93333333,  0.93333333,\n",
       "         0.93333333,  0.93333333,  0.93333333,  0.93333333,  0.93333333,\n",
       "         0.93333333,  0.93333333,  0.4       ,  0.93333333,  0.4       ,\n",
       "         0.93333333,  0.4       ,  0.93333333,  0.4       ,  0.93333333,\n",
       "         0.4       ,  0.93333333,  0.4       ,  0.93333333,  0.4       ,\n",
       "         0.93333333,  0.33333333,  0.93333333,  0.33333333,  0.93333333,\n",
       "         0.33333333,  0.93333333,  0.33333333,  0.93333333,  0.33333333,\n",
       "         0.93333333,  0.33333333,  0.93333333,  0.2       ,  0.93333333,\n",
       "         0.2       ,  0.93333333,  0.2       ,  0.93333333,  0.2       ,\n",
       "         0.93333333,  0.2       ,  0.93333333,  0.2       ,  0.93333333,\n",
       "         0.2       ,  0.93333333,  0.2       ,  0.93333333,  0.2       ,\n",
       "         0.93333333,  0.2       ,  0.93333333,  0.2       ,  0.93333333,\n",
       "         0.2       ,  0.93333333,  0.2       ,  0.93333333,  0.2       ,\n",
       "         0.93333333,  0.2       ,  0.93333333,  0.2       ,  0.93333333,\n",
       "         0.2       ,  0.93333333,  0.2       ,  0.93333333,  0.2       ,\n",
       "         0.93333333,  0.2       ,  0.93333333]),\n",
       " 'split3_train_score': array([ 1.        ,  1.        ,  0.96666667,  1.        ,  0.96666667,\n",
       "         1.        ,  0.96666667,  1.        ,  0.96666667,  1.        ,\n",
       "         0.96666667,  1.        ,  0.98333333,  1.        ,  0.96666667,\n",
       "         1.        ,  0.96666667,  1.        ,  0.95      ,  1.        ,\n",
       "         0.98333333,  1.        ,  0.96666667,  1.        ,  0.98333333,\n",
       "         1.        ,  0.95      ,  1.        ,  0.96666667,  1.        ,\n",
       "         0.95      ,  1.        ,  0.95      ,  1.        ,  0.95      ,\n",
       "         1.        ,  0.93333333,  1.        ,  0.93333333,  1.        ,\n",
       "         0.95      ,  1.        ,  0.91666667,  1.        ,  0.93333333,\n",
       "         1.        ,  0.93333333,  1.        ,  0.93333333,  1.        ,\n",
       "         0.93333333,  1.        ,  0.7       ,  1.        ,  0.68333333,\n",
       "         1.        ,  0.68333333,  1.        ,  0.7       ,  1.        ,\n",
       "         0.66666667,  1.        ,  0.66666667,  1.        ,  0.68333333,\n",
       "         1.        ,  0.65      ,  1.        ,  0.65      ,  1.        ,\n",
       "         0.63333333,  1.        ,  0.61666667,  1.        ,  0.63333333,\n",
       "         1.        ,  0.63333333,  1.        ,  0.45      ,  1.        ,\n",
       "         0.45      ,  1.        ,  0.45      ,  1.        ,  0.45      ,\n",
       "         1.        ,  0.45      ,  1.        ,  0.45      ,  1.        ,\n",
       "         0.45      ,  1.        ,  0.45      ,  1.        ,  0.45      ,\n",
       "         1.        ,  0.45      ,  1.        ,  0.45      ,  1.        ,\n",
       "         0.45      ,  1.        ,  0.45      ,  1.        ,  0.45      ,\n",
       "         1.        ,  0.45      ,  1.        ,  0.45      ,  1.        ,\n",
       "         0.45      ,  1.        ,  0.45      ,  1.        ,  0.45      ,\n",
       "         1.        ,  0.45      ,  1.        ]),\n",
       " 'split4_test_score': array([ 0.86666667,  0.86666667,  0.86666667,  0.86666667,  0.93333333,\n",
       "         0.93333333,  0.86666667,  0.86666667,  0.86666667,  0.86666667,\n",
       "         0.86666667,  0.86666667,  0.86666667,  0.86666667,  0.86666667,\n",
       "         0.86666667,  0.93333333,  0.93333333,  0.86666667,  0.86666667,\n",
       "         0.86666667,  0.86666667,  0.86666667,  0.86666667,  0.8       ,\n",
       "         0.86666667,  0.86666667,  0.86666667,  0.8       ,  0.86666667,\n",
       "         0.86666667,  0.86666667,  0.86666667,  0.86666667,  0.86666667,\n",
       "         0.86666667,  0.86666667,  0.86666667,  0.93333333,  0.86666667,\n",
       "         0.8       ,  0.86666667,  0.8       ,  0.86666667,  0.73333333,\n",
       "         0.86666667,  0.8       ,  0.86666667,  0.8       ,  0.86666667,\n",
       "         0.8       ,  0.86666667,  0.73333333,  0.86666667,  0.86666667,\n",
       "         0.86666667,  0.8       ,  0.93333333,  0.86666667,  0.93333333,\n",
       "         0.8       ,  0.93333333,  0.8       ,  0.93333333,  0.73333333,\n",
       "         0.93333333,  0.66666667,  0.93333333,  0.73333333,  0.93333333,\n",
       "         0.73333333,  0.93333333,  0.6       ,  0.93333333,  0.66666667,\n",
       "         0.93333333,  0.66666667,  0.93333333,  0.53333333,  0.93333333,\n",
       "         0.53333333,  0.93333333,  0.53333333,  0.93333333,  0.53333333,\n",
       "         0.93333333,  0.53333333,  0.93333333,  0.53333333,  0.93333333,\n",
       "         0.53333333,  0.93333333,  0.53333333,  0.93333333,  0.53333333,\n",
       "         0.93333333,  0.53333333,  0.93333333,  0.53333333,  0.93333333,\n",
       "         0.53333333,  0.93333333,  0.53333333,  0.93333333,  0.53333333,\n",
       "         0.93333333,  0.53333333,  0.93333333,  0.53333333,  0.93333333,\n",
       "         0.53333333,  0.93333333,  0.53333333,  0.93333333,  0.53333333,\n",
       "         0.93333333,  0.53333333,  0.93333333]),\n",
       " 'split4_train_score': array([ 1.        ,  1.        ,  0.96666667,  1.        ,  0.98333333,\n",
       "         1.        ,  0.96666667,  1.        ,  0.98333333,  1.        ,\n",
       "         0.98333333,  1.        ,  0.98333333,  1.        ,  0.98333333,\n",
       "         1.        ,  0.98333333,  1.        ,  0.98333333,  1.        ,\n",
       "         0.98333333,  1.        ,  0.96666667,  1.        ,  0.98333333,\n",
       "         1.        ,  0.96666667,  1.        ,  0.96666667,  1.        ,\n",
       "         0.95      ,  1.        ,  0.96666667,  1.        ,  0.95      ,\n",
       "         1.        ,  0.95      ,  1.        ,  0.93333333,  1.        ,\n",
       "         0.95      ,  1.        ,  0.95      ,  1.        ,  0.95      ,\n",
       "         1.        ,  0.93333333,  1.        ,  0.93333333,  1.        ,\n",
       "         0.91666667,  1.        ,  0.9       ,  1.        ,  0.88333333,\n",
       "         1.        ,  0.88333333,  1.        ,  0.86666667,  1.        ,\n",
       "         0.86666667,  1.        ,  0.86666667,  1.        ,  0.88333333,\n",
       "         1.        ,  0.86666667,  1.        ,  0.86666667,  1.        ,\n",
       "         0.86666667,  1.        ,  0.66666667,  1.        ,  0.48333333,\n",
       "         1.        ,  0.51666667,  1.        ,  0.36666667,  1.        ,\n",
       "         0.36666667,  1.        ,  0.36666667,  1.        ,  0.36666667,\n",
       "         1.        ,  0.36666667,  1.        ,  0.36666667,  1.        ,\n",
       "         0.36666667,  1.        ,  0.36666667,  1.        ,  0.36666667,\n",
       "         1.        ,  0.36666667,  1.        ,  0.36666667,  1.        ,\n",
       "         0.36666667,  1.        ,  0.36666667,  1.        ,  0.36666667,\n",
       "         1.        ,  0.36666667,  1.        ,  0.36666667,  1.        ,\n",
       "         0.36666667,  1.        ,  0.36666667,  1.        ,  0.36666667,\n",
       "         1.        ,  0.36666667,  1.        ]),\n",
       " 'std_fit_time': array([  1.00176939e-04,   5.68423894e-05,   8.30256339e-05,\n",
       "          7.14556989e-05,   2.74127872e-05,   1.46075668e-04,\n",
       "          6.76933118e-05,   5.00532310e-05,   2.57609482e-05,\n",
       "          5.87080468e-05,   1.35902773e-05,   1.30100106e-04,\n",
       "          2.86962424e-04,   9.14450847e-05,   1.16704996e-04,\n",
       "          1.07607832e-04,   1.13767930e-04,   1.05338563e-04,\n",
       "          8.11302517e-05,   1.69049365e-05,   2.17641559e-05,\n",
       "          5.54333400e-05,   1.03803474e-04,   3.63945785e-05,\n",
       "          1.11180430e-04,   9.05395111e-05,   4.77645665e-05,\n",
       "          1.18463510e-04,   5.88033990e-05,   9.73353478e-05,\n",
       "          1.27091246e-04,   1.15901194e-04,   2.80802435e-05,\n",
       "          1.01234045e-04,   1.12975654e-04,   2.58986235e-05,\n",
       "          2.20368940e-05,   3.08740185e-05,   7.24581638e-05,\n",
       "          1.54811336e-05,   6.15945528e-05,   1.59826540e-05,\n",
       "          5.34359812e-05,   7.24480901e-05,   8.14592237e-05,\n",
       "          4.43036894e-05,   2.22140495e-04,   2.11768316e-05,\n",
       "          6.76172913e-05,   5.76128223e-05,   2.53556337e-05,\n",
       "          1.33500780e-05,   1.54567042e-04,   1.38304150e-05,\n",
       "          9.38984749e-05,   8.96557842e-05,   1.10749472e-05,\n",
       "          2.00906383e-05,   8.53493759e-05,   4.63146117e-06,\n",
       "          4.28746879e-05,   1.62089568e-05,   2.71711001e-05,\n",
       "          8.20013798e-05,   6.23637744e-05,   1.12608767e-04,\n",
       "          1.47500771e-05,   2.72768360e-05,   3.91405762e-05,\n",
       "          2.86358877e-05,   1.09042556e-05,   4.11743847e-05,\n",
       "          5.57919852e-06,   5.04358937e-05,   1.43183012e-05,\n",
       "          5.07417026e-05,   2.27603721e-05,   5.63871583e-05,\n",
       "          9.38000626e-06,   1.81026126e-05,   2.69724657e-05,\n",
       "          4.92295051e-05,   3.47209493e-05,   7.30022895e-05,\n",
       "          1.53809367e-05,   1.36010927e-04,   1.86550007e-05,\n",
       "          4.23349768e-05,   1.13463199e-05,   1.15424145e-05,\n",
       "          3.94530235e-05,   1.30400796e-05,   3.05423040e-05,\n",
       "          4.30585274e-05,   1.35723637e-05,   1.04637240e-05,\n",
       "          2.43611993e-05,   2.51964111e-05,   4.17987957e-06,\n",
       "          1.21816729e-05,   6.60277431e-06,   8.80458863e-06,\n",
       "          4.52618693e-06,   3.94779701e-05,   2.55218820e-05,\n",
       "          3.56352120e-05,   3.42067437e-05,   3.65810250e-05,\n",
       "          9.10871309e-06,   3.63809565e-05,   4.46899457e-05,\n",
       "          1.65987282e-05,   1.95509050e-05,   5.51296761e-05,\n",
       "          1.89991935e-05,   2.62054015e-05,   3.50991019e-05,\n",
       "          3.93384587e-05]),\n",
       " 'std_score_time': array([  5.00134408e-04,   6.60345266e-05,   5.29186943e-04,\n",
       "          8.86915320e-05,   6.62819773e-05,   1.86174264e-04,\n",
       "          3.23331931e-04,   2.80317045e-04,   1.58044006e-05,\n",
       "          1.73749711e-04,   5.56450781e-05,   3.21434227e-05,\n",
       "          5.25198858e-04,   1.94549876e-04,   9.32455764e-05,\n",
       "          1.19766611e-04,   8.08323515e-05,   5.89886304e-05,\n",
       "          2.56482060e-04,   4.01582392e-05,   7.72294565e-05,\n",
       "          8.93684177e-05,   1.19812431e-04,   6.93873601e-05,\n",
       "          2.29993613e-04,   1.08294810e-04,   7.58975879e-05,\n",
       "          1.27816518e-04,   1.94026346e-04,   1.14590785e-04,\n",
       "          1.32275607e-04,   1.25807355e-04,   4.08514495e-05,\n",
       "          4.60219254e-05,   1.25265530e-04,   9.98694875e-05,\n",
       "          8.59636495e-05,   3.83912846e-05,   1.08087888e-04,\n",
       "          9.19944321e-05,   1.19626403e-04,   3.26404004e-05,\n",
       "          4.33563776e-05,   5.35281516e-05,   1.60764783e-04,\n",
       "          5.29850413e-05,   5.33353584e-04,   2.77572476e-05,\n",
       "          5.02203935e-05,   1.23391416e-04,   6.99923860e-05,\n",
       "          2.21097209e-05,   2.37406346e-04,   5.54885630e-05,\n",
       "          1.03574804e-04,   2.43792062e-05,   7.11831799e-05,\n",
       "          1.72200944e-05,   3.44815939e-02,   3.99804570e-06,\n",
       "          9.26641466e-05,   8.60370698e-06,   8.07528197e-05,\n",
       "          4.96213160e-05,   6.41280210e-05,   1.51359156e-04,\n",
       "          1.53868487e-05,   1.00147156e-05,   1.37816663e-05,\n",
       "          1.36631944e-05,   1.14694949e-05,   5.09186178e-05,\n",
       "          9.68413890e-06,   8.19134348e-05,   3.07524849e-05,\n",
       "          1.94286421e-05,   2.00643648e-05,   5.82583787e-05,\n",
       "          5.70059969e-05,   8.07667843e-05,   9.29453357e-06,\n",
       "          5.74211733e-05,   2.93990894e-05,   2.18696257e-05,\n",
       "          1.09533554e-05,   1.58172355e-04,   4.15034636e-05,\n",
       "          1.33307365e-04,   1.71628260e-05,   9.70876052e-06,\n",
       "          5.59810479e-05,   3.68438098e-05,   6.03937556e-05,\n",
       "          6.56299097e-05,   1.20674664e-05,   8.50693527e-05,\n",
       "          9.55651142e-06,   6.10199924e-05,   1.83052065e-05,\n",
       "          7.66596375e-06,   6.97773265e-05,   2.75329590e-06,\n",
       "          7.03007412e-06,   9.84710180e-05,   3.64164381e-05,\n",
       "          1.09773320e-04,   1.73142455e-05,   4.13015306e-05,\n",
       "          3.71980664e-05,   3.02333560e-05,   7.89083523e-05,\n",
       "          3.09273655e-05,   1.91219430e-05,   9.89553031e-05,\n",
       "          2.33929331e-05,   1.65073834e-05,   1.83508598e-05,\n",
       "          4.47497383e-05]),\n",
       " 'std_test_score': array([ 0.05962848,  0.05962848,  0.06798693,  0.05962848,  0.03265986,\n",
       "         0.03265986,  0.05962848,  0.04988877,  0.04988877,  0.04988877,\n",
       "         0.05962848,  0.04988877,  0.05962848,  0.05962848,  0.05962848,\n",
       "         0.05962848,  0.04988877,  0.04988877,  0.05962848,  0.05962848,\n",
       "         0.04988877,  0.04988877,  0.09977753,  0.05962848,  0.10832051,\n",
       "         0.05962848,  0.09977753,  0.07774603,  0.09043107,  0.07774603,\n",
       "         0.07774603,  0.07774603,  0.07774603,  0.07774603,  0.09977753,\n",
       "         0.07774603,  0.07774603,  0.07774603,  0.09797959,  0.07774603,\n",
       "         0.10832051,  0.07774603,  0.12927146,  0.07774603,  0.12220202,\n",
       "         0.07774603,  0.12927146,  0.07774603,  0.10832051,  0.07774603,\n",
       "         0.09797959,  0.07774603,  0.20912516,  0.07774603,  0.21746009,\n",
       "         0.07774603,  0.21333333,  0.07302967,  0.20483055,  0.07302967,\n",
       "         0.19595918,  0.07302967,  0.20655911,  0.09797959,  0.17074998,\n",
       "         0.07302967,  0.12364825,  0.07302967,  0.14360439,  0.07302967,\n",
       "         0.16      ,  0.09797959,  0.13063945,  0.07302967,  0.13597385,\n",
       "         0.07302967,  0.13597385,  0.07302967,  0.14236104,  0.07302967,\n",
       "         0.12649111,  0.07302967,  0.12649111,  0.07302967,  0.12649111,\n",
       "         0.07302967,  0.12649111,  0.07302967,  0.12649111,  0.07302967,\n",
       "         0.12649111,  0.07302967,  0.12649111,  0.07302967,  0.12649111,\n",
       "         0.07302967,  0.12649111,  0.07302967,  0.12649111,  0.07302967,\n",
       "         0.12649111,  0.07302967,  0.12649111,  0.07302967,  0.12649111,\n",
       "         0.07302967,  0.12649111,  0.07302967,  0.12649111,  0.07302967,\n",
       "         0.12649111,  0.07302967,  0.12649111,  0.07302967,  0.12649111,\n",
       "         0.07302967,  0.12649111,  0.07302967]),\n",
       " 'std_train_score': array([ 0.        ,  0.        ,  0.01247219,  0.        ,  0.01247219,\n",
       "         0.        ,  0.01490712,  0.        ,  0.01247219,  0.        ,\n",
       "         0.01632993,  0.        ,  0.01247219,  0.        ,  0.01247219,\n",
       "         0.        ,  0.01247219,  0.        ,  0.01632993,  0.        ,\n",
       "         0.01490712,  0.        ,  0.01943651,  0.        ,  0.01247219,\n",
       "         0.        ,  0.01632993,  0.        ,  0.01333333,  0.        ,\n",
       "         0.02581989,  0.        ,  0.02260777,  0.        ,  0.01943651,\n",
       "         0.        ,  0.01825742,  0.        ,  0.01333333,  0.        ,\n",
       "         0.01825742,  0.        ,  0.02211083,  0.        ,  0.02260777,\n",
       "         0.        ,  0.02494438,  0.        ,  0.02666667,  0.        ,\n",
       "         0.02788867,  0.        ,  0.08273116,  0.        ,  0.08205689,\n",
       "         0.        ,  0.08459052,  0.        ,  0.07195678,  0.        ,\n",
       "         0.08498366,  0.        ,  0.07408704,  0.        ,  0.09580072,\n",
       "         0.        ,  0.0946338 ,  0.        ,  0.12174655,  0.        ,\n",
       "         0.15018507,  0.        ,  0.10033278,  0.        ,  0.11303883,\n",
       "         0.        ,  0.11085526,  0.        ,  0.1197219 ,  0.        ,\n",
       "         0.10677078,  0.        ,  0.10033278,  0.        ,  0.07498148,\n",
       "         0.        ,  0.04546061,  0.        ,  0.03162278,  0.        ,\n",
       "         0.02867442,  0.        ,  0.02708013,  0.        ,  0.02708013,\n",
       "         0.        ,  0.03162278,  0.        ,  0.03162278,  0.        ,\n",
       "         0.03162278,  0.        ,  0.03162278,  0.        ,  0.03162278,\n",
       "         0.        ,  0.03162278,  0.        ,  0.03162278,  0.        ,\n",
       "         0.03162278,  0.        ,  0.03162278,  0.        ,  0.03162278,\n",
       "         0.        ,  0.03162278,  0.        ])}"
      ]
     },
     "execution_count": 23,
     "metadata": {},
     "output_type": "execute_result"
    }
   ],
   "source": [
    "gs.cv_results_"
   ]
  },
  {
   "cell_type": "code",
   "execution_count": 24,
   "metadata": {},
   "outputs": [
    {
     "data": {
      "text/plain": [
       "['rank_test_score',\n",
       " 'param_n_neighbors',\n",
       " 'std_score_time',\n",
       " 'split2_test_score',\n",
       " 'mean_fit_time',\n",
       " 'split3_train_score',\n",
       " 'std_test_score',\n",
       " 'params',\n",
       " 'std_fit_time',\n",
       " 'param_weights',\n",
       " 'std_train_score',\n",
       " 'split4_test_score',\n",
       " 'split1_train_score',\n",
       " 'split2_train_score',\n",
       " 'split4_train_score',\n",
       " 'mean_score_time',\n",
       " 'split0_train_score',\n",
       " 'mean_train_score',\n",
       " 'split0_test_score',\n",
       " 'mean_test_score',\n",
       " 'split3_test_score',\n",
       " 'split1_test_score']"
      ]
     },
     "execution_count": 24,
     "metadata": {},
     "output_type": "execute_result"
    }
   ],
   "source": [
    "gs.cv_results_.keys()"
   ]
  },
  {
   "cell_type": "code",
   "execution_count": 25,
   "metadata": {},
   "outputs": [
    {
     "data": {
      "text/plain": [
       "0.95999999999999996"
      ]
     },
     "execution_count": 25,
     "metadata": {},
     "output_type": "execute_result"
    }
   ],
   "source": [
    "gs.best_score_"
   ]
  },
  {
   "cell_type": "code",
   "execution_count": 26,
   "metadata": {},
   "outputs": [
    {
     "data": {
      "text/plain": [
       "{'n_neighbors': 3, 'weights': 'uniform'}"
      ]
     },
     "execution_count": 26,
     "metadata": {},
     "output_type": "execute_result"
    }
   ],
   "source": [
    "gs.best_params_"
   ]
  },
  {
   "cell_type": "code",
   "execution_count": 27,
   "metadata": {},
   "outputs": [
    {
     "data": {
      "text/plain": [
       "KNeighborsClassifier(algorithm='auto', leaf_size=30, metric='minkowski',\n",
       "           metric_params=None, n_jobs=1, n_neighbors=3, p=2,\n",
       "           weights='uniform')"
      ]
     },
     "execution_count": 27,
     "metadata": {},
     "output_type": "execute_result"
    }
   ],
   "source": [
    "gs.best_estimator_"
   ]
  },
  {
   "cell_type": "code",
   "execution_count": 28,
   "metadata": {},
   "outputs": [
    {
     "data": {
      "text/plain": [
       "0.95999999999999996"
      ]
     },
     "execution_count": 28,
     "metadata": {},
     "output_type": "execute_result"
    }
   ],
   "source": [
    "gs.score(train_X, train_c)"
   ]
  },
  {
   "cell_type": "code",
   "execution_count": 29,
   "metadata": {},
   "outputs": [
    {
     "ename": "NameError",
     "evalue": "name 'test_X' is not defined",
     "output_type": "error",
     "traceback": [
      "\u001b[0;31m---------------------------------------------------------------------------\u001b[0m",
      "\u001b[0;31mNameError\u001b[0m                                 Traceback (most recent call last)",
      "\u001b[0;32m<ipython-input-29-7251f27ef9ec>\u001b[0m in \u001b[0;36m<module>\u001b[0;34m()\u001b[0m\n\u001b[0;32m----> 1\u001b[0;31m \u001b[0mgs\u001b[0m\u001b[0;34m.\u001b[0m\u001b[0mscore\u001b[0m\u001b[0;34m(\u001b[0m\u001b[0mtest_X\u001b[0m\u001b[0;34m,\u001b[0m \u001b[0mtest_c\u001b[0m\u001b[0;34m)\u001b[0m\u001b[0;34m\u001b[0m\u001b[0m\n\u001b[0m",
      "\u001b[0;31mNameError\u001b[0m: name 'test_X' is not defined"
     ]
    }
   ],
   "source": [
    "gs.score(test_X, test_c)"
   ]
  },
  {
   "cell_type": "markdown",
   "metadata": {},
   "source": [
    "## Final model"
   ]
  },
  {
   "cell_type": "code",
   "execution_count": null,
   "metadata": {
    "collapsed": true
   },
   "outputs": [],
   "source": [
    "# TODO"
   ]
  }
 ],
 "metadata": {
  "kernelspec": {
   "display_name": "Python 2",
   "language": "python",
   "name": "python2"
  },
  "language_info": {
   "codemirror_mode": {
    "name": "ipython",
    "version": 2
   },
   "file_extension": ".py",
   "mimetype": "text/x-python",
   "name": "python",
   "nbconvert_exporter": "python",
   "pygments_lexer": "ipython2",
   "version": "2.7.13"
  }
 },
 "nbformat": 4,
 "nbformat_minor": 1
}
