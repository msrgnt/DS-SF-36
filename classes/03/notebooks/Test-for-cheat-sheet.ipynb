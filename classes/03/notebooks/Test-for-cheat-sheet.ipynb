{
 "cells": [
  {
   "cell_type": "code",
   "execution_count": 1,
   "metadata": {
    "collapsed": true
   },
   "outputs": [],
   "source": [
    "import os\n",
    "import numpy as np\n",
    "import pandas as pd\n",
    "pd.set_option('display.max_rows', 10)\n",
    "pd.set_option('display.notebook_repr_html', True)\n",
    "pd.set_option('display.max_columns', 10)"
   ]
  },
  {
   "cell_type": "code",
   "execution_count": 9,
   "metadata": {
    "collapsed": true
   },
   "outputs": [],
   "source": [
    "df = pd.read_csv(os.path.join('../../../../', 'downloads', 'appeal_w_gaias.csv'))"
   ]
  },
  {
   "cell_type": "code",
   "execution_count": 16,
   "metadata": {
    "collapsed": true
   },
   "outputs": [],
   "source": [
    "df_1 = pd.read_csv(os.path.join('..', 'datasets', 'dataset-03-bistro.csv'))"
   ]
  },
  {
   "cell_type": "code",
   "execution_count": 17,
   "metadata": {},
   "outputs": [
    {
     "data": {
      "text/plain": [
       "pandas.core.frame.DataFrame"
      ]
     },
     "execution_count": 17,
     "metadata": {},
     "output_type": "execute_result"
    }
   ],
   "source": [
    "type(df_1)"
   ]
  },
  {
   "cell_type": "code",
   "execution_count": 18,
   "metadata": {},
   "outputs": [
    {
     "data": {
      "text/plain": [
       "244"
      ]
     },
     "execution_count": 18,
     "metadata": {},
     "output_type": "execute_result"
    }
   ],
   "source": [
    "df_1.shape[0]"
   ]
  },
  {
   "cell_type": "code",
   "execution_count": 12,
   "metadata": {},
   "outputs": [
    {
     "data": {
      "text/plain": [
       "3182"
      ]
     },
     "execution_count": 12,
     "metadata": {},
     "output_type": "execute_result"
    }
   ],
   "source": [
    "len(df)"
   ]
  },
  {
   "cell_type": "code",
   "execution_count": 13,
   "metadata": {},
   "outputs": [
    {
     "data": {
      "text/plain": [
       "18"
      ]
     },
     "execution_count": 13,
     "metadata": {},
     "output_type": "execute_result"
    }
   ],
   "source": [
    "df.shape[1]"
   ]
  },
  {
   "cell_type": "code",
   "execution_count": 14,
   "metadata": {},
   "outputs": [
    {
     "data": {
      "text/plain": [
       "18"
      ]
     },
     "execution_count": 14,
     "metadata": {},
     "output_type": "execute_result"
    }
   ],
   "source": [
    "len(df.columns)"
   ]
  },
  {
   "cell_type": "code",
   "execution_count": 15,
   "metadata": {},
   "outputs": [
    {
     "name": "stdout",
     "output_type": "stream",
     "text": [
      "Unnamed: 0\n",
      "gaia\n",
      "study_id\n",
      "survey_url\n",
      "rating\n",
      "comment\n",
      "watch_history_notes\n",
      "watch_history_link\n",
      "rec_makes_sense?\n",
      "my_category\n",
      "Unnamed: 10\n",
      "Unnamed: 11\n",
      "Unnamed: 12\n",
      "Unnamed: 13\n",
      "Unnamed: 14\n",
      "Unnamed: 15\n",
      "Unnamed: 16\n",
      "Unnamed: 17\n"
     ]
    }
   ],
   "source": [
    "for column in df.columns:\n",
    "    print column"
   ]
  },
  {
   "cell_type": "code",
   "execution_count": 22,
   "metadata": {},
   "outputs": [
    {
     "data": {
      "text/html": [
       "<div>\n",
       "<style>\n",
       "    .dataframe thead tr:only-child th {\n",
       "        text-align: right;\n",
       "    }\n",
       "\n",
       "    .dataframe thead th {\n",
       "        text-align: left;\n",
       "    }\n",
       "\n",
       "    .dataframe tbody tr th {\n",
       "        vertical-align: top;\n",
       "    }\n",
       "</style>\n",
       "<table border=\"1\" class=\"dataframe\">\n",
       "  <thead>\n",
       "    <tr style=\"text-align: right;\">\n",
       "      <th></th>\n",
       "      <th>Unnamed: 0</th>\n",
       "      <th>gaia</th>\n",
       "      <th>study_id</th>\n",
       "      <th>survey_url</th>\n",
       "      <th>rating</th>\n",
       "      <th>...</th>\n",
       "      <th>Unnamed: 13</th>\n",
       "      <th>Unnamed: 14</th>\n",
       "      <th>Unnamed: 15</th>\n",
       "      <th>Unnamed: 16</th>\n",
       "      <th>Unnamed: 17</th>\n",
       "    </tr>\n",
       "  </thead>\n",
       "  <tbody>\n",
       "    <tr>\n",
       "      <th>0</th>\n",
       "      <td>NaN</td>\n",
       "      <td>289121239725</td>\n",
       "      <td>4.523560e+15</td>\n",
       "      <td>http://402.appspot.com/create/preview?survey=i...</td>\n",
       "      <td>4</td>\n",
       "      <td>...</td>\n",
       "      <td>NaN</td>\n",
       "      <td>NaN</td>\n",
       "      <td>NaN</td>\n",
       "      <td>NaN</td>\n",
       "      <td>NaN</td>\n",
       "    </tr>\n",
       "    <tr>\n",
       "      <th>1</th>\n",
       "      <td>NaN</td>\n",
       "      <td>519169883643</td>\n",
       "      <td>4.531430e+15</td>\n",
       "      <td>http://402.appspot.com/create/preview?survey=7...</td>\n",
       "      <td>4</td>\n",
       "      <td>...</td>\n",
       "      <td>NaN</td>\n",
       "      <td>NaN</td>\n",
       "      <td>NaN</td>\n",
       "      <td>NaN</td>\n",
       "      <td>NaN</td>\n",
       "    </tr>\n",
       "  </tbody>\n",
       "</table>\n",
       "<p>2 rows × 18 columns</p>\n",
       "</div>"
      ],
      "text/plain": [
       "   Unnamed: 0          gaia      study_id  \\\n",
       "0         NaN  289121239725  4.523560e+15   \n",
       "1         NaN  519169883643  4.531430e+15   \n",
       "\n",
       "                                          survey_url  rating     ...      \\\n",
       "0  http://402.appspot.com/create/preview?survey=i...       4     ...       \n",
       "1  http://402.appspot.com/create/preview?survey=7...       4     ...       \n",
       "\n",
       "  Unnamed: 13 Unnamed: 14 Unnamed: 15 Unnamed: 16 Unnamed: 17  \n",
       "0         NaN         NaN         NaN         NaN         NaN  \n",
       "1         NaN         NaN         NaN         NaN         NaN  \n",
       "\n",
       "[2 rows x 18 columns]"
      ]
     },
     "execution_count": 22,
     "metadata": {},
     "output_type": "execute_result"
    }
   ],
   "source": [
    "df[:2]"
   ]
  },
  {
   "cell_type": "code",
   "execution_count": 24,
   "metadata": {},
   "outputs": [
    {
     "data": {
      "text/html": [
       "<div>\n",
       "<style>\n",
       "    .dataframe thead tr:only-child th {\n",
       "        text-align: right;\n",
       "    }\n",
       "\n",
       "    .dataframe thead th {\n",
       "        text-align: left;\n",
       "    }\n",
       "\n",
       "    .dataframe tbody tr th {\n",
       "        vertical-align: top;\n",
       "    }\n",
       "</style>\n",
       "<table border=\"1\" class=\"dataframe\">\n",
       "  <thead>\n",
       "    <tr style=\"text-align: right;\">\n",
       "      <th></th>\n",
       "      <th>day</th>\n",
       "      <th>time</th>\n",
       "      <th>name</th>\n",
       "      <th>gender</th>\n",
       "      <th>is_smoker</th>\n",
       "      <th>party</th>\n",
       "      <th>check</th>\n",
       "      <th>tip</th>\n",
       "    </tr>\n",
       "  </thead>\n",
       "  <tbody>\n",
       "    <tr>\n",
       "      <th>0</th>\n",
       "      <td>Sunday</td>\n",
       "      <td>Dinner</td>\n",
       "      <td>Kimberly</td>\n",
       "      <td>Female</td>\n",
       "      <td>False</td>\n",
       "      <td>2</td>\n",
       "      <td>16.99</td>\n",
       "      <td>1.01</td>\n",
       "    </tr>\n",
       "    <tr>\n",
       "      <th>1</th>\n",
       "      <td>Sunday</td>\n",
       "      <td>Dinner</td>\n",
       "      <td>Nicholas</td>\n",
       "      <td>Male</td>\n",
       "      <td>False</td>\n",
       "      <td>3</td>\n",
       "      <td>10.34</td>\n",
       "      <td>1.66</td>\n",
       "    </tr>\n",
       "  </tbody>\n",
       "</table>\n",
       "</div>"
      ],
      "text/plain": [
       "      day    time      name  gender  is_smoker  party  check   tip\n",
       "0  Sunday  Dinner  Kimberly  Female      False      2  16.99  1.01\n",
       "1  Sunday  Dinner  Nicholas    Male      False      3  10.34  1.66"
      ]
     },
     "execution_count": 24,
     "metadata": {},
     "output_type": "execute_result"
    }
   ],
   "source": [
    "df_1.iloc[:2]"
   ]
  },
  {
   "cell_type": "code",
   "execution_count": 27,
   "metadata": {},
   "outputs": [
    {
     "data": {
      "text/html": [
       "<div>\n",
       "<style>\n",
       "    .dataframe thead tr:only-child th {\n",
       "        text-align: right;\n",
       "    }\n",
       "\n",
       "    .dataframe thead th {\n",
       "        text-align: left;\n",
       "    }\n",
       "\n",
       "    .dataframe tbody tr th {\n",
       "        vertical-align: top;\n",
       "    }\n",
       "</style>\n",
       "<table border=\"1\" class=\"dataframe\">\n",
       "  <thead>\n",
       "    <tr style=\"text-align: right;\">\n",
       "      <th></th>\n",
       "      <th>day</th>\n",
       "      <th>time</th>\n",
       "      <th>name</th>\n",
       "      <th>gender</th>\n",
       "      <th>is_smoker</th>\n",
       "      <th>party</th>\n",
       "      <th>check</th>\n",
       "      <th>tip</th>\n",
       "    </tr>\n",
       "  </thead>\n",
       "  <tbody>\n",
       "    <tr>\n",
       "      <th>0</th>\n",
       "      <td>Sunday</td>\n",
       "      <td>Dinner</td>\n",
       "      <td>Kimberly</td>\n",
       "      <td>Female</td>\n",
       "      <td>False</td>\n",
       "      <td>2</td>\n",
       "      <td>16.99</td>\n",
       "      <td>1.01</td>\n",
       "    </tr>\n",
       "    <tr>\n",
       "      <th>1</th>\n",
       "      <td>Sunday</td>\n",
       "      <td>Dinner</td>\n",
       "      <td>Nicholas</td>\n",
       "      <td>Male</td>\n",
       "      <td>False</td>\n",
       "      <td>3</td>\n",
       "      <td>10.34</td>\n",
       "      <td>1.66</td>\n",
       "    </tr>\n",
       "    <tr>\n",
       "      <th>2</th>\n",
       "      <td>Sunday</td>\n",
       "      <td>Dinner</td>\n",
       "      <td>Larry</td>\n",
       "      <td>Male</td>\n",
       "      <td>False</td>\n",
       "      <td>3</td>\n",
       "      <td>21.01</td>\n",
       "      <td>3.50</td>\n",
       "    </tr>\n",
       "    <tr>\n",
       "      <th>3</th>\n",
       "      <td>Sunday</td>\n",
       "      <td>Dinner</td>\n",
       "      <td>Joseph</td>\n",
       "      <td>Male</td>\n",
       "      <td>False</td>\n",
       "      <td>2</td>\n",
       "      <td>23.68</td>\n",
       "      <td>3.31</td>\n",
       "    </tr>\n",
       "    <tr>\n",
       "      <th>4</th>\n",
       "      <td>Sunday</td>\n",
       "      <td>Dinner</td>\n",
       "      <td>Janice</td>\n",
       "      <td>Female</td>\n",
       "      <td>False</td>\n",
       "      <td>4</td>\n",
       "      <td>24.59</td>\n",
       "      <td>3.61</td>\n",
       "    </tr>\n",
       "  </tbody>\n",
       "</table>\n",
       "</div>"
      ],
      "text/plain": [
       "      day    time      name  gender  is_smoker  party  check   tip\n",
       "0  Sunday  Dinner  Kimberly  Female      False      2  16.99  1.01\n",
       "1  Sunday  Dinner  Nicholas    Male      False      3  10.34  1.66\n",
       "2  Sunday  Dinner     Larry    Male      False      3  21.01  3.50\n",
       "3  Sunday  Dinner    Joseph    Male      False      2  23.68  3.31\n",
       "4  Sunday  Dinner    Janice  Female      False      4  24.59  3.61"
      ]
     },
     "execution_count": 27,
     "metadata": {},
     "output_type": "execute_result"
    }
   ],
   "source": [
    "df_1.head()"
   ]
  },
  {
   "cell_type": "code",
   "execution_count": 28,
   "metadata": {},
   "outputs": [
    {
     "data": {
      "text/html": [
       "<div>\n",
       "<style>\n",
       "    .dataframe thead tr:only-child th {\n",
       "        text-align: right;\n",
       "    }\n",
       "\n",
       "    .dataframe thead th {\n",
       "        text-align: left;\n",
       "    }\n",
       "\n",
       "    .dataframe tbody tr th {\n",
       "        vertical-align: top;\n",
       "    }\n",
       "</style>\n",
       "<table border=\"1\" class=\"dataframe\">\n",
       "  <thead>\n",
       "    <tr style=\"text-align: right;\">\n",
       "      <th></th>\n",
       "      <th>Unnamed: 0</th>\n",
       "      <th>gaia</th>\n",
       "      <th>study_id</th>\n",
       "      <th>survey_url</th>\n",
       "      <th>rating</th>\n",
       "      <th>...</th>\n",
       "      <th>Unnamed: 13</th>\n",
       "      <th>Unnamed: 14</th>\n",
       "      <th>Unnamed: 15</th>\n",
       "      <th>Unnamed: 16</th>\n",
       "      <th>Unnamed: 17</th>\n",
       "    </tr>\n",
       "  </thead>\n",
       "  <tbody>\n",
       "    <tr>\n",
       "      <th>0</th>\n",
       "      <td>NaN</td>\n",
       "      <td>289121239725</td>\n",
       "      <td>4.523560e+15</td>\n",
       "      <td>http://402.appspot.com/create/preview?survey=i...</td>\n",
       "      <td>4</td>\n",
       "      <td>...</td>\n",
       "      <td>NaN</td>\n",
       "      <td>NaN</td>\n",
       "      <td>NaN</td>\n",
       "      <td>NaN</td>\n",
       "      <td>NaN</td>\n",
       "    </tr>\n",
       "    <tr>\n",
       "      <th>1</th>\n",
       "      <td>NaN</td>\n",
       "      <td>519169883643</td>\n",
       "      <td>4.531430e+15</td>\n",
       "      <td>http://402.appspot.com/create/preview?survey=7...</td>\n",
       "      <td>4</td>\n",
       "      <td>...</td>\n",
       "      <td>NaN</td>\n",
       "      <td>NaN</td>\n",
       "      <td>NaN</td>\n",
       "      <td>NaN</td>\n",
       "      <td>NaN</td>\n",
       "    </tr>\n",
       "    <tr>\n",
       "      <th>2</th>\n",
       "      <td>NaN</td>\n",
       "      <td>31940337633</td>\n",
       "      <td>4.534680e+15</td>\n",
       "      <td>http://402.appspot.com/create/preview?survey=2...</td>\n",
       "      <td>4</td>\n",
       "      <td>...</td>\n",
       "      <td>NaN</td>\n",
       "      <td>NaN</td>\n",
       "      <td>NaN</td>\n",
       "      <td>NaN</td>\n",
       "      <td>NaN</td>\n",
       "    </tr>\n",
       "    <tr>\n",
       "      <th>3</th>\n",
       "      <td>NaN</td>\n",
       "      <td>276092405255</td>\n",
       "      <td>4.542300e+15</td>\n",
       "      <td>http://402.appspot.com/create/preview?survey=n...</td>\n",
       "      <td>4</td>\n",
       "      <td>...</td>\n",
       "      <td>NaN</td>\n",
       "      <td>NaN</td>\n",
       "      <td>NaN</td>\n",
       "      <td>NaN</td>\n",
       "      <td>NaN</td>\n",
       "    </tr>\n",
       "    <tr>\n",
       "      <th>4</th>\n",
       "      <td>NaN</td>\n",
       "      <td>980597602122</td>\n",
       "      <td>4.555870e+15</td>\n",
       "      <td>http://402.appspot.com/create/preview?survey=h...</td>\n",
       "      <td>4</td>\n",
       "      <td>...</td>\n",
       "      <td>NaN</td>\n",
       "      <td>NaN</td>\n",
       "      <td>NaN</td>\n",
       "      <td>NaN</td>\n",
       "      <td>NaN</td>\n",
       "    </tr>\n",
       "  </tbody>\n",
       "</table>\n",
       "<p>5 rows × 18 columns</p>\n",
       "</div>"
      ],
      "text/plain": [
       "   Unnamed: 0          gaia      study_id  \\\n",
       "0         NaN  289121239725  4.523560e+15   \n",
       "1         NaN  519169883643  4.531430e+15   \n",
       "2         NaN   31940337633  4.534680e+15   \n",
       "3         NaN  276092405255  4.542300e+15   \n",
       "4         NaN  980597602122  4.555870e+15   \n",
       "\n",
       "                                          survey_url  rating     ...      \\\n",
       "0  http://402.appspot.com/create/preview?survey=i...       4     ...       \n",
       "1  http://402.appspot.com/create/preview?survey=7...       4     ...       \n",
       "2  http://402.appspot.com/create/preview?survey=2...       4     ...       \n",
       "3  http://402.appspot.com/create/preview?survey=n...       4     ...       \n",
       "4  http://402.appspot.com/create/preview?survey=h...       4     ...       \n",
       "\n",
       "  Unnamed: 13 Unnamed: 14 Unnamed: 15 Unnamed: 16 Unnamed: 17  \n",
       "0         NaN         NaN         NaN         NaN         NaN  \n",
       "1         NaN         NaN         NaN         NaN         NaN  \n",
       "2         NaN         NaN         NaN         NaN         NaN  \n",
       "3         NaN         NaN         NaN         NaN         NaN  \n",
       "4         NaN         NaN         NaN         NaN         NaN  \n",
       "\n",
       "[5 rows x 18 columns]"
      ]
     },
     "execution_count": 28,
     "metadata": {},
     "output_type": "execute_result"
    }
   ],
   "source": [
    "df[:5]"
   ]
  },
  {
   "cell_type": "code",
   "execution_count": 29,
   "metadata": {},
   "outputs": [
    {
     "data": {
      "text/html": [
       "<div>\n",
       "<style>\n",
       "    .dataframe thead tr:only-child th {\n",
       "        text-align: right;\n",
       "    }\n",
       "\n",
       "    .dataframe thead th {\n",
       "        text-align: left;\n",
       "    }\n",
       "\n",
       "    .dataframe tbody tr th {\n",
       "        vertical-align: top;\n",
       "    }\n",
       "</style>\n",
       "<table border=\"1\" class=\"dataframe\">\n",
       "  <thead>\n",
       "    <tr style=\"text-align: right;\">\n",
       "      <th></th>\n",
       "      <th>Unnamed: 0</th>\n",
       "      <th>gaia</th>\n",
       "      <th>study_id</th>\n",
       "      <th>survey_url</th>\n",
       "      <th>rating</th>\n",
       "      <th>...</th>\n",
       "      <th>Unnamed: 13</th>\n",
       "      <th>Unnamed: 14</th>\n",
       "      <th>Unnamed: 15</th>\n",
       "      <th>Unnamed: 16</th>\n",
       "      <th>Unnamed: 17</th>\n",
       "    </tr>\n",
       "  </thead>\n",
       "  <tbody>\n",
       "    <tr>\n",
       "      <th>3180</th>\n",
       "      <td>NaN</td>\n",
       "      <td>152629497766</td>\n",
       "      <td>6.690899e+15</td>\n",
       "      <td>http://402.appspot.com/create/preview?survey=n...</td>\n",
       "      <td>0</td>\n",
       "      <td>...</td>\n",
       "      <td>NaN</td>\n",
       "      <td>NaN</td>\n",
       "      <td>NaN</td>\n",
       "      <td>NaN</td>\n",
       "      <td>NaN</td>\n",
       "    </tr>\n",
       "    <tr>\n",
       "      <th>3181</th>\n",
       "      <td>NaN</td>\n",
       "      <td>1085784205456</td>\n",
       "      <td>6.697804e+15</td>\n",
       "      <td>http://402.appspot.com/create/preview?survey=u...</td>\n",
       "      <td>0</td>\n",
       "      <td>...</td>\n",
       "      <td>NaN</td>\n",
       "      <td>NaN</td>\n",
       "      <td>NaN</td>\n",
       "      <td>NaN</td>\n",
       "      <td>NaN</td>\n",
       "    </tr>\n",
       "  </tbody>\n",
       "</table>\n",
       "<p>2 rows × 18 columns</p>\n",
       "</div>"
      ],
      "text/plain": [
       "      Unnamed: 0           gaia      study_id  \\\n",
       "3180         NaN   152629497766  6.690899e+15   \n",
       "3181         NaN  1085784205456  6.697804e+15   \n",
       "\n",
       "                                             survey_url  rating     ...      \\\n",
       "3180  http://402.appspot.com/create/preview?survey=n...       0     ...       \n",
       "3181  http://402.appspot.com/create/preview?survey=u...       0     ...       \n",
       "\n",
       "     Unnamed: 13 Unnamed: 14 Unnamed: 15 Unnamed: 16 Unnamed: 17  \n",
       "3180         NaN         NaN         NaN         NaN         NaN  \n",
       "3181         NaN         NaN         NaN         NaN         NaN  \n",
       "\n",
       "[2 rows x 18 columns]"
      ]
     },
     "execution_count": 29,
     "metadata": {},
     "output_type": "execute_result"
    }
   ],
   "source": [
    "df[-2:]"
   ]
  },
  {
   "cell_type": "code",
   "execution_count": 30,
   "metadata": {},
   "outputs": [
    {
     "data": {
      "text/html": [
       "<div>\n",
       "<style>\n",
       "    .dataframe thead tr:only-child th {\n",
       "        text-align: right;\n",
       "    }\n",
       "\n",
       "    .dataframe thead th {\n",
       "        text-align: left;\n",
       "    }\n",
       "\n",
       "    .dataframe tbody tr th {\n",
       "        vertical-align: top;\n",
       "    }\n",
       "</style>\n",
       "<table border=\"1\" class=\"dataframe\">\n",
       "  <thead>\n",
       "    <tr style=\"text-align: right;\">\n",
       "      <th></th>\n",
       "      <th>Unnamed: 0</th>\n",
       "      <th>gaia</th>\n",
       "      <th>study_id</th>\n",
       "      <th>survey_url</th>\n",
       "      <th>rating</th>\n",
       "      <th>...</th>\n",
       "      <th>Unnamed: 13</th>\n",
       "      <th>Unnamed: 14</th>\n",
       "      <th>Unnamed: 15</th>\n",
       "      <th>Unnamed: 16</th>\n",
       "      <th>Unnamed: 17</th>\n",
       "    </tr>\n",
       "  </thead>\n",
       "  <tbody>\n",
       "    <tr>\n",
       "      <th>3177</th>\n",
       "      <td>NaN</td>\n",
       "      <td>963562686378</td>\n",
       "      <td>6.614203e+15</td>\n",
       "      <td>http://402.appspot.com/create/preview?survey=t...</td>\n",
       "      <td>0</td>\n",
       "      <td>...</td>\n",
       "      <td>NaN</td>\n",
       "      <td>NaN</td>\n",
       "      <td>NaN</td>\n",
       "      <td>NaN</td>\n",
       "      <td>NaN</td>\n",
       "    </tr>\n",
       "    <tr>\n",
       "      <th>3178</th>\n",
       "      <td>NaN</td>\n",
       "      <td>550692038698</td>\n",
       "      <td>6.661089e+15</td>\n",
       "      <td>http://402.appspot.com/create/preview?survey=k...</td>\n",
       "      <td>0</td>\n",
       "      <td>...</td>\n",
       "      <td>NaN</td>\n",
       "      <td>NaN</td>\n",
       "      <td>NaN</td>\n",
       "      <td>NaN</td>\n",
       "      <td>NaN</td>\n",
       "    </tr>\n",
       "    <tr>\n",
       "      <th>3179</th>\n",
       "      <td>NaN</td>\n",
       "      <td>1006531943517</td>\n",
       "      <td>6.669909e+15</td>\n",
       "      <td>http://402.appspot.com/create/preview?survey=q...</td>\n",
       "      <td>0</td>\n",
       "      <td>...</td>\n",
       "      <td>NaN</td>\n",
       "      <td>NaN</td>\n",
       "      <td>NaN</td>\n",
       "      <td>NaN</td>\n",
       "      <td>NaN</td>\n",
       "    </tr>\n",
       "    <tr>\n",
       "      <th>3180</th>\n",
       "      <td>NaN</td>\n",
       "      <td>152629497766</td>\n",
       "      <td>6.690899e+15</td>\n",
       "      <td>http://402.appspot.com/create/preview?survey=n...</td>\n",
       "      <td>0</td>\n",
       "      <td>...</td>\n",
       "      <td>NaN</td>\n",
       "      <td>NaN</td>\n",
       "      <td>NaN</td>\n",
       "      <td>NaN</td>\n",
       "      <td>NaN</td>\n",
       "    </tr>\n",
       "    <tr>\n",
       "      <th>3181</th>\n",
       "      <td>NaN</td>\n",
       "      <td>1085784205456</td>\n",
       "      <td>6.697804e+15</td>\n",
       "      <td>http://402.appspot.com/create/preview?survey=u...</td>\n",
       "      <td>0</td>\n",
       "      <td>...</td>\n",
       "      <td>NaN</td>\n",
       "      <td>NaN</td>\n",
       "      <td>NaN</td>\n",
       "      <td>NaN</td>\n",
       "      <td>NaN</td>\n",
       "    </tr>\n",
       "  </tbody>\n",
       "</table>\n",
       "<p>5 rows × 18 columns</p>\n",
       "</div>"
      ],
      "text/plain": [
       "      Unnamed: 0           gaia      study_id  \\\n",
       "3177         NaN   963562686378  6.614203e+15   \n",
       "3178         NaN   550692038698  6.661089e+15   \n",
       "3179         NaN  1006531943517  6.669909e+15   \n",
       "3180         NaN   152629497766  6.690899e+15   \n",
       "3181         NaN  1085784205456  6.697804e+15   \n",
       "\n",
       "                                             survey_url  rating     ...      \\\n",
       "3177  http://402.appspot.com/create/preview?survey=t...       0     ...       \n",
       "3178  http://402.appspot.com/create/preview?survey=k...       0     ...       \n",
       "3179  http://402.appspot.com/create/preview?survey=q...       0     ...       \n",
       "3180  http://402.appspot.com/create/preview?survey=n...       0     ...       \n",
       "3181  http://402.appspot.com/create/preview?survey=u...       0     ...       \n",
       "\n",
       "     Unnamed: 13 Unnamed: 14 Unnamed: 15 Unnamed: 16 Unnamed: 17  \n",
       "3177         NaN         NaN         NaN         NaN         NaN  \n",
       "3178         NaN         NaN         NaN         NaN         NaN  \n",
       "3179         NaN         NaN         NaN         NaN         NaN  \n",
       "3180         NaN         NaN         NaN         NaN         NaN  \n",
       "3181         NaN         NaN         NaN         NaN         NaN  \n",
       "\n",
       "[5 rows x 18 columns]"
      ]
     },
     "execution_count": 30,
     "metadata": {},
     "output_type": "execute_result"
    }
   ],
   "source": [
    "df.tail()"
   ]
  },
  {
   "cell_type": "code",
   "execution_count": 31,
   "metadata": {},
   "outputs": [
    {
     "data": {
      "text/plain": [
       "38207L"
      ]
     },
     "execution_count": 31,
     "metadata": {},
     "output_type": "execute_result"
    }
   ],
   "source": [
    "df.isnull().sum().sum()"
   ]
  },
  {
   "cell_type": "code",
   "execution_count": 33,
   "metadata": {},
   "outputs": [
    {
     "data": {
      "text/plain": [
       "0L"
      ]
     },
     "execution_count": 33,
     "metadata": {},
     "output_type": "execute_result"
    }
   ],
   "source": [
    "df_1.isnull().sum().sum()"
   ]
  },
  {
   "cell_type": "code",
   "execution_count": 34,
   "metadata": {},
   "outputs": [
    {
     "data": {
      "text/plain": [
       "array([ 289121239725,  519169883643,   31940337633, ..., 1006531943517,\n",
       "        152629497766, 1085784205456])"
      ]
     },
     "execution_count": 34,
     "metadata": {},
     "output_type": "execute_result"
    }
   ],
   "source": [
    "df.gaia.unique()"
   ]
  },
  {
   "cell_type": "code",
   "execution_count": 36,
   "metadata": {},
   "outputs": [
    {
     "data": {
      "text/plain": [
       "1735764271977272"
      ]
     },
     "execution_count": 36,
     "metadata": {},
     "output_type": "execute_result"
    }
   ],
   "source": [
    "df.gaia.unique().sum().s"
   ]
  },
  {
   "cell_type": "code",
   "execution_count": 38,
   "metadata": {},
   "outputs": [
    {
     "data": {
      "text/plain": [
       "Unnamed: 0     3182\n",
       "gaia              0\n",
       "study_id          0\n",
       "survey_url        0\n",
       "rating            0\n",
       "               ... \n",
       "Unnamed: 13    3182\n",
       "Unnamed: 14    3172\n",
       "Unnamed: 15    3182\n",
       "Unnamed: 16    3173\n",
       "Unnamed: 17    3173\n",
       "Length: 18, dtype: int64"
      ]
     },
     "execution_count": 38,
     "metadata": {},
     "output_type": "execute_result"
    }
   ],
   "source": [
    "df.isnull().sum()"
   ]
  },
  {
   "cell_type": "code",
   "execution_count": 52,
   "metadata": {},
   "outputs": [
    {
     "data": {
      "text/plain": [
       "'Unnamed: 0'"
      ]
     },
     "execution_count": 52,
     "metadata": {},
     "output_type": "execute_result"
    }
   ],
   "source": [
    "df.columns[0]"
   ]
  },
  {
   "cell_type": "code",
   "execution_count": 53,
   "metadata": {},
   "outputs": [
    {
     "ename": "SyntaxError",
     "evalue": "invalid syntax (<ipython-input-53-cd1a98ae0c2a>, line 1)",
     "output_type": "error",
     "traceback": [
      "\u001b[0;36m  File \u001b[0;32m\"<ipython-input-53-cd1a98ae0c2a>\"\u001b[0;36m, line \u001b[0;32m1\u001b[0m\n\u001b[0;31m    df.'Unnamed: 0'.unique()\u001b[0m\n\u001b[0m                  ^\u001b[0m\n\u001b[0;31mSyntaxError\u001b[0m\u001b[0;31m:\u001b[0m invalid syntax\n"
     ]
    }
   ],
   "source": [
    "df.'Unnamed: 0'.unique()"
   ]
  },
  {
   "cell_type": "code",
   "execution_count": 54,
   "metadata": {
    "collapsed": true
   },
   "outputs": [],
   "source": [
    "df_1.drop('is_smoker', axis = 1, inplace = True)"
   ]
  },
  {
   "cell_type": "code",
   "execution_count": 55,
   "metadata": {},
   "outputs": [
    {
     "data": {
      "text/plain": [
       "Index([u'day', u'time', u'name', u'gender', u'party', u'check', u'tip'], dtype='object')"
      ]
     },
     "execution_count": 55,
     "metadata": {},
     "output_type": "execute_result"
    }
   ],
   "source": [
    "df_1.columns"
   ]
  },
  {
   "cell_type": "code",
   "execution_count": 57,
   "metadata": {},
   "outputs": [],
   "source": [
    "df.drop(df.columns[0], axis = 1, inplace = True)"
   ]
  },
  {
   "cell_type": "code",
   "execution_count": 66,
   "metadata": {},
   "outputs": [
    {
     "data": {
      "text/plain": [
       "Index([u'Unnamed: 10', u'Unnamed: 11', u'Unnamed: 12', u'Unnamed: 13',\n",
       "       u'Unnamed: 14', u'Unnamed: 15', u'Unnamed: 16', u'Unnamed: 17'],\n",
       "      dtype='object')"
      ]
     },
     "execution_count": 66,
     "metadata": {},
     "output_type": "execute_result"
    }
   ],
   "source": [
    "df.columns[9:]"
   ]
  },
  {
   "cell_type": "code",
   "execution_count": 67,
   "metadata": {
    "collapsed": true
   },
   "outputs": [],
   "source": [
    "df.drop(df.columns[9:], axis = 1, inplace = True)"
   ]
  },
  {
   "cell_type": "code",
   "execution_count": 68,
   "metadata": {},
   "outputs": [
    {
     "data": {
      "text/plain": [
       "Index([u'gaia', u'study_id', u'survey_url', u'rating', u'comment',\n",
       "       u'watch_history_notes', u'watch_history_link', u'rec_makes_sense?',\n",
       "       u'my_category'],\n",
       "      dtype='object')"
      ]
     },
     "execution_count": 68,
     "metadata": {},
     "output_type": "execute_result"
    }
   ],
   "source": [
    "df.columns"
   ]
  },
  {
   "cell_type": "code",
   "execution_count": 70,
   "metadata": {},
   "outputs": [
    {
     "name": "stdout",
     "output_type": "stream",
     "text": [
      "gaia\n",
      "study_id\n",
      "survey_url\n",
      "rating\n",
      "comment\n",
      "watch_history_notes\n",
      "watch_history_link\n",
      "rec_makes_sense?\n",
      "my_category\n"
     ]
    }
   ],
   "source": [
    "for column in df:\n",
    "    print column"
   ]
  },
  {
   "cell_type": "code",
   "execution_count": 77,
   "metadata": {},
   "outputs": [
    {
     "data": {
      "text/plain": [
       "3107"
      ]
     },
     "execution_count": 77,
     "metadata": {},
     "output_type": "execute_result"
    }
   ],
   "source": [
    "len(df.gaia.unique())"
   ]
  },
  {
   "cell_type": "code",
   "execution_count": 84,
   "metadata": {},
   "outputs": [
    {
     "data": {
      "text/plain": [
       "708161407342    3\n",
       "830133303655    3\n",
       "208889353651    3\n",
       "731424450116    3\n",
       "164099158196    3\n",
       "               ..\n",
       "781986323198    1\n",
       "943098665678    1\n",
       "719683400433    1\n",
       "800305110201    1\n",
       "369403496491    1\n",
       "Name: gaia, Length: 3107, dtype: int64"
      ]
     },
     "execution_count": 84,
     "metadata": {},
     "output_type": "execute_result"
    }
   ],
   "source": [
    "df.gaia.value_counts()"
   ]
  },
  {
   "cell_type": "code",
   "execution_count": 85,
   "metadata": {},
   "outputs": [
    {
     "data": {
      "text/plain": [
       "Index([u'day', u'time', u'name', u'gender', u'party', u'check', u'tip'], dtype='object')"
      ]
     },
     "execution_count": 85,
     "metadata": {},
     "output_type": "execute_result"
    }
   ],
   "source": [
    "df_1.columns"
   ]
  },
  {
   "cell_type": "code",
   "execution_count": 87,
   "metadata": {},
   "outputs": [
    {
     "data": {
      "text/plain": [
       "gaia\n",
       "120928880        0\n",
       "504608455        0\n",
       "553306985        0\n",
       "1534111802       0\n",
       "1910014061       0\n",
       "                ..\n",
       "1096480577948    0\n",
       "1097553560764    0\n",
       "1097670717522    0\n",
       "1098057035425    0\n",
       "1098802969019    0\n",
       "Name: my_category, Length: 3107, dtype: int64"
      ]
     },
     "execution_count": 87,
     "metadata": {},
     "output_type": "execute_result"
    }
   ],
   "source": [
    "df.groupby('gaia').my_category.count()"
   ]
  },
  {
   "cell_type": "code",
   "execution_count": 93,
   "metadata": {},
   "outputs": [
    {
     "data": {
      "text/plain": [
       "day\n",
       "Friday       51.96\n",
       "Saturday    260.40\n",
       "Sunday      247.39\n",
       "Thursday    171.83\n",
       "Name: tip, dtype: float64"
      ]
     },
     "execution_count": 93,
     "metadata": {},
     "output_type": "execute_result"
    }
   ],
   "source": [
    "df_1.groupby('day').tip.sum()"
   ]
  },
  {
   "cell_type": "code",
   "execution_count": 94,
   "metadata": {},
   "outputs": [
    {
     "data": {
      "text/plain": [
       "day\n",
       "Friday      2.734737\n",
       "Saturday    2.993103\n",
       "Sunday      3.255132\n",
       "Thursday    2.771452\n",
       "Name: tip, dtype: float64"
      ]
     },
     "execution_count": 94,
     "metadata": {},
     "output_type": "execute_result"
    }
   ],
   "source": [
    "df_1.groupby('day').tip.sum() / df_1.groupby('day').tip.count()"
   ]
  },
  {
   "cell_type": "code",
   "execution_count": 108,
   "metadata": {},
   "outputs": [
    {
     "data": {
      "text/plain": [
       "array(['Nicholas', 'Larry', 'Joseph', 'Mark', 'Jamie', 'Steven', 'Wilburn',\n",
       "       'Ian', 'Rick', 'Karl', 'Timothy', 'Brandon', 'Roman', 'Sean',\n",
       "       'William', 'Richard', 'Carl', 'Mario', 'Charles', 'Tyler',\n",
       "       'Jonathan', 'Dustin', 'Reyes', 'Alejandro', 'Levi', 'Leonard',\n",
       "       'Casey', 'Gregory', 'James', 'Arturo', 'Maurice', 'Melvin', 'David',\n",
       "       'Chandler', 'Frank', 'Harold', 'Keith', 'Brian', 'Christopher',\n",
       "       'Marvin', 'Jerry', 'Diego', 'Bryson', 'Matt', 'Daniel', 'Harry',\n",
       "       'Ronald', 'Andrew', 'Edwin', 'Erick', 'Kaleb', 'Brent', 'Kenneth',\n",
       "       'Todd', 'Maverick', 'Curtis', 'Kevin', 'Alex', 'Roger', 'Adalberto',\n",
       "       'Kody', 'Kelly', 'Javier', 'Michal', 'Erin', 'Stanley', 'Norman',\n",
       "       'Walter', 'Enrique', 'Lewis', 'Martin', 'Neil', 'Zackary',\n",
       "       'Christian', 'Cisco', 'Leslie', 'Carter', 'Robert', 'Benjamin',\n",
       "       'Jeffery', 'Scott', 'Sam', 'Aiden', 'Antonio', 'Ricky', 'Gerald',\n",
       "       'Amos', 'Claude', 'Logan', 'Dennis', 'Torrey', 'Leonardo',\n",
       "       'Francis', 'Jacob', 'Dale', 'Paul', 'John', 'Alexander', 'Willie',\n",
       "       'Matthew', 'Fred', 'Luis', 'Eduardo', 'Vernon', 'Donald', 'Jon',\n",
       "       'Alfred', 'Darwin', 'Henry', 'Jeremy'], dtype=object)"
      ]
     },
     "execution_count": 108,
     "metadata": {},
     "output_type": "execute_result"
    }
   ],
   "source": [
    "df_1[df_1.gender == 'Male'].name.unique()"
   ]
  },
  {
   "cell_type": "code",
   "execution_count": 98,
   "metadata": {},
   "outputs": [
    {
     "data": {
      "text/plain": [
       "array(['Casey'], dtype=object)"
      ]
     },
     "execution_count": 98,
     "metadata": {},
     "output_type": "execute_result"
    }
   ],
   "source": [
    "np.intersect1d(df_1[df_1.gender == 'Male'].name, df_1[df_1.gender == 'Female'].name)"
   ]
  },
  {
   "cell_type": "code",
   "execution_count": 121,
   "metadata": {},
   "outputs": [
    {
     "data": {
      "text/plain": [
       "182"
      ]
     },
     "execution_count": 121,
     "metadata": {},
     "output_type": "execute_result"
    }
   ],
   "source": [
    "len(df_1[df_1.gender == \"Male\"].name.unique()) +\\\n",
    "len(df_1[df_1.gender == \"Female\"].name.unique())"
   ]
  },
  {
   "cell_type": "code",
   "execution_count": 122,
   "metadata": {},
   "outputs": [
    {
     "data": {
      "text/plain": [
       "181"
      ]
     },
     "execution_count": 122,
     "metadata": {},
     "output_type": "execute_result"
    }
   ],
   "source": [
    "len(df_1.name.unique())"
   ]
  },
  {
   "cell_type": "code",
   "execution_count": 123,
   "metadata": {},
   "outputs": [
    {
     "data": {
      "text/plain": [
       "182"
      ]
     },
     "execution_count": 123,
     "metadata": {},
     "output_type": "execute_result"
    }
   ],
   "source": [
    "len(df_1.groupby(['name', 'gender']))"
   ]
  },
  {
   "cell_type": "code",
   "execution_count": 125,
   "metadata": {},
   "outputs": [
    {
     "data": {
      "text/plain": [
       "4"
      ]
     },
     "execution_count": 125,
     "metadata": {},
     "output_type": "execute_result"
    }
   ],
   "source": [
    "(df_1.name == \"Kevin\").sum()"
   ]
  },
  {
   "cell_type": "code",
   "execution_count": 129,
   "metadata": {},
   "outputs": [
    {
     "data": {
      "text/plain": [
       "very subjective              10\n",
       "parent                        7\n",
       "wtf                           6\n",
       "hate watch                    3\n",
       "min signal                    3\n",
       "                             ..\n",
       "safe creator                  1\n",
       "searched for it               1\n",
       "safe topic, novel creator     1\n",
       "already watched it; music     1\n",
       "many watches; music           1\n",
       "Name: my_category, Length: 15, dtype: int64"
      ]
     },
     "execution_count": 129,
     "metadata": {},
     "output_type": "execute_result"
    }
   ],
   "source": [
    "df.my_category.value_counts()"
   ]
  },
  {
   "cell_type": "code",
   "execution_count": 148,
   "metadata": {},
   "outputs": [
    {
     "data": {
      "text/plain": [
       "Mary         4\n",
       "Casey        3\n",
       "Laura        3\n",
       "Theresa      2\n",
       "Alice        2\n",
       "            ..\n",
       "Paisley      1\n",
       "Marian       1\n",
       "Shaquasia    1\n",
       "Wanda        1\n",
       "Sarah        1\n",
       "Name: name, Length: 72, dtype: int64"
      ]
     },
     "execution_count": 148,
     "metadata": {},
     "output_type": "execute_result"
    }
   ],
   "source": [
    "df_1[df_1.gender == 'Female'].name.value_counts()"
   ]
  },
  {
   "cell_type": "code",
   "execution_count": 161,
   "metadata": {},
   "outputs": [
    {
     "data": {
      "text/plain": [
       "name      gender\n",
       "Maryann   Female    0.416667\n",
       "Bailey    Female    0.325733\n",
       "Daniel    Male      0.313607\n",
       "Dennis    Male      0.280535\n",
       "Zackary   Male      0.266312\n",
       "                      ...   \n",
       "Willie    Male      0.066534\n",
       "Kimberly  Female    0.059447\n",
       "Destiny   Female    0.056797\n",
       "Mildred   Female    0.056433\n",
       "Jeremy    Male      0.035638\n",
       "Length: 182, dtype: float64"
      ]
     },
     "execution_count": 161,
     "metadata": {},
     "output_type": "execute_result"
    }
   ],
   "source": [
    "(df_1.groupby(['name', 'gender']).tip.sum() / df_1.groupby(['name', 'gender']).check.sum()).sort_values(ascending = False)"
   ]
  },
  {
   "cell_type": "code",
   "execution_count": 168,
   "metadata": {},
   "outputs": [
    {
     "data": {
      "text/plain": [
       "Casey       8\n",
       "David       8\n",
       "James       5\n",
       "Mary        4\n",
       "Carl        4\n",
       "           ..\n",
       "Walter      1\n",
       "Chandler    1\n",
       "Reyes       1\n",
       "Matthew     1\n",
       "Sarah       1\n",
       "Name: name, Length: 181, dtype: int64"
      ]
     },
     "execution_count": 168,
     "metadata": {},
     "output_type": "execute_result"
    }
   ],
   "source": [
    "df_1.name.value_counts()"
   ]
  },
  {
   "cell_type": "code",
   "execution_count": 169,
   "metadata": {},
   "outputs": [
    {
     "data": {
      "text/plain": [
       "gaia                     int64\n",
       "study_id               float64\n",
       "survey_url              object\n",
       "rating                   int64\n",
       "comment                 object\n",
       "watch_history_notes     object\n",
       "watch_history_link      object\n",
       "rec_makes_sense?        object\n",
       "my_category             object\n",
       "dtype: object"
      ]
     },
     "execution_count": 169,
     "metadata": {},
     "output_type": "execute_result"
    }
   ],
   "source": [
    "df.dtypes"
   ]
  },
  {
   "cell_type": "code",
   "execution_count": 171,
   "metadata": {},
   "outputs": [
    {
     "data": {
      "text/plain": [
       "19041L"
      ]
     },
     "execution_count": 171,
     "metadata": {},
     "output_type": "execute_result"
    }
   ],
   "source": [
    "df.notnull().sum().sum()"
   ]
  },
  {
   "cell_type": "code",
   "execution_count": 172,
   "metadata": {},
   "outputs": [
    {
     "data": {
      "text/plain": [
       "RangeIndex(start=0, stop=3182, step=1)"
      ]
     },
     "execution_count": 172,
     "metadata": {},
     "output_type": "execute_result"
    }
   ],
   "source": [
    "df.index"
   ]
  },
  {
   "cell_type": "code",
   "execution_count": 173,
   "metadata": {},
   "outputs": [
    {
     "data": {
      "text/plain": [
       "RangeIndex(start=0, stop=244, step=1)"
      ]
     },
     "execution_count": 173,
     "metadata": {},
     "output_type": "execute_result"
    }
   ],
   "source": [
    "df_1.index"
   ]
  },
  {
   "cell_type": "code",
   "execution_count": 174,
   "metadata": {},
   "outputs": [
    {
     "data": {
      "text/plain": [
       "Index([u'gaia', u'study_id', u'survey_url', u'rating', u'comment',\n",
       "       u'watch_history_notes', u'watch_history_link', u'rec_makes_sense?',\n",
       "       u'my_category'],\n",
       "      dtype='object')"
      ]
     },
     "execution_count": 174,
     "metadata": {},
     "output_type": "execute_result"
    }
   ],
   "source": [
    "df.columns"
   ]
  },
  {
   "cell_type": "code",
   "execution_count": 175,
   "metadata": {},
   "outputs": [
    {
     "data": {
      "text/html": [
       "<div>\n",
       "<style>\n",
       "    .dataframe thead tr:only-child th {\n",
       "        text-align: right;\n",
       "    }\n",
       "\n",
       "    .dataframe thead th {\n",
       "        text-align: left;\n",
       "    }\n",
       "\n",
       "    .dataframe tbody tr th {\n",
       "        vertical-align: top;\n",
       "    }\n",
       "</style>\n",
       "<table border=\"1\" class=\"dataframe\">\n",
       "  <thead>\n",
       "    <tr style=\"text-align: right;\">\n",
       "      <th></th>\n",
       "      <th>gaia</th>\n",
       "      <th>survey_url</th>\n",
       "    </tr>\n",
       "  </thead>\n",
       "  <tbody>\n",
       "    <tr>\n",
       "      <th>0</th>\n",
       "      <td>289121239725</td>\n",
       "      <td>http://402.appspot.com/create/preview?survey=i...</td>\n",
       "    </tr>\n",
       "    <tr>\n",
       "      <th>1</th>\n",
       "      <td>519169883643</td>\n",
       "      <td>http://402.appspot.com/create/preview?survey=7...</td>\n",
       "    </tr>\n",
       "    <tr>\n",
       "      <th>2</th>\n",
       "      <td>31940337633</td>\n",
       "      <td>http://402.appspot.com/create/preview?survey=2...</td>\n",
       "    </tr>\n",
       "    <tr>\n",
       "      <th>3</th>\n",
       "      <td>276092405255</td>\n",
       "      <td>http://402.appspot.com/create/preview?survey=n...</td>\n",
       "    </tr>\n",
       "    <tr>\n",
       "      <th>4</th>\n",
       "      <td>980597602122</td>\n",
       "      <td>http://402.appspot.com/create/preview?survey=h...</td>\n",
       "    </tr>\n",
       "    <tr>\n",
       "      <th>...</th>\n",
       "      <td>...</td>\n",
       "      <td>...</td>\n",
       "    </tr>\n",
       "    <tr>\n",
       "      <th>3177</th>\n",
       "      <td>963562686378</td>\n",
       "      <td>http://402.appspot.com/create/preview?survey=t...</td>\n",
       "    </tr>\n",
       "    <tr>\n",
       "      <th>3178</th>\n",
       "      <td>550692038698</td>\n",
       "      <td>http://402.appspot.com/create/preview?survey=k...</td>\n",
       "    </tr>\n",
       "    <tr>\n",
       "      <th>3179</th>\n",
       "      <td>1006531943517</td>\n",
       "      <td>http://402.appspot.com/create/preview?survey=q...</td>\n",
       "    </tr>\n",
       "    <tr>\n",
       "      <th>3180</th>\n",
       "      <td>152629497766</td>\n",
       "      <td>http://402.appspot.com/create/preview?survey=n...</td>\n",
       "    </tr>\n",
       "    <tr>\n",
       "      <th>3181</th>\n",
       "      <td>1085784205456</td>\n",
       "      <td>http://402.appspot.com/create/preview?survey=u...</td>\n",
       "    </tr>\n",
       "  </tbody>\n",
       "</table>\n",
       "<p>3182 rows × 2 columns</p>\n",
       "</div>"
      ],
      "text/plain": [
       "               gaia                                         survey_url\n",
       "0      289121239725  http://402.appspot.com/create/preview?survey=i...\n",
       "1      519169883643  http://402.appspot.com/create/preview?survey=7...\n",
       "2       31940337633  http://402.appspot.com/create/preview?survey=2...\n",
       "3      276092405255  http://402.appspot.com/create/preview?survey=n...\n",
       "4      980597602122  http://402.appspot.com/create/preview?survey=h...\n",
       "...             ...                                                ...\n",
       "3177   963562686378  http://402.appspot.com/create/preview?survey=t...\n",
       "3178   550692038698  http://402.appspot.com/create/preview?survey=k...\n",
       "3179  1006531943517  http://402.appspot.com/create/preview?survey=q...\n",
       "3180   152629497766  http://402.appspot.com/create/preview?survey=n...\n",
       "3181  1085784205456  http://402.appspot.com/create/preview?survey=u...\n",
       "\n",
       "[3182 rows x 2 columns]"
      ]
     },
     "execution_count": 175,
     "metadata": {},
     "output_type": "execute_result"
    }
   ],
   "source": [
    "df[['gaia', 'survey_url']]"
   ]
  },
  {
   "cell_type": "code",
   "execution_count": 176,
   "metadata": {},
   "outputs": [
    {
     "data": {
      "text/plain": [
       "0        289121239725\n",
       "1        519169883643\n",
       "2         31940337633\n",
       "3        276092405255\n",
       "4        980597602122\n",
       "            ...      \n",
       "3177     963562686378\n",
       "3178     550692038698\n",
       "3179    1006531943517\n",
       "3180     152629497766\n",
       "3181    1085784205456\n",
       "Name: gaia, Length: 3182, dtype: int64"
      ]
     },
     "execution_count": 176,
     "metadata": {},
     "output_type": "execute_result"
    }
   ],
   "source": [
    "df['gaia']"
   ]
  },
  {
   "cell_type": "code",
   "execution_count": 182,
   "metadata": {},
   "outputs": [
    {
     "data": {
      "text/plain": [
       "gaia                                                        289121239725\n",
       "study_id                                                     4.52356e+15\n",
       "survey_url             http://402.appspot.com/create/preview?survey=i...\n",
       "rating                                                                 4\n",
       "comment                 Exelente                                     ...\n",
       "watch_history_notes    user likes Latin music, the two artists who co...\n",
       "watch_history_link     https://p13ndemo.corp.google.com/video_watches...\n",
       "rec_makes_sense?                                                       y\n",
       "my_category                                                        music\n",
       "Name: 0, dtype: object"
      ]
     },
     "execution_count": 182,
     "metadata": {},
     "output_type": "execute_result"
    }
   ],
   "source": [
    "df.loc[0]"
   ]
  },
  {
   "cell_type": "code",
   "execution_count": 183,
   "metadata": {},
   "outputs": [
    {
     "data": {
      "text/html": [
       "<div>\n",
       "<style>\n",
       "    .dataframe thead tr:only-child th {\n",
       "        text-align: right;\n",
       "    }\n",
       "\n",
       "    .dataframe thead th {\n",
       "        text-align: left;\n",
       "    }\n",
       "\n",
       "    .dataframe tbody tr th {\n",
       "        vertical-align: top;\n",
       "    }\n",
       "</style>\n",
       "<table border=\"1\" class=\"dataframe\">\n",
       "  <thead>\n",
       "    <tr style=\"text-align: right;\">\n",
       "      <th></th>\n",
       "      <th>gaia</th>\n",
       "      <th>study_id</th>\n",
       "      <th>survey_url</th>\n",
       "      <th>rating</th>\n",
       "      <th>comment</th>\n",
       "      <th>watch_history_notes</th>\n",
       "      <th>watch_history_link</th>\n",
       "      <th>rec_makes_sense?</th>\n",
       "      <th>my_category</th>\n",
       "    </tr>\n",
       "  </thead>\n",
       "  <tbody>\n",
       "    <tr>\n",
       "      <th>1</th>\n",
       "      <td>519169883643</td>\n",
       "      <td>4.531430e+15</td>\n",
       "      <td>http://402.appspot.com/create/preview?survey=7...</td>\n",
       "      <td>4</td>\n",
       "      <td>I have always been and always will be, enrapt...</td>\n",
       "      <td>user watches a bunch of Chris Cornell; likes t...</td>\n",
       "      <td>https://p13ndemo.corp.google.com/video_watches...</td>\n",
       "      <td>y</td>\n",
       "      <td>music</td>\n",
       "    </tr>\n",
       "    <tr>\n",
       "      <th>3</th>\n",
       "      <td>276092405255</td>\n",
       "      <td>4.542300e+15</td>\n",
       "      <td>http://402.appspot.com/create/preview?survey=n...</td>\n",
       "      <td>4</td>\n",
       "      <td>Good video's fun and information             ...</td>\n",
       "      <td>user watches a lot of Jake Pudding, we rec Jak...</td>\n",
       "      <td>https://p13ndemo.corp.google.com/video_watches...</td>\n",
       "      <td>y</td>\n",
       "      <td>safe</td>\n",
       "    </tr>\n",
       "  </tbody>\n",
       "</table>\n",
       "</div>"
      ],
      "text/plain": [
       "           gaia      study_id  \\\n",
       "1  519169883643  4.531430e+15   \n",
       "3  276092405255  4.542300e+15   \n",
       "\n",
       "                                          survey_url  rating  \\\n",
       "1  http://402.appspot.com/create/preview?survey=7...       4   \n",
       "3  http://402.appspot.com/create/preview?survey=n...       4   \n",
       "\n",
       "                                             comment  \\\n",
       "1   I have always been and always will be, enrapt...   \n",
       "3   Good video's fun and information             ...   \n",
       "\n",
       "                                 watch_history_notes  \\\n",
       "1  user watches a bunch of Chris Cornell; likes t...   \n",
       "3  user watches a lot of Jake Pudding, we rec Jak...   \n",
       "\n",
       "                                  watch_history_link rec_makes_sense?  \\\n",
       "1  https://p13ndemo.corp.google.com/video_watches...                y   \n",
       "3  https://p13ndemo.corp.google.com/video_watches...                y   \n",
       "\n",
       "  my_category  \n",
       "1       music  \n",
       "3        safe  "
      ]
     },
     "execution_count": 183,
     "metadata": {},
     "output_type": "execute_result"
    }
   ],
   "source": [
    "df.iloc[[1,3]]"
   ]
  },
  {
   "cell_type": "code",
   "execution_count": 185,
   "metadata": {},
   "outputs": [
    {
     "data": {
      "text/plain": [
       "gaia                                                        289121239725\n",
       "study_id                                                     4.52356e+15\n",
       "survey_url             http://402.appspot.com/create/preview?survey=i...\n",
       "rating                                                                 4\n",
       "comment                 Exelente                                     ...\n",
       "watch_history_notes    user likes Latin music, the two artists who co...\n",
       "watch_history_link     https://p13ndemo.corp.google.com/video_watches...\n",
       "rec_makes_sense?                                                       y\n",
       "my_category                                                        music\n",
       "Name: 0, dtype: object"
      ]
     },
     "execution_count": 185,
     "metadata": {},
     "output_type": "execute_result"
    }
   ],
   "source": [
    "df.loc[0]"
   ]
  },
  {
   "cell_type": "code",
   "execution_count": 191,
   "metadata": {},
   "outputs": [
    {
     "data": {
      "text/html": [
       "<div>\n",
       "<style>\n",
       "    .dataframe thead tr:only-child th {\n",
       "        text-align: right;\n",
       "    }\n",
       "\n",
       "    .dataframe thead th {\n",
       "        text-align: left;\n",
       "    }\n",
       "\n",
       "    .dataframe tbody tr th {\n",
       "        vertical-align: top;\n",
       "    }\n",
       "</style>\n",
       "<table border=\"1\" class=\"dataframe\">\n",
       "  <thead>\n",
       "    <tr style=\"text-align: right;\">\n",
       "      <th></th>\n",
       "      <th>gaia</th>\n",
       "      <th>study_id</th>\n",
       "      <th>survey_url</th>\n",
       "      <th>rating</th>\n",
       "      <th>comment</th>\n",
       "      <th>watch_history_notes</th>\n",
       "      <th>watch_history_link</th>\n",
       "      <th>rec_makes_sense?</th>\n",
       "      <th>my_category</th>\n",
       "    </tr>\n",
       "  </thead>\n",
       "  <tbody>\n",
       "    <tr>\n",
       "      <th>1</th>\n",
       "      <td>519169883643</td>\n",
       "      <td>4.531430e+15</td>\n",
       "      <td>http://402.appspot.com/create/preview?survey=7...</td>\n",
       "      <td>4</td>\n",
       "      <td>I have always been and always will be, enrapt...</td>\n",
       "      <td>user watches a bunch of Chris Cornell; likes t...</td>\n",
       "      <td>https://p13ndemo.corp.google.com/video_watches...</td>\n",
       "      <td>y</td>\n",
       "      <td>music</td>\n",
       "    </tr>\n",
       "    <tr>\n",
       "      <th>3</th>\n",
       "      <td>276092405255</td>\n",
       "      <td>4.542300e+15</td>\n",
       "      <td>http://402.appspot.com/create/preview?survey=n...</td>\n",
       "      <td>4</td>\n",
       "      <td>Good video's fun and information             ...</td>\n",
       "      <td>user watches a lot of Jake Pudding, we rec Jak...</td>\n",
       "      <td>https://p13ndemo.corp.google.com/video_watches...</td>\n",
       "      <td>y</td>\n",
       "      <td>safe</td>\n",
       "    </tr>\n",
       "  </tbody>\n",
       "</table>\n",
       "</div>"
      ],
      "text/plain": [
       "           gaia      study_id  \\\n",
       "1  519169883643  4.531430e+15   \n",
       "3  276092405255  4.542300e+15   \n",
       "\n",
       "                                          survey_url  rating  \\\n",
       "1  http://402.appspot.com/create/preview?survey=7...       4   \n",
       "3  http://402.appspot.com/create/preview?survey=n...       4   \n",
       "\n",
       "                                             comment  \\\n",
       "1   I have always been and always will be, enrapt...   \n",
       "3   Good video's fun and information             ...   \n",
       "\n",
       "                                 watch_history_notes  \\\n",
       "1  user watches a bunch of Chris Cornell; likes t...   \n",
       "3  user watches a lot of Jake Pudding, we rec Jak...   \n",
       "\n",
       "                                  watch_history_link rec_makes_sense?  \\\n",
       "1  https://p13ndemo.corp.google.com/video_watches...                y   \n",
       "3  https://p13ndemo.corp.google.com/video_watches...                y   \n",
       "\n",
       "  my_category  \n",
       "1       music  \n",
       "3        safe  "
      ]
     },
     "execution_count": 191,
     "metadata": {},
     "output_type": "execute_result"
    }
   ],
   "source": [
    "df.loc[[1, 3]]"
   ]
  },
  {
   "cell_type": "code",
   "execution_count": 195,
   "metadata": {},
   "outputs": [
    {
     "data": {
      "text/plain": [
       "0        True\n",
       "1        True\n",
       "2       False\n",
       "3       False\n",
       "4       False\n",
       "        ...  \n",
       "3177    False\n",
       "3178    False\n",
       "3179    False\n",
       "3180    False\n",
       "3181    False\n",
       "Name: my_category, Length: 3182, dtype: bool"
      ]
     },
     "execution_count": 195,
     "metadata": {},
     "output_type": "execute_result"
    }
   ],
   "source": [
    "df.my_category == \"music\""
   ]
  },
  {
   "cell_type": "code",
   "execution_count": 210,
   "metadata": {},
   "outputs": [
    {
     "name": "stderr",
     "output_type": "stream",
     "text": [
      "/Users/mlombardo/anaconda/lib/python2.7/site-packages/ipykernel_launcher.py:1: UserWarning: Boolean Series key will be reindexed to match DataFrame index.\n",
      "  \"\"\"Entry point for launching an IPython kernel.\n"
     ]
    },
    {
     "data": {
      "text/html": [
       "<div>\n",
       "<style>\n",
       "    .dataframe thead tr:only-child th {\n",
       "        text-align: right;\n",
       "    }\n",
       "\n",
       "    .dataframe thead th {\n",
       "        text-align: left;\n",
       "    }\n",
       "\n",
       "    .dataframe tbody tr th {\n",
       "        vertical-align: top;\n",
       "    }\n",
       "</style>\n",
       "<table border=\"1\" class=\"dataframe\">\n",
       "  <thead>\n",
       "    <tr style=\"text-align: right;\">\n",
       "      <th></th>\n",
       "      <th>gaia</th>\n",
       "      <th>study_id</th>\n",
       "      <th>survey_url</th>\n",
       "      <th>rating</th>\n",
       "      <th>comment</th>\n",
       "      <th>watch_history_notes</th>\n",
       "      <th>watch_history_link</th>\n",
       "      <th>rec_makes_sense?</th>\n",
       "      <th>my_category</th>\n",
       "    </tr>\n",
       "  </thead>\n",
       "  <tbody>\n",
       "    <tr>\n",
       "      <th>0</th>\n",
       "      <td>289121239725</td>\n",
       "      <td>4.523560e+15</td>\n",
       "      <td>http://402.appspot.com/create/preview?survey=i...</td>\n",
       "      <td>4</td>\n",
       "      <td>Exelente                                     ...</td>\n",
       "      <td>user likes Latin music, the two artists who co...</td>\n",
       "      <td>https://p13ndemo.corp.google.com/video_watches...</td>\n",
       "      <td>y</td>\n",
       "      <td>music</td>\n",
       "    </tr>\n",
       "    <tr>\n",
       "      <th>1</th>\n",
       "      <td>519169883643</td>\n",
       "      <td>4.531430e+15</td>\n",
       "      <td>http://402.appspot.com/create/preview?survey=7...</td>\n",
       "      <td>4</td>\n",
       "      <td>I have always been and always will be, enrapt...</td>\n",
       "      <td>user watches a bunch of Chris Cornell; likes t...</td>\n",
       "      <td>https://p13ndemo.corp.google.com/video_watches...</td>\n",
       "      <td>y</td>\n",
       "      <td>music</td>\n",
       "    </tr>\n",
       "  </tbody>\n",
       "</table>\n",
       "</div>"
      ],
      "text/plain": [
       "           gaia      study_id  \\\n",
       "0  289121239725  4.523560e+15   \n",
       "1  519169883643  4.531430e+15   \n",
       "\n",
       "                                          survey_url  rating  \\\n",
       "0  http://402.appspot.com/create/preview?survey=i...       4   \n",
       "1  http://402.appspot.com/create/preview?survey=7...       4   \n",
       "\n",
       "                                             comment  \\\n",
       "0   Exelente                                     ...   \n",
       "1   I have always been and always will be, enrapt...   \n",
       "\n",
       "                                 watch_history_notes  \\\n",
       "0  user likes Latin music, the two artists who co...   \n",
       "1  user watches a bunch of Chris Cornell; likes t...   \n",
       "\n",
       "                                  watch_history_link rec_makes_sense?  \\\n",
       "0  https://p13ndemo.corp.google.com/video_watches...                y   \n",
       "1  https://p13ndemo.corp.google.com/video_watches...                y   \n",
       "\n",
       "  my_category  \n",
       "0       music  \n",
       "1       music  "
      ]
     },
     "execution_count": 210,
     "metadata": {},
     "output_type": "execute_result"
    }
   ],
   "source": [
    "df[df.my_category == \"music\"][df.rating == 4]"
   ]
  },
  {
   "cell_type": "code",
   "execution_count": 211,
   "metadata": {
    "collapsed": true
   },
   "outputs": [],
   "source": [
    "df_2 = df.merge(df_1,  left_index = True, right_index = True)"
   ]
  },
  {
   "cell_type": "code",
   "execution_count": 215,
   "metadata": {},
   "outputs": [
    {
     "data": {
      "text/html": [
       "<div>\n",
       "<style>\n",
       "    .dataframe thead tr:only-child th {\n",
       "        text-align: right;\n",
       "    }\n",
       "\n",
       "    .dataframe thead th {\n",
       "        text-align: left;\n",
       "    }\n",
       "\n",
       "    .dataframe tbody tr th {\n",
       "        vertical-align: top;\n",
       "    }\n",
       "</style>\n",
       "<table border=\"1\" class=\"dataframe\">\n",
       "  <thead>\n",
       "    <tr style=\"text-align: right;\">\n",
       "      <th></th>\n",
       "      <th>gaia</th>\n",
       "      <th>study_id</th>\n",
       "      <th>survey_url</th>\n",
       "      <th>rating</th>\n",
       "      <th>comment</th>\n",
       "      <th>...</th>\n",
       "      <th>name</th>\n",
       "      <th>gender</th>\n",
       "      <th>party</th>\n",
       "      <th>check</th>\n",
       "      <th>tip</th>\n",
       "    </tr>\n",
       "  </thead>\n",
       "  <tbody>\n",
       "    <tr>\n",
       "      <th>0</th>\n",
       "      <td>289121239725</td>\n",
       "      <td>4.523560e+15</td>\n",
       "      <td>http://402.appspot.com/create/preview?survey=i...</td>\n",
       "      <td>4</td>\n",
       "      <td>Exelente                                     ...</td>\n",
       "      <td>...</td>\n",
       "      <td>Kimberly</td>\n",
       "      <td>Female</td>\n",
       "      <td>2</td>\n",
       "      <td>16.99</td>\n",
       "      <td>1.01</td>\n",
       "    </tr>\n",
       "    <tr>\n",
       "      <th>1</th>\n",
       "      <td>519169883643</td>\n",
       "      <td>4.531430e+15</td>\n",
       "      <td>http://402.appspot.com/create/preview?survey=7...</td>\n",
       "      <td>4</td>\n",
       "      <td>I have always been and always will be, enrapt...</td>\n",
       "      <td>...</td>\n",
       "      <td>Nicholas</td>\n",
       "      <td>Male</td>\n",
       "      <td>3</td>\n",
       "      <td>10.34</td>\n",
       "      <td>1.66</td>\n",
       "    </tr>\n",
       "    <tr>\n",
       "      <th>2</th>\n",
       "      <td>31940337633</td>\n",
       "      <td>4.534680e+15</td>\n",
       "      <td>http://402.appspot.com/create/preview?survey=2...</td>\n",
       "      <td>4</td>\n",
       "      <td>I like trump                                 ...</td>\n",
       "      <td>...</td>\n",
       "      <td>Larry</td>\n",
       "      <td>Male</td>\n",
       "      <td>3</td>\n",
       "      <td>21.01</td>\n",
       "      <td>3.50</td>\n",
       "    </tr>\n",
       "    <tr>\n",
       "      <th>3</th>\n",
       "      <td>276092405255</td>\n",
       "      <td>4.542300e+15</td>\n",
       "      <td>http://402.appspot.com/create/preview?survey=n...</td>\n",
       "      <td>4</td>\n",
       "      <td>Good video's fun and information             ...</td>\n",
       "      <td>...</td>\n",
       "      <td>Joseph</td>\n",
       "      <td>Male</td>\n",
       "      <td>2</td>\n",
       "      <td>23.68</td>\n",
       "      <td>3.31</td>\n",
       "    </tr>\n",
       "    <tr>\n",
       "      <th>4</th>\n",
       "      <td>980597602122</td>\n",
       "      <td>4.555870e+15</td>\n",
       "      <td>http://402.appspot.com/create/preview?survey=h...</td>\n",
       "      <td>4</td>\n",
       "      <td>Awesome                                      ...</td>\n",
       "      <td>...</td>\n",
       "      <td>Janice</td>\n",
       "      <td>Female</td>\n",
       "      <td>4</td>\n",
       "      <td>24.59</td>\n",
       "      <td>3.61</td>\n",
       "    </tr>\n",
       "    <tr>\n",
       "      <th>...</th>\n",
       "      <td>...</td>\n",
       "      <td>...</td>\n",
       "      <td>...</td>\n",
       "      <td>...</td>\n",
       "      <td>...</td>\n",
       "      <td>...</td>\n",
       "      <td>...</td>\n",
       "      <td>...</td>\n",
       "      <td>...</td>\n",
       "      <td>...</td>\n",
       "      <td>...</td>\n",
       "    </tr>\n",
       "    <tr>\n",
       "      <th>239</th>\n",
       "      <td>653847463608</td>\n",
       "      <td>6.172720e+15</td>\n",
       "      <td>http://402.appspot.com/create/preview?survey=v...</td>\n",
       "      <td>4</td>\n",
       "      <td>Really entertaining                          ...</td>\n",
       "      <td>...</td>\n",
       "      <td>Kevin</td>\n",
       "      <td>Male</td>\n",
       "      <td>3</td>\n",
       "      <td>29.03</td>\n",
       "      <td>5.92</td>\n",
       "    </tr>\n",
       "    <tr>\n",
       "      <th>240</th>\n",
       "      <td>456469808284</td>\n",
       "      <td>6.174960e+15</td>\n",
       "      <td>http://402.appspot.com/create/preview?survey=u...</td>\n",
       "      <td>4</td>\n",
       "      <td>I've watched videos from that channel before ...</td>\n",
       "      <td>...</td>\n",
       "      <td>Sandra</td>\n",
       "      <td>Female</td>\n",
       "      <td>2</td>\n",
       "      <td>27.18</td>\n",
       "      <td>2.00</td>\n",
       "    </tr>\n",
       "    <tr>\n",
       "      <th>241</th>\n",
       "      <td>911562808434</td>\n",
       "      <td>6.180700e+15</td>\n",
       "      <td>http://402.appspot.com/create/preview?survey=7...</td>\n",
       "      <td>4</td>\n",
       "      <td>A Euphoric emotional journey                 ...</td>\n",
       "      <td>...</td>\n",
       "      <td>Carl</td>\n",
       "      <td>Male</td>\n",
       "      <td>2</td>\n",
       "      <td>22.67</td>\n",
       "      <td>2.00</td>\n",
       "    </tr>\n",
       "    <tr>\n",
       "      <th>242</th>\n",
       "      <td>752217252432</td>\n",
       "      <td>6.196990e+15</td>\n",
       "      <td>http://402.appspot.com/create/preview?survey=f...</td>\n",
       "      <td>4</td>\n",
       "      <td>I have recently purchased this game and am th...</td>\n",
       "      <td>...</td>\n",
       "      <td>Jon</td>\n",
       "      <td>Male</td>\n",
       "      <td>2</td>\n",
       "      <td>17.82</td>\n",
       "      <td>1.75</td>\n",
       "    </tr>\n",
       "    <tr>\n",
       "      <th>243</th>\n",
       "      <td>961399146811</td>\n",
       "      <td>6.204110e+15</td>\n",
       "      <td>http://402.appspot.com/create/preview?survey=t...</td>\n",
       "      <td>4</td>\n",
       "      <td>Like the game and special effects            ...</td>\n",
       "      <td>...</td>\n",
       "      <td>Brandi</td>\n",
       "      <td>Female</td>\n",
       "      <td>2</td>\n",
       "      <td>18.78</td>\n",
       "      <td>3.00</td>\n",
       "    </tr>\n",
       "  </tbody>\n",
       "</table>\n",
       "<p>244 rows × 16 columns</p>\n",
       "</div>"
      ],
      "text/plain": [
       "             gaia      study_id  \\\n",
       "0    289121239725  4.523560e+15   \n",
       "1    519169883643  4.531430e+15   \n",
       "2     31940337633  4.534680e+15   \n",
       "3    276092405255  4.542300e+15   \n",
       "4    980597602122  4.555870e+15   \n",
       "..            ...           ...   \n",
       "239  653847463608  6.172720e+15   \n",
       "240  456469808284  6.174960e+15   \n",
       "241  911562808434  6.180700e+15   \n",
       "242  752217252432  6.196990e+15   \n",
       "243  961399146811  6.204110e+15   \n",
       "\n",
       "                                            survey_url  rating  \\\n",
       "0    http://402.appspot.com/create/preview?survey=i...       4   \n",
       "1    http://402.appspot.com/create/preview?survey=7...       4   \n",
       "2    http://402.appspot.com/create/preview?survey=2...       4   \n",
       "3    http://402.appspot.com/create/preview?survey=n...       4   \n",
       "4    http://402.appspot.com/create/preview?survey=h...       4   \n",
       "..                                                 ...     ...   \n",
       "239  http://402.appspot.com/create/preview?survey=v...       4   \n",
       "240  http://402.appspot.com/create/preview?survey=u...       4   \n",
       "241  http://402.appspot.com/create/preview?survey=7...       4   \n",
       "242  http://402.appspot.com/create/preview?survey=f...       4   \n",
       "243  http://402.appspot.com/create/preview?survey=t...       4   \n",
       "\n",
       "                                               comment  ...       name  \\\n",
       "0     Exelente                                     ...  ...   Kimberly   \n",
       "1     I have always been and always will be, enrapt...  ...   Nicholas   \n",
       "2     I like trump                                 ...  ...      Larry   \n",
       "3     Good video's fun and information             ...  ...     Joseph   \n",
       "4     Awesome                                      ...  ...     Janice   \n",
       "..                                                 ...  ...        ...   \n",
       "239   Really entertaining                          ...  ...      Kevin   \n",
       "240   I've watched videos from that channel before ...  ...     Sandra   \n",
       "241   A Euphoric emotional journey                 ...  ...       Carl   \n",
       "242   I have recently purchased this game and am th...  ...        Jon   \n",
       "243   Like the game and special effects            ...  ...     Brandi   \n",
       "\n",
       "     gender party  check   tip  \n",
       "0    Female     2  16.99  1.01  \n",
       "1      Male     3  10.34  1.66  \n",
       "2      Male     3  21.01  3.50  \n",
       "3      Male     2  23.68  3.31  \n",
       "4    Female     4  24.59  3.61  \n",
       "..      ...   ...    ...   ...  \n",
       "239    Male     3  29.03  5.92  \n",
       "240  Female     2  27.18  2.00  \n",
       "241    Male     2  22.67  2.00  \n",
       "242    Male     2  17.82  1.75  \n",
       "243  Female     2  18.78  3.00  \n",
       "\n",
       "[244 rows x 16 columns]"
      ]
     },
     "execution_count": 215,
     "metadata": {},
     "output_type": "execute_result"
    }
   ],
   "source": [
    "df_2"
   ]
  },
  {
   "cell_type": "code",
   "execution_count": 216,
   "metadata": {},
   "outputs": [
    {
     "data": {
      "text/plain": [
       "Index([u'day', u'time', u'name', u'gender', u'party', u'check', u'tip'], dtype='object')"
      ]
     },
     "execution_count": 216,
     "metadata": {},
     "output_type": "execute_result"
    }
   ],
   "source": [
    "df_1.columns"
   ]
  },
  {
   "cell_type": "code",
   "execution_count": 219,
   "metadata": {},
   "outputs": [
    {
     "ename": "SyntaxError",
     "evalue": "can't assign to function call (<ipython-input-219-d550e8b54a17>, line 1)",
     "output_type": "error",
     "traceback": [
      "\u001b[0;36m  File \u001b[0;32m\"<ipython-input-219-d550e8b54a17>\"\u001b[0;36m, line \u001b[0;32m1\u001b[0m\n\u001b[0;31m    df.isnull() *= 1\u001b[0m\n\u001b[0;31mSyntaxError\u001b[0m\u001b[0;31m:\u001b[0m can't assign to function call\n"
     ]
    }
   ],
   "source": [
    "df.isnull() *= 1"
   ]
  },
  {
   "cell_type": "code",
   "execution_count": null,
   "metadata": {
    "collapsed": true
   },
   "outputs": [],
   "source": []
  }
 ],
 "metadata": {
  "kernelspec": {
   "display_name": "Python 2",
   "language": "python",
   "name": "python2"
  },
  "language_info": {
   "codemirror_mode": {
    "name": "ipython",
    "version": 2
   },
   "file_extension": ".py",
   "mimetype": "text/x-python",
   "name": "python",
   "nbconvert_exporter": "python",
   "pygments_lexer": "ipython2",
   "version": "2.7.13"
  }
 },
 "nbformat": 4,
 "nbformat_minor": 2
}
